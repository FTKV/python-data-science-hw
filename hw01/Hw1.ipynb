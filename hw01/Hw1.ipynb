{
 "cells": [
  {
   "cell_type": "markdown",
   "metadata": {
    "colab_type": "text",
    "id": "view-in-github"
   },
   "source": [
    "<a href=\"https://colab.research.google.com/github/FTKV/python-data-science-hw/blob/main/Hw1.ipynb\" target=\"_parent\"><img src=\"https://colab.research.google.com/assets/colab-badge.svg\" alt=\"Open In Colab\"/></a>"
   ]
  },
  {
   "cell_type": "code",
   "execution_count": 6,
   "metadata": {
    "colab": {
     "base_uri": "https://localhost:8080/",
     "height": 104
    },
    "id": "4Cpw7X_5m9QQ",
    "outputId": "75ea367a-41bf-47c0-c438-2e9e9e722ee4"
   },
   "outputs": [
    {
     "data": {
      "application/vnd.google.colaboratory.intrinsic+json": {
       "type": "string"
      },
      "text/plain": [
       "'\\nДомашнє завдання\\nСтворіть одновимірний масив (вектор) з першими 10-ма натуральними числами та виведіть його значення.\\n\\nСтворіть двовимірний масив (матрицю) розміром 3x3, заповніть його нулями та виведіть його значення.\\n\\nСтворіть масив розміром 5x5, заповніть його випадковими цілими числами в діапазоні від 1 до 10 та виведіть його значення.\\n\\nСтворіть масив розміром 4x4, заповніть його випадковими дійсними числами в діапазоні від 0 до 1 та виведіть його значення.\\n\\nСтворіть два одновимірних масиви розміром 5, заповніть їх випадковими цілими числами в діапазоні від 1 до 10 та виконайте на них поелементні операції додавання, віднімання та множення.\\n\\nСтворіть два вектори розміром 7, заповніть довільними числами та знайдіть їх скалярний добуток.\\n\\nСтворіть дві матриці розміром 2x2 та 2x3, заповніть їх випадковими цілими числами в діапазоні від 1 до 10 та перемножте їх між собою.\\n\\nСтворіть матрицю розміром 3x3, заповніть її випадковими цілими числами в діапазоні від 1 до 10 та знайдіть її обернену матрицю.\\n\\nСтворіть матрицю розміром 4x4, заповніть її випадковими дійсними числами в діапазоні від 0 до 1 та транспонуйте її.\\n\\nСтворіть матрицю розміром 3x4 та вектор розміром 4, заповніть їх випадковими цілими числами в діапазоні від 1 до 10 та перемножте матрицю на вектор.\\n\\nСтворіть матрицю розміром 2x3 та вектор розміром 3, заповніть їх випадковими дійсними числами в діапазоні від 0 до 1 та перемножте матрицю на вектор.\\n\\nСтворіть дві матриці розміром 2x2, заповніть їх випадковими цілими числами в діапазоні від 1 до 10 та виконайте їхнє поелементне множення.\\n\\nСтворіть дві матриці розміром 2x2, заповніть їх випадковими цілими числами в діапазоні від 1 до 10 та знайдіть їх добуток.\\n\\nСтворіть матрицю розміром 5x5, заповніть її випадковими цілими числами в діапазоні від 1 до 100 та знайдіть суму елементів матриці.\\n\\nСтворіть дві матриці розміром 4x4, заповніть їх випадковими цілими числами в діапазоні від 1 до 10 та знайдіть їхню різницю.\\n\\nСтворіть матрицю розміром 3x3, заповніть її випадковими дійсними числами в діапазоні від 0 до 1 та знайдіть вектор-стовпчик, що містить суму елементів кожного рядка матриці.\\n\\nСтворіть матрицю розміром 3x4 з довільними цілими числами і створінь матрицю з квадратами цих чисел.\\n\\nСтворіть вектор розміром 4, заповніть його випадковими цілими числами в діапазоні від 1 до 50 та знайдіть вектор з квадратними коренями цих чисел.\\n\\nСтворіть прихований репозиторій на Гітхаб, надайте доступ ментору і усі наступні ДЗ повинні вивантажуватись у даний репозиторії.\\n\\nДз повинно бути виконано у Jupyter Nootebook,(або Google Colab) і задеплоїне на Гітхаб у вигляді файлу Hw1.ipynb Усі ячейки коду повинні бути виконані без Errors\\n'"
      ]
     },
     "execution_count": 6,
     "metadata": {},
     "output_type": "execute_result"
    }
   ],
   "source": [
    "\"\"\"\n",
    "Домашнє завдання\n",
    "\n",
    "1. Створіть одновимірний масив (вектор) з першими 10-ма натуральними числами та виведіть його значення.\n",
    "\n",
    "2. Створіть двовимірний масив (матрицю) розміром 3x3, заповніть його нулями та виведіть його значення.\n",
    "\n",
    "3. Створіть масив розміром 5x5, заповніть його випадковими цілими числами в діапазоні від 1 до 10 та виведіть його значення.\n",
    "\n",
    "4. Створіть масив розміром 4x4, заповніть його випадковими дійсними числами в діапазоні від 0 до 1 та виведіть його значення.\n",
    "\n",
    "5. Створіть два одновимірних масиви розміром 5, заповніть їх випадковими цілими числами в діапазоні від 1 до 10 та виконайте на них поелементні операції додавання, віднімання та множення.\n",
    "\n",
    "6. Створіть два вектори розміром 7, заповніть довільними числами та знайдіть їх скалярний добуток.\n",
    "\n",
    "7. Створіть дві матриці розміром 2x2 та 2x3, заповніть їх випадковими цілими числами в діапазоні від 1 до 10 та перемножте їх між собою.\n",
    "\n",
    "8. Створіть матрицю розміром 3x3, заповніть її випадковими цілими числами в діапазоні від 1 до 10 та знайдіть її обернену матрицю.\n",
    "\n",
    "9. Створіть матрицю розміром 4x4, заповніть її випадковими дійсними числами в діапазоні від 0 до 1 та транспонуйте її.\n",
    "\n",
    "10. Створіть матрицю розміром 3x4 та вектор розміром 4, заповніть їх випадковими цілими числами в діапазоні від 1 до 10 та перемножте матрицю на вектор.\n",
    "\n",
    "11. Створіть матрицю розміром 2x3 та вектор розміром 3, заповніть їх випадковими дійсними числами в діапазоні від 0 до 1 та перемножте матрицю на вектор.\n",
    "\n",
    "12. Створіть дві матриці розміром 2x2, заповніть їх випадковими цілими числами в діапазоні від 1 до 10 та виконайте їхнє поелементне множення.\n",
    "\n",
    "13. Створіть дві матриці розміром 2x2, заповніть їх випадковими цілими числами в діапазоні від 1 до 10 та знайдіть їх добуток.\n",
    "\n",
    "14. Створіть матрицю розміром 5x5, заповніть її випадковими цілими числами в діапазоні від 1 до 100 та знайдіть суму елементів матриці.\n",
    "\n",
    "15. Створіть дві матриці розміром 4x4, заповніть їх випадковими цілими числами в діапазоні від 1 до 10 та знайдіть їхню різницю.\n",
    "\n",
    "16. Створіть матрицю розміром 3x3, заповніть її випадковими дійсними числами в діапазоні від 0 до 1 та знайдіть вектор-стовпчик, що містить суму елементів кожного рядка матриці.\n",
    "\n",
    "17. Створіть матрицю розміром 3x4 з довільними цілими числами і створінь матрицю з квадратами цих чисел.\n",
    "\n",
    "18. Створіть вектор розміром 4, заповніть його випадковими цілими числами в діапазоні від 1 до 50 та знайдіть вектор з квадратними коренями цих чисел.\n",
    "\n",
    "Створіть прихований репозиторій на Гітхаб, надайте доступ ментору і усі наступні ДЗ повинні вивантажуватись у даний репозиторії.\n",
    "\n",
    "Дз повинно бути виконано у Jupyter Nootebook,(або Google Colab) і задеплоїне на Гітхаб у вигляді файлу Hw1.ipynb Усі ячейки коду повинні бути виконані без Errors\n",
    "\"\"\""
   ]
  },
  {
   "cell_type": "code",
   "execution_count": 5,
   "metadata": {
    "id": "wETV4aefnCsM"
   },
   "outputs": [],
   "source": [
    "import numpy as np"
   ]
  },
  {
   "cell_type": "code",
   "execution_count": 11,
   "metadata": {
    "colab": {
     "base_uri": "https://localhost:8080/"
    },
    "id": "0UkA91uTndLc",
    "outputId": "58ba2356-b5e0-4ffa-c6a6-fecd00b1904c"
   },
   "outputs": [
    {
     "name": "stdout",
     "output_type": "stream",
     "text": [
      "[ 1  2  3  4  5  6  7  8  9 10]\n"
     ]
    }
   ],
   "source": [
    "#1\n",
    "a = np.arange(1, 11)\n",
    "print(a)"
   ]
  },
  {
   "cell_type": "code",
   "execution_count": 13,
   "metadata": {
    "colab": {
     "base_uri": "https://localhost:8080/"
    },
    "id": "q1HX4KInoi-e",
    "outputId": "7eaf2807-df6b-4bc2-a8d7-2a0aada3d752"
   },
   "outputs": [
    {
     "name": "stdout",
     "output_type": "stream",
     "text": [
      "[[0 0 0]\n",
      " [0 0 0]\n",
      " [0 0 0]]\n"
     ]
    }
   ],
   "source": [
    "#2\n",
    "a = np.zeros((3, 3), dtype=int)\n",
    "print(a)"
   ]
  },
  {
   "cell_type": "code",
   "execution_count": 19,
   "metadata": {
    "colab": {
     "base_uri": "https://localhost:8080/"
    },
    "id": "Lb5tj8KPqna-",
    "outputId": "81402de4-6555-4de0-e6a6-d7ede922163e"
   },
   "outputs": [
    {
     "name": "stdout",
     "output_type": "stream",
     "text": [
      "[[6 7 5 5 3]\n",
      " [8 2 9 2 2]\n",
      " [7 4 5 8 9]\n",
      " [3 1 2 7 6]\n",
      " [9 3 3 5 7]]\n"
     ]
    }
   ],
   "source": [
    "#3\n",
    "a = np.random.randint(1, 10, (5, 5))\n",
    "print(a)"
   ]
  },
  {
   "cell_type": "code",
   "execution_count": 20,
   "metadata": {
    "colab": {
     "base_uri": "https://localhost:8080/"
    },
    "id": "JmXvwI-Yqzkr",
    "outputId": "d200287c-e52c-4b55-8f08-f3f794580b1e"
   },
   "outputs": [
    {
     "name": "stdout",
     "output_type": "stream",
     "text": [
      "[[0.44738993 0.89750433 0.817876   0.75166292]\n",
      " [0.00304736 0.36229351 0.06362239 0.06107425]\n",
      " [0.94492455 0.32756616 0.86298617 0.27512052]\n",
      " [0.29845244 0.21188058 0.94176167 0.47844995]]\n"
     ]
    }
   ],
   "source": [
    "#4\n",
    "a = np.random.random((4, 4))\n",
    "print(a)"
   ]
  },
  {
   "cell_type": "code",
   "execution_count": 23,
   "metadata": {
    "colab": {
     "base_uri": "https://localhost:8080/"
    },
    "id": "spfjuVKHsK1P",
    "outputId": "56f87767-ef36-493a-cd7f-b2f3e571be5c"
   },
   "outputs": [
    {
     "name": "stdout",
     "output_type": "stream",
     "text": [
      "[6 9 8 8 8]\n",
      "[5 2 3 3 4]\n",
      "[11 11 11 11 12]\n",
      "[1 7 5 5 4]\n",
      "[30 18 24 24 32]\n"
     ]
    }
   ],
   "source": [
    "#5\n",
    "a = np.random.randint(1, 10, 5)\n",
    "b = np.random.randint(1, 10, 5)\n",
    "print(a)\n",
    "print(b)\n",
    "print(a + b)\n",
    "print(a - b)\n",
    "print(a * b)"
   ]
  },
  {
   "cell_type": "code",
   "execution_count": 24,
   "metadata": {
    "colab": {
     "base_uri": "https://localhost:8080/"
    },
    "id": "KRvHqf26sYUZ",
    "outputId": "909d828d-e1c3-4f36-e19f-ae72969f66fa"
   },
   "outputs": [
    {
     "name": "stdout",
     "output_type": "stream",
     "text": [
      "[0.63852617 0.10397248 0.54497373 0.25785583 0.20228981 0.7449594\n",
      " 0.78227495]\n",
      "[0.30438706 0.04118293 0.12724121 0.10035993 0.53218239 0.04407171\n",
      " 0.48308138]\n",
      "0.8122516768842065\n"
     ]
    }
   ],
   "source": [
    "#6\n",
    "a = np.random.random(7)\n",
    "b = np.random.random(7)\n",
    "print(a)\n",
    "print(b)\n",
    "print(np.dot(a, b))"
   ]
  },
  {
   "cell_type": "code",
   "execution_count": 26,
   "metadata": {
    "colab": {
     "base_uri": "https://localhost:8080/"
    },
    "id": "V5U5l2zqwqtz",
    "outputId": "cede9786-6fd8-4993-f21d-a28124a16c22"
   },
   "outputs": [
    {
     "name": "stdout",
     "output_type": "stream",
     "text": [
      "[[3 3]\n",
      " [4 7]]\n",
      "[[7 9 7]\n",
      " [9 9 5]]\n",
      "[[48 54 36]\n",
      " [91 99 63]]\n"
     ]
    }
   ],
   "source": [
    "#7\n",
    "a = np.random.randint(1, 10, (2, 2))\n",
    "b = np.random.randint(1, 10, (2, 3))\n",
    "print(a)\n",
    "print(b)\n",
    "print(np.dot(a, b))"
   ]
  },
  {
   "cell_type": "code",
   "execution_count": 29,
   "metadata": {
    "colab": {
     "base_uri": "https://localhost:8080/"
    },
    "id": "UVXpA95PzJ8F",
    "outputId": "92ec2a5d-e20c-4a5f-d811-c84f1897001d"
   },
   "outputs": [
    {
     "name": "stdout",
     "output_type": "stream",
     "text": [
      "[[1 7 9]\n",
      " [6 7 2]\n",
      " [7 8 7]]\n",
      "[[-0.19186047 -0.13372093  0.28488372]\n",
      " [ 0.1627907   0.3255814  -0.30232558]\n",
      " [ 0.00581395 -0.23837209  0.20348837]]\n"
     ]
    }
   ],
   "source": [
    "#8\n",
    "a = np.random.randint(1, 10, (3, 3))\n",
    "print(a)\n",
    "print(np.linalg.inv(a))"
   ]
  },
  {
   "cell_type": "code",
   "execution_count": 31,
   "metadata": {
    "colab": {
     "base_uri": "https://localhost:8080/"
    },
    "id": "Ba23mJMQzo1B",
    "outputId": "cc7712d7-c2e9-4894-852f-9062069bdae4"
   },
   "outputs": [
    {
     "name": "stdout",
     "output_type": "stream",
     "text": [
      "[[0.29845356 0.29065721 0.0240448  0.8388662 ]\n",
      " [0.73149443 0.3371922  0.76479088 0.93655463]\n",
      " [0.53811569 0.2324575  0.56185433 0.40763963]\n",
      " [0.56649939 0.11166576 0.92093362 0.65072016]]\n",
      "[[0.29845356 0.73149443 0.53811569 0.56649939]\n",
      " [0.29065721 0.3371922  0.2324575  0.11166576]\n",
      " [0.0240448  0.76479088 0.56185433 0.92093362]\n",
      " [0.8388662  0.93655463 0.40763963 0.65072016]]\n"
     ]
    }
   ],
   "source": [
    "#9\n",
    "a = np.random.random((4, 4))\n",
    "print(a)\n",
    "print(a.T)"
   ]
  },
  {
   "cell_type": "code",
   "execution_count": 32,
   "metadata": {
    "colab": {
     "base_uri": "https://localhost:8080/"
    },
    "id": "FDvcqV8R0L_a",
    "outputId": "e0fd95ac-5b3b-48b3-e287-7b8f80598480"
   },
   "outputs": [
    {
     "name": "stdout",
     "output_type": "stream",
     "text": [
      "[[1 2 6 9]\n",
      " [4 2 5 5]\n",
      " [2 3 7 7]]\n",
      "[7 6 3 8]\n",
      "[109  95 109]\n"
     ]
    }
   ],
   "source": [
    "#10\n",
    "a = np.random.randint(1, 10, (3, 4))\n",
    "b = np.random.randint(1, 10, 4)\n",
    "print(a)\n",
    "print(b)\n",
    "print(np.dot(a, b))"
   ]
  },
  {
   "cell_type": "code",
   "execution_count": 33,
   "metadata": {
    "colab": {
     "base_uri": "https://localhost:8080/"
    },
    "id": "OUgnIFh00Uxb",
    "outputId": "e8767d04-7fe2-455f-a43a-74ff0b985573"
   },
   "outputs": [
    {
     "name": "stdout",
     "output_type": "stream",
     "text": [
      "[[0.17484162 0.3689401  0.07756472]\n",
      " [0.58123967 0.57421626 0.49010735]]\n",
      "[0.42406358 0.54288483 0.05866123]\n",
      "[0.27898599 0.58696617]\n"
     ]
    }
   ],
   "source": [
    "#11\n",
    "a = np.random.random((2, 3))\n",
    "b = np.random.random(3)\n",
    "print(a)\n",
    "print(b)\n",
    "print(np.dot(a, b))"
   ]
  },
  {
   "cell_type": "code",
   "execution_count": 34,
   "metadata": {
    "colab": {
     "base_uri": "https://localhost:8080/"
    },
    "id": "s7EYYvc70rre",
    "outputId": "0cc6660f-e40a-4c7b-d605-cc248b313b86"
   },
   "outputs": [
    {
     "name": "stdout",
     "output_type": "stream",
     "text": [
      "[[9 5]\n",
      " [4 2]]\n",
      "[[9 1]\n",
      " [7 1]]\n",
      "[[81  5]\n",
      " [28  2]]\n"
     ]
    }
   ],
   "source": [
    "#12\n",
    "a = np.random.randint(1, 10, (2, 2))\n",
    "b = np.random.randint(1, 10, (2, 2))\n",
    "print(a)\n",
    "print(b)\n",
    "print(a * b)"
   ]
  },
  {
   "cell_type": "code",
   "execution_count": 35,
   "metadata": {
    "colab": {
     "base_uri": "https://localhost:8080/"
    },
    "id": "MkJ2araE1A3V",
    "outputId": "436b55e4-a67d-4f9e-d75c-f52fa678789f"
   },
   "outputs": [
    {
     "name": "stdout",
     "output_type": "stream",
     "text": [
      "[[2 4]\n",
      " [8 1]]\n",
      "[[3 2]\n",
      " [8 2]]\n",
      "[[38 12]\n",
      " [32 18]]\n"
     ]
    }
   ],
   "source": [
    "#13\n",
    "a = np.random.randint(1, 10, (2, 2))\n",
    "b = np.random.randint(1, 10, (2, 2))\n",
    "print(a)\n",
    "print(b)\n",
    "print(np.dot(a, b))"
   ]
  },
  {
   "cell_type": "code",
   "execution_count": 39,
   "metadata": {
    "colab": {
     "base_uri": "https://localhost:8080/"
    },
    "id": "jTPxDtw11GQQ",
    "outputId": "c6210a6d-138c-4ab0-e5b0-4772be244146"
   },
   "outputs": [
    {
     "name": "stdout",
     "output_type": "stream",
     "text": [
      "[[64 27 33 78 15]\n",
      " [36  3 64 99 27]\n",
      " [10 66 20 40 31]\n",
      " [94 44 81 18  5]\n",
      " [70 88 43 91  9]]\n",
      "1156\n"
     ]
    }
   ],
   "source": [
    "#14\n",
    "a = np.random.randint(1, 100, (5, 5))\n",
    "print(a)\n",
    "print(a.sum())"
   ]
  },
  {
   "cell_type": "code",
   "execution_count": 38,
   "metadata": {
    "colab": {
     "base_uri": "https://localhost:8080/"
    },
    "id": "VwAApKhP1Suq",
    "outputId": "749e5466-eec8-4e15-c014-e870316237bd"
   },
   "outputs": [
    {
     "name": "stdout",
     "output_type": "stream",
     "text": [
      "[[1 7 4 7]\n",
      " [4 5 3 2]\n",
      " [6 4 5 9]\n",
      " [4 7 9 6]]\n",
      "[[8 7 1 5]\n",
      " [4 2 7 3]\n",
      " [8 4 6 4]\n",
      " [7 5 8 8]]\n",
      "[[-7  0  3  2]\n",
      " [ 0  3 -4 -1]\n",
      " [-2  0 -1  5]\n",
      " [-3  2  1 -2]]\n"
     ]
    }
   ],
   "source": [
    "#15\n",
    "a = np.random.randint(1, 10, (4, 4))\n",
    "b = np.random.randint(1, 10, (4, 4))\n",
    "print(a)\n",
    "print(b)\n",
    "print(a - b)"
   ]
  },
  {
   "cell_type": "code",
   "execution_count": 41,
   "metadata": {
    "colab": {
     "base_uri": "https://localhost:8080/"
    },
    "id": "0bHyvKoD1tEu",
    "outputId": "7d1c5c7c-3056-4446-9f13-17ea9d9b3ad9"
   },
   "outputs": [
    {
     "name": "stdout",
     "output_type": "stream",
     "text": [
      "[[0.46735119 0.93337306 0.06004385]\n",
      " [0.87695939 0.49118099 0.53220185]\n",
      " [0.79785081 0.29521708 0.11487298]]\n",
      "[1.4607681  1.90034222 1.20794088]\n"
     ]
    }
   ],
   "source": [
    "#16\n",
    "a = np.random.random((3, 3))\n",
    "print(a)\n",
    "print(a.sum(axis=1))"
   ]
  },
  {
   "cell_type": "code",
   "execution_count": 45,
   "metadata": {
    "colab": {
     "base_uri": "https://localhost:8080/"
    },
    "id": "bUtuxbVX2SjH",
    "outputId": "ab26331f-de7b-4d82-85c9-9ccf25f827bb"
   },
   "outputs": [
    {
     "name": "stdout",
     "output_type": "stream",
     "text": [
      "[[72 33  5 79]\n",
      " [76 68 93 11]\n",
      " [32  3  1 71]]\n",
      "[[5184 1089   25 6241]\n",
      " [5776 4624 8649  121]\n",
      " [1024    9    1 5041]]\n"
     ]
    }
   ],
   "source": [
    "#17\n",
    "a = np.random.randint(1, 100, (3, 4))\n",
    "print(a)\n",
    "print(a ** 2)"
   ]
  },
  {
   "cell_type": "code",
   "execution_count": 46,
   "metadata": {
    "colab": {
     "base_uri": "https://localhost:8080/"
    },
    "id": "s6SH98Uw3M8U",
    "outputId": "86cf8b6a-419d-42f6-e63a-ea00fd7c68a1"
   },
   "outputs": [
    {
     "name": "stdout",
     "output_type": "stream",
     "text": [
      "[46 38  6 20]\n",
      "[6.78232998 6.164414   2.44948974 4.47213595]\n"
     ]
    }
   ],
   "source": [
    "#18\n",
    "a = np.random.randint(1, 50, 4)\n",
    "print(a)\n",
    "print(a ** 0.5)"
   ]
  }
 ],
 "metadata": {
  "colab": {
   "authorship_tag": "ABX9TyMBQneMgjvSirq80pUEllcL",
   "include_colab_link": true,
   "provenance": []
  },
  "kernelspec": {
   "display_name": "Python 3 (ipykernel)",
   "language": "python",
   "name": "python3"
  },
  "language_info": {
   "codemirror_mode": {
    "name": "ipython",
    "version": 3
   },
   "file_extension": ".py",
   "mimetype": "text/x-python",
   "name": "python",
   "nbconvert_exporter": "python",
   "pygments_lexer": "ipython3",
   "version": "3.11.5"
  }
 },
 "nbformat": 4,
 "nbformat_minor": 4
}
