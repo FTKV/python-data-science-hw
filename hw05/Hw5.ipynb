{
 "cells": [
  {
   "cell_type": "markdown",
   "id": "ece34f08-84dd-41d3-9d83-9be4fd607032",
   "metadata": {},
   "source": [
    "### Домашнє завдання\n",
    "В домашньому завданні до даного модулю ви потренуєтесь робити тестове завдання для влаштування на роботу. За даними акселерометра з мобільного телефону потрібно класифікувати, якою діяльністю займається людина: йде, стоїть, біжить чи йде по сходах. Знайти датасет ви можете за посиланням.\n",
    "\n",
    "Використайте алгоритми SVM та випадковий ліс з бібліотеки scikit-learn. Як характеристики можете брати показники з акселерометра, проте щоб покращити результати роботи алгоритмів, спочатку можна підготувати наш датасет і розрахувати часові ознаки (time domain features). Більше ці характеристики описані в даній статобою.\n",
    "\n",
    "Порівняйте результати роботи обох алгоритмів на різних фічах та різні моделі між собою. Використайте метод classification report для порівняння.\n",
    "\n",
    "Порівняння моделей на основі однієї метрики(такої як Accuracy)- не приймається. Дз повинно бути виконано у Jupyter Nootebook,(або Google Colab) і задеплоїне на Гітхаб у вигляді файлу .ipynb."
   ]
  },
  {
   "cell_type": "code",
   "execution_count": 1,
   "id": "5e7a5210-c37b-4b79-9b29-1d4699579866",
   "metadata": {
    "tags": []
   },
   "outputs": [],
   "source": [
    "import numpy as np\n",
    "import pandas as pd\n",
    "from scipy.stats import entropy\n",
    "from pathlib import Path\n",
    "from sklearn.svm import SVC\n",
    "from sklearn.ensemble import RandomForestClassifier\n",
    "from sklearn.model_selection import train_test_split, GridSearchCV\n",
    "from sklearn.multiclass import OneVsRestClassifier\n",
    "from sklearn.metrics import accuracy_score, f1_score, classification_report"
   ]
  },
  {
   "cell_type": "markdown",
   "id": "7442bc3e-2da6-44e5-8ce6-cf075aaaeca3",
   "metadata": {},
   "source": [
    "Будуємо датасет з усіх файлів (може зайняти кілька хвилин):"
   ]
  },
  {
   "cell_type": "code",
   "execution_count": 2,
   "id": "95a04c05-b6f6-4377-b7d4-b2d3d1e67f80",
   "metadata": {},
   "outputs": [
    {
     "data": {
      "text/html": [
       "<div>\n",
       "<style scoped>\n",
       "    .dataframe tbody tr th:only-of-type {\n",
       "        vertical-align: middle;\n",
       "    }\n",
       "\n",
       "    .dataframe tbody tr th {\n",
       "        vertical-align: top;\n",
       "    }\n",
       "\n",
       "    .dataframe thead th {\n",
       "        text-align: right;\n",
       "    }\n",
       "</style>\n",
       "<table border=\"1\" class=\"dataframe\">\n",
       "  <thead>\n",
       "    <tr style=\"text-align: right;\">\n",
       "      <th></th>\n",
       "      <th>action</th>\n",
       "      <th>time</th>\n",
       "      <th>accelerometer_X</th>\n",
       "      <th>accelerometer_Y</th>\n",
       "      <th>accelerometer_Z</th>\n",
       "    </tr>\n",
       "  </thead>\n",
       "  <tbody>\n",
       "    <tr>\n",
       "      <th>0</th>\n",
       "      <td>idle</td>\n",
       "      <td>1</td>\n",
       "      <td>1.000776</td>\n",
       "      <td>4.616021</td>\n",
       "      <td>8.576031</td>\n",
       "    </tr>\n",
       "    <tr>\n",
       "      <th>1</th>\n",
       "      <td>idle</td>\n",
       "      <td>1</td>\n",
       "      <td>0.718261</td>\n",
       "      <td>4.209007</td>\n",
       "      <td>8.446744</td>\n",
       "    </tr>\n",
       "    <tr>\n",
       "      <th>2</th>\n",
       "      <td>idle</td>\n",
       "      <td>1</td>\n",
       "      <td>-0.909797</td>\n",
       "      <td>-0.282516</td>\n",
       "      <td>9.203311</td>\n",
       "    </tr>\n",
       "    <tr>\n",
       "      <th>3</th>\n",
       "      <td>idle</td>\n",
       "      <td>1</td>\n",
       "      <td>5.099650</td>\n",
       "      <td>0.148441</td>\n",
       "      <td>8.418014</td>\n",
       "    </tr>\n",
       "    <tr>\n",
       "      <th>4</th>\n",
       "      <td>idle</td>\n",
       "      <td>1</td>\n",
       "      <td>1.762132</td>\n",
       "      <td>-0.162806</td>\n",
       "      <td>9.251195</td>\n",
       "    </tr>\n",
       "    <tr>\n",
       "      <th>...</th>\n",
       "      <td>...</td>\n",
       "      <td>...</td>\n",
       "      <td>...</td>\n",
       "      <td>...</td>\n",
       "      <td>...</td>\n",
       "    </tr>\n",
       "    <tr>\n",
       "      <th>193855</th>\n",
       "      <td>walking</td>\n",
       "      <td>1850</td>\n",
       "      <td>4.529830</td>\n",
       "      <td>-12.488156</td>\n",
       "      <td>-0.378284</td>\n",
       "    </tr>\n",
       "    <tr>\n",
       "      <th>193856</th>\n",
       "      <td>walking</td>\n",
       "      <td>1850</td>\n",
       "      <td>6.871359</td>\n",
       "      <td>-11.037270</td>\n",
       "      <td>4.620809</td>\n",
       "    </tr>\n",
       "    <tr>\n",
       "      <th>193857</th>\n",
       "      <td>walking</td>\n",
       "      <td>1850</td>\n",
       "      <td>7.259220</td>\n",
       "      <td>-6.244078</td>\n",
       "      <td>1.355118</td>\n",
       "    </tr>\n",
       "    <tr>\n",
       "      <th>193858</th>\n",
       "      <td>walking</td>\n",
       "      <td>1850</td>\n",
       "      <td>6.143522</td>\n",
       "      <td>0.550666</td>\n",
       "      <td>11.391612</td>\n",
       "    </tr>\n",
       "    <tr>\n",
       "      <th>193859</th>\n",
       "      <td>walking</td>\n",
       "      <td>1850</td>\n",
       "      <td>5.573702</td>\n",
       "      <td>1.230620</td>\n",
       "      <td>7.307104</td>\n",
       "    </tr>\n",
       "  </tbody>\n",
       "</table>\n",
       "<p>193860 rows × 5 columns</p>\n",
       "</div>"
      ],
      "text/plain": [
       "         action  time  accelerometer_X  accelerometer_Y  accelerometer_Z\n",
       "0          idle     1         1.000776         4.616021         8.576031\n",
       "1          idle     1         0.718261         4.209007         8.446744\n",
       "2          idle     1        -0.909797        -0.282516         9.203311\n",
       "3          idle     1         5.099650         0.148441         8.418014\n",
       "4          idle     1         1.762132        -0.162806         9.251195\n",
       "...         ...   ...              ...              ...              ...\n",
       "193855  walking  1850         4.529830       -12.488156        -0.378284\n",
       "193856  walking  1850         6.871359       -11.037270         4.620809\n",
       "193857  walking  1850         7.259220        -6.244078         1.355118\n",
       "193858  walking  1850         6.143522         0.550666        11.391612\n",
       "193859  walking  1850         5.573702         1.230620         7.307104\n",
       "\n",
       "[193860 rows x 5 columns]"
      ]
     },
     "execution_count": 2,
     "metadata": {},
     "output_type": "execute_result"
    }
   ],
   "source": [
    "path = Path(\"./data\")\n",
    "df = pd.DataFrame()\n",
    "for el in path.iterdir():\n",
    "    if el.is_dir():\n",
    "        for elem in el.iterdir():\n",
    "            if elem.is_file():\n",
    "                tmp = pd.read_csv(elem)\n",
    "                splited_name = elem.stem.rsplit(\"-\")\n",
    "                tmp.insert(0,\"time\", int(splited_name[1]))\n",
    "                tmp.insert(0,\"action\", el.name)\n",
    "                df = pd.concat([df, tmp], axis=0, ignore_index=True)\n",
    "df = df.sort_values(by=[\"action\", \"time\"], ignore_index=True)\n",
    "df"
   ]
  },
  {
   "cell_type": "markdown",
   "id": "f42149a6-d10a-4d32-8997-fdba4e047b47",
   "metadata": {},
   "source": [
    "Виконуємо обчислення та будуємо новий датасет з time domain features на основі даних попереднього. Фактично, це відомі (одні більше, інші менше) функції мінімуму, максимуму, медіани, мат. очікування, стандартного відхилення, коефіцієнту асиметрії, двійкової ентропії та міжквартильного розмаху вибірки, розраховані на множині 30-семплових наборів значень прискорення для кожної 3D-осі акселерометра окремо, що відповідають окремим файлам отриманих даних."
   ]
  },
  {
   "cell_type": "code",
   "execution_count": 3,
   "id": "60f90700-ac0d-41a3-9023-e238a28d6bc2",
   "metadata": {},
   "outputs": [],
   "source": [
    "df_stats = df.groupby([\"action\", \"time\"]).agg(acc_X_min = ('accelerometer_X', 'min'),\n",
    "                                   acc_X_max = ('accelerometer_X', 'max'),\n",
    "                                   acc_X_median = ('accelerometer_X', 'median'),\n",
    "                                   acc_X_mean = ('accelerometer_X', 'mean'),\n",
    "                                   acc_X_std = ('accelerometer_X', 'std'),\n",
    "                                   acc_X_skew = ('accelerometer_X', 'skew'),\n",
    "                                   acc_X_entropy = ('accelerometer_X', lambda x : entropy(x.value_counts(), base=2)),\n",
    "                                   acc_X_IQR = ('accelerometer_X', lambda x : x.quantile(0.75) - x.quantile(0.25)),\n",
    "                                   acc_Y_min = ('accelerometer_Y', 'min'),\n",
    "                                   acc_Y_max = ('accelerometer_Y', 'max'),\n",
    "                                   acc_Y_median = ('accelerometer_Y', 'median'),\n",
    "                                   acc_Y_mean = ('accelerometer_Y', 'mean'),\n",
    "                                   acc_Y_std = ('accelerometer_Y', 'std'),\n",
    "                                   acc_Y_skew = ('accelerometer_Y', 'skew'),\n",
    "                                   acc_Y_entropy = ('accelerometer_Y', lambda x : entropy(x.value_counts(), base=2)),\n",
    "                                   acc_Y_IQR = ('accelerometer_Y', lambda x : x.quantile(0.75) - x.quantile(0.25)),\n",
    "                                   acc_Z_min = ('accelerometer_Z', 'min'),\n",
    "                                   acc_Z_max = ('accelerometer_Z', 'max'),\n",
    "                                   acc_Z_median = ('accelerometer_Z', 'median'),\n",
    "                                   acc_Z_mean = ('accelerometer_Z', 'mean'),\n",
    "                                   acc_Z_std = ('accelerometer_Z', 'std'),\n",
    "                                   acc_Z_skew = ('accelerometer_Z', 'skew'),\n",
    "                                   acc_Z_entropy = ('accelerometer_Z', lambda x : entropy(x.value_counts(), base=2)),\n",
    "                                   acc_Z_IQR = ('accelerometer_Z', lambda x : x.quantile(0.75) - x.quantile(0.25)),\n",
    "                                  ).reset_index()"
   ]
  },
  {
   "cell_type": "markdown",
   "id": "287de921-376d-4f76-9575-22b3652e173c",
   "metadata": {},
   "source": [
    "Розбиваємо вибірку на окремі вибірки з ознаками та цільовою змінною відповідно:"
   ]
  },
  {
   "cell_type": "code",
   "execution_count": 4,
   "id": "8dec3ca0-9996-4939-b097-15dc21716737",
   "metadata": {},
   "outputs": [],
   "source": [
    "y = df_stats[\"action\"]\n",
    "X = df_stats.drop(columns=[\"action\"])"
   ]
  },
  {
   "cell_type": "markdown",
   "id": "0afafd4f-ae5c-43bd-a2a0-9b89f67c2220",
   "metadata": {},
   "source": [
    "Виділяємо окремо навчальні вибірки та тестові:"
   ]
  },
  {
   "cell_type": "code",
   "execution_count": 5,
   "id": "1e22049b-3bcf-4557-ab4c-b724bbe52d68",
   "metadata": {},
   "outputs": [],
   "source": [
    "X_train, X_test, y_train, y_test = train_test_split(X, y, test_size=0.2, random_state=42, stratify=y)"
   ]
  },
  {
   "cell_type": "code",
   "execution_count": 6,
   "id": "1b92c622-c222-4f61-b5fc-d228e93c3446",
   "metadata": {},
   "outputs": [],
   "source": [
    "base_features = [\n",
    "    \"acc_X_min\",\n",
    "    \"acc_X_max\",\n",
    "    \"acc_X_median\",\n",
    "    \"acc_X_mean\",\n",
    "    \"acc_Y_min\",\n",
    "    \"acc_Y_max\",\n",
    "    \"acc_Y_median\",\n",
    "    \"acc_Y_mean\",\n",
    "    \"acc_Z_min\",\n",
    "    \"acc_Z_max\",\n",
    "    \"acc_Z_median\",\n",
    "    \"acc_Z_mean\",\n",
    "]\n",
    "additional_features = {\n",
    "    \"no additional features\": [],\n",
    "    \"std\": [\"acc_X_std\", \"acc_Y_std\", \"acc_Z_std\"],\n",
    "    \"skew\": [\"acc_X_skew\", \"acc_Y_skew\", \"acc_Z_skew\"],\n",
    "    \"entropy\": [\"acc_X_entropy\", \"acc_Y_entropy\", \"acc_Z_entropy\"],\n",
    "    \"IQR\": [\"acc_X_IQR\", \"acc_Y_IQR\", \"acc_Z_IQR\"],\n",
    "    \"all features\": [\n",
    "        \"acc_X_std\",\n",
    "        \"acc_Y_std\",\n",
    "        \"acc_Z_std\",\n",
    "        \"acc_X_skew\",\n",
    "        \"acc_Y_skew\",\n",
    "        \"acc_Z_skew\",\n",
    "        \"acc_X_entropy\",\n",
    "        \"acc_Y_entropy\",\n",
    "        \"acc_Z_entropy\",\n",
    "        \"acc_X_IQR\",\n",
    "        \"acc_Y_IQR\",\n",
    "        \"acc_Z_IQR\",\n",
    "    ],\n",
    "}"
   ]
  },
  {
   "cell_type": "markdown",
   "id": "68efb575-d21b-4dd6-9c30-8b71da7a94c2",
   "metadata": {},
   "source": [
    "Будуємо SVM (Support Vector Machine) класифікатор та сітку параметрів для навчання:"
   ]
  },
  {
   "cell_type": "code",
   "execution_count": 7,
   "id": "a7144ee6-0a22-4c3b-b5ca-a41096a2c345",
   "metadata": {},
   "outputs": [],
   "source": [
    "svm_param_dist = {\n",
    "    \"estimator__n_epochs\": list(np.arange(10, 50, 10)),\n",
    "    \"estimator__lr_all\": [\"linear\", \"poly\", \"rbf\", \"sigmoid\"],\n",
    "    \"estimator__reg_all\": [\"linear\", \"poly\", \"rbf\", \"sigmoid\"],\n",
    "}\n",
    "svm_classifier = OneVsRestClassifier(\n",
    "    SVC(probability=True, tol=0.0001, random_state=42), n_jobs=8\n",
    ")\n",
    "svm_grid_search = GridSearchCV(\n",
    "    svm_classifier,\n",
    "    param_grid=svm_param_dist,\n",
    "    scoring=[\"accuracy\", \"f1_macro\"],\n",
    "    refit=\"f1_macro\",\n",
    "    cv=3,\n",
    ")"
   ]
  },
  {
   "cell_type": "markdown",
   "id": "4836d598-cc2a-4c30-9926-b7006037b76f",
   "metadata": {},
   "source": [
    "Проводимо навчання SVM класифікатора з різними параметрами та з використанням різних наборів ознак (може зайняти кілька десятків хвилин):"
   ]
  },
  {
   "cell_type": "code",
   "execution_count": 8,
   "id": "8d08a096-9a98-48fa-8ba1-57895bb84117",
   "metadata": {},
   "outputs": [
    {
     "name": "stdout",
     "output_type": "stream",
     "text": [
      "SVM classifier with no additional features:\n",
      "Accuracy: 0.98840\n",
      "f1_macro: 0.93142\n",
      "              precision    recall  f1-score   support\n",
      "\n",
      "        idle       1.00      1.00      1.00       208\n",
      "     running       1.00      1.00      1.00       682\n",
      "      stairs       0.85      0.67      0.75        33\n",
      "     walking       0.97      0.99      0.98       370\n",
      "\n",
      "    accuracy                           0.99      1293\n",
      "   macro avg       0.95      0.91      0.93      1293\n",
      "weighted avg       0.99      0.99      0.99      1293\n",
      "\n",
      "SVM classifier with std:\n",
      "Accuracy: 0.98840\n",
      "f1_macro: 0.93142\n",
      "              precision    recall  f1-score   support\n",
      "\n",
      "        idle       1.00      1.00      1.00       208\n",
      "     running       1.00      1.00      1.00       682\n",
      "      stairs       0.85      0.67      0.75        33\n",
      "     walking       0.97      0.99      0.98       370\n",
      "\n",
      "    accuracy                           0.99      1293\n",
      "   macro avg       0.95      0.91      0.93      1293\n",
      "weighted avg       0.99      0.99      0.99      1293\n",
      "\n",
      "SVM classifier with skew:\n",
      "Accuracy: 0.98840\n",
      "f1_macro: 0.93142\n",
      "              precision    recall  f1-score   support\n",
      "\n",
      "        idle       1.00      1.00      1.00       208\n",
      "     running       1.00      1.00      1.00       682\n",
      "      stairs       0.85      0.67      0.75        33\n",
      "     walking       0.97      0.99      0.98       370\n",
      "\n",
      "    accuracy                           0.99      1293\n",
      "   macro avg       0.95      0.91      0.93      1293\n",
      "weighted avg       0.99      0.99      0.99      1293\n",
      "\n",
      "SVM classifier with entropy:\n",
      "Accuracy: 0.98763\n",
      "f1_macro: 0.92569\n",
      "              precision    recall  f1-score   support\n",
      "\n",
      "        idle       1.00      1.00      1.00       208\n",
      "     running       1.00      1.00      1.00       682\n",
      "      stairs       0.84      0.64      0.72        33\n",
      "     walking       0.97      0.99      0.98       370\n",
      "\n",
      "    accuracy                           0.99      1293\n",
      "   macro avg       0.95      0.91      0.93      1293\n",
      "weighted avg       0.99      0.99      0.99      1293\n",
      "\n",
      "SVM classifier with IQR:\n",
      "Accuracy: 0.98917\n",
      "f1_macro: 0.93697\n",
      "              precision    recall  f1-score   support\n",
      "\n",
      "        idle       1.00      1.00      1.00       208\n",
      "     running       1.00      1.00      1.00       682\n",
      "      stairs       0.85      0.70      0.77        33\n",
      "     walking       0.97      0.99      0.98       370\n",
      "\n",
      "    accuracy                           0.99      1293\n",
      "   macro avg       0.96      0.92      0.94      1293\n",
      "weighted avg       0.99      0.99      0.99      1293\n",
      "\n",
      "SVM classifier with all features:\n",
      "Accuracy: 0.98917\n",
      "f1_macro: 0.93697\n",
      "              precision    recall  f1-score   support\n",
      "\n",
      "        idle       1.00      1.00      1.00       208\n",
      "     running       1.00      1.00      1.00       682\n",
      "      stairs       0.85      0.70      0.77        33\n",
      "     walking       0.97      0.99      0.98       370\n",
      "\n",
      "    accuracy                           0.99      1293\n",
      "   macro avg       0.96      0.92      0.94      1293\n",
      "weighted avg       0.99      0.99      0.99      1293\n",
      "\n"
     ]
    }
   ],
   "source": [
    "svm_classifiers = {}\n",
    "for key in additional_features.keys():\n",
    "    svm_grid_search.fit(X_train[base_features + additional_features[key]], y_train)\n",
    "    y_pred = svm_grid_search.predict(X_test[base_features + additional_features[key]])\n",
    "    print(f\"SVM classifier with {key}:\")\n",
    "    accuracy = accuracy_score(y_test, y_pred)\n",
    "    print(f\"Accuracy: {accuracy:.5f}\")\n",
    "    f1_macro = f1_score(y_test, y_pred, average=\"macro\")\n",
    "    print(f\"f1_macro: {f1_macro:.5f}\")\n",
    "    report = classification_report(y_test, y_pred)\n",
    "    print(report)\n",
    "    svm_classifiers[key] = svm_grid_search"
   ]
  },
  {
   "cell_type": "markdown",
   "id": "73ac7486-5c34-4bff-a03f-5686510a43a4",
   "metadata": {},
   "source": [
    "Будуємо RF (Random Forest) класифікатор та сітку параметрів для навчання:"
   ]
  },
  {
   "cell_type": "code",
   "execution_count": 9,
   "id": "5d72008d-d54f-4134-97f7-a73ee1b2c9b3",
   "metadata": {},
   "outputs": [],
   "source": [
    "rf_param_dist = {\n",
    "    \"n_estimators\": [10, 50, 100, 200],\n",
    "    \"max_depth\": [None, 10, 20, 30],\n",
    "    \"min_samples_split\": [2, 5, 10],\n",
    "    \"min_samples_leaf\": [1, 2, 4],\n",
    "}\n",
    "\n",
    "rf_classifier = RandomForestClassifier(random_state=42, n_jobs=8)\n",
    "\n",
    "rf_grid_search = GridSearchCV(\n",
    "    rf_classifier,\n",
    "    param_grid=rf_param_dist,\n",
    "    scoring=[\"accuracy\", \"f1_macro\"],\n",
    "    refit=\"f1_macro\",\n",
    "    cv=3,\n",
    ")"
   ]
  },
  {
   "cell_type": "markdown",
   "id": "b17eea49-909f-467d-8e4d-70f732e4ea6a",
   "metadata": {},
   "source": [
    "Проводимо навчання RF класифікатора з різними параметрами та з використанням різних наборів ознак (може зайняти кілька десятків хвилин):"
   ]
  },
  {
   "cell_type": "code",
   "execution_count": 10,
   "id": "1aadfad3-0716-43f1-a980-ab3bfb58f9fb",
   "metadata": {},
   "outputs": [
    {
     "name": "stdout",
     "output_type": "stream",
     "text": [
      "RF classifier with no additional features:\n",
      "Accuracy: 1.00000\n",
      "f1_macro: 1.00000\n",
      "              precision    recall  f1-score   support\n",
      "\n",
      "        idle       1.00      1.00      1.00       208\n",
      "     running       1.00      1.00      1.00       682\n",
      "      stairs       1.00      1.00      1.00        33\n",
      "     walking       1.00      1.00      1.00       370\n",
      "\n",
      "    accuracy                           1.00      1293\n",
      "   macro avg       1.00      1.00      1.00      1293\n",
      "weighted avg       1.00      1.00      1.00      1293\n",
      "\n",
      "RF classifier with std:\n",
      "Accuracy: 0.99923\n",
      "f1_macro: 0.99582\n",
      "              precision    recall  f1-score   support\n",
      "\n",
      "        idle       1.00      1.00      1.00       208\n",
      "     running       1.00      1.00      1.00       682\n",
      "      stairs       1.00      0.97      0.98        33\n",
      "     walking       1.00      1.00      1.00       370\n",
      "\n",
      "    accuracy                           1.00      1293\n",
      "   macro avg       1.00      0.99      1.00      1293\n",
      "weighted avg       1.00      1.00      1.00      1293\n",
      "\n",
      "RF classifier with skew:\n",
      "Accuracy: 0.99923\n",
      "f1_macro: 0.99582\n",
      "              precision    recall  f1-score   support\n",
      "\n",
      "        idle       1.00      1.00      1.00       208\n",
      "     running       1.00      1.00      1.00       682\n",
      "      stairs       1.00      0.97      0.98        33\n",
      "     walking       1.00      1.00      1.00       370\n",
      "\n",
      "    accuracy                           1.00      1293\n",
      "   macro avg       1.00      0.99      1.00      1293\n",
      "weighted avg       1.00      1.00      1.00      1293\n",
      "\n",
      "RF classifier with entropy:\n",
      "Accuracy: 1.00000\n",
      "f1_macro: 1.00000\n",
      "              precision    recall  f1-score   support\n",
      "\n",
      "        idle       1.00      1.00      1.00       208\n",
      "     running       1.00      1.00      1.00       682\n",
      "      stairs       1.00      1.00      1.00        33\n",
      "     walking       1.00      1.00      1.00       370\n",
      "\n",
      "    accuracy                           1.00      1293\n",
      "   macro avg       1.00      1.00      1.00      1293\n",
      "weighted avg       1.00      1.00      1.00      1293\n",
      "\n",
      "RF classifier with IQR:\n",
      "Accuracy: 0.99923\n",
      "f1_macro: 0.99582\n",
      "              precision    recall  f1-score   support\n",
      "\n",
      "        idle       1.00      1.00      1.00       208\n",
      "     running       1.00      1.00      1.00       682\n",
      "      stairs       1.00      0.97      0.98        33\n",
      "     walking       1.00      1.00      1.00       370\n",
      "\n",
      "    accuracy                           1.00      1293\n",
      "   macro avg       1.00      0.99      1.00      1293\n",
      "weighted avg       1.00      1.00      1.00      1293\n",
      "\n",
      "RF classifier with all features:\n",
      "Accuracy: 0.99923\n",
      "f1_macro: 0.99582\n",
      "              precision    recall  f1-score   support\n",
      "\n",
      "        idle       1.00      1.00      1.00       208\n",
      "     running       1.00      1.00      1.00       682\n",
      "      stairs       1.00      0.97      0.98        33\n",
      "     walking       1.00      1.00      1.00       370\n",
      "\n",
      "    accuracy                           1.00      1293\n",
      "   macro avg       1.00      0.99      1.00      1293\n",
      "weighted avg       1.00      1.00      1.00      1293\n",
      "\n"
     ]
    }
   ],
   "source": [
    "rf_classifiers = {}\n",
    "for key in additional_features.keys():\n",
    "    rf_grid_search.fit(X_train[base_features + additional_features[key]], y_train)\n",
    "    y_pred = rf_grid_search.predict(X_test[base_features + additional_features[key]])\n",
    "    print(f\"RF classifier with {key}:\")\n",
    "    accuracy = accuracy_score(y_test, y_pred)\n",
    "    print(f\"Accuracy: {accuracy:.5f}\")\n",
    "    f1_macro = f1_score(y_test, y_pred, average=\"macro\")\n",
    "    print(f\"f1_macro: {f1_macro:.5f}\")\n",
    "    report = classification_report(y_test, y_pred)\n",
    "    print(report)\n",
    "    rf_classifiers[key] = rf_grid_search"
   ]
  },
  {
   "cell_type": "markdown",
   "id": "c8e3bf25-4302-4e49-83f7-8be4e86ee3ad",
   "metadata": {},
   "source": [
    "Подивимося на параметри найкращих отриманих Random Forest класифікаторів:"
   ]
  },
  {
   "cell_type": "code",
   "execution_count": 11,
   "id": "ca4eeeec-e6a7-4260-a784-695f2c3ddb96",
   "metadata": {},
   "outputs": [
    {
     "data": {
      "text/plain": [
       "{'max_depth': None,\n",
       " 'min_samples_leaf': 1,\n",
       " 'min_samples_split': 2,\n",
       " 'n_estimators': 100}"
      ]
     },
     "execution_count": 11,
     "metadata": {},
     "output_type": "execute_result"
    }
   ],
   "source": [
    "rf_classifiers[\"no additional features\"].best_params_"
   ]
  },
  {
   "cell_type": "code",
   "execution_count": 12,
   "id": "27a07d2b-3f2a-4d08-b913-7b90c4639e75",
   "metadata": {},
   "outputs": [
    {
     "data": {
      "text/plain": [
       "{'max_depth': None,\n",
       " 'min_samples_leaf': 1,\n",
       " 'min_samples_split': 2,\n",
       " 'n_estimators': 100}"
      ]
     },
     "execution_count": 12,
     "metadata": {},
     "output_type": "execute_result"
    }
   ],
   "source": [
    "rf_classifiers[\"entropy\"].best_params_"
   ]
  },
  {
   "cell_type": "markdown",
   "id": "e644eb61-7de7-46ac-803a-06d3f9981108",
   "metadata": {},
   "source": [
    "### Висновок:\n",
    "По результату навчання моделей, що виконують класифікацію за методом опорних векторів, було отримано доволі очікуваний результат - моделі дуже добре виконують класифікацію, хоча все ж один клас з чотирьох, а саме клас stairs (розпізнавання руху користувача по сходах на основі даних акселерометра) розпізнається трохи гірше (інші класи - idle (стояння на місці), running (біг), walking (ходьба)). І найкращий результат показала модель, що навчалася на повному наборі ознак, та модель, що навчалася на мінімальному наборі ознак (мінімум, максимум, медіана, середнє арифметичне) плюс міжквартильний розмах.  \n",
    "Несподіваний результат показали моделі випадкового лісу. Дві з них, а саме модель, що навчалася на мінімальному наборі ознак, та модель, що навчалася на мінімальному наборі плюс ентропія, виявилися здатними виконувати безпомилкову класифікацію. Це підтверджує те, що алгоритм випадкового лісу чудово підходить для вирішення нашої задачі."
   ]
  }
 ],
 "metadata": {
  "kernelspec": {
   "display_name": "Python 3 (ipykernel)",
   "language": "python",
   "name": "python3"
  },
  "language_info": {
   "codemirror_mode": {
    "name": "ipython",
    "version": 3
   },
   "file_extension": ".py",
   "mimetype": "text/x-python",
   "name": "python",
   "nbconvert_exporter": "python",
   "pygments_lexer": "ipython3",
   "version": "3.11.5"
  }
 },
 "nbformat": 4,
 "nbformat_minor": 5
}
