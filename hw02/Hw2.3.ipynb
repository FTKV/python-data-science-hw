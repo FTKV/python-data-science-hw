{
 "cells": [
  {
   "cell_type": "markdown",
   "id": "f21f7bc1-9764-4b98-9d83-e8a1d6b2a5ba",
   "metadata": {},
   "source": [
    "# Домашнє завдання\n",
    "Не турбуйтеся, якщо у вас не буде все одразу виходити. Робота будь-якого дата саєнтіста тісно пов'язана з пошуком та дослідженнями, тому дуже важливо навчитися шукати потрібну інформацію та адаптувати її під свої потреби. Також, з будь-якими питаннями ви можете звертатися до ментора."
   ]
  },
  {
   "cell_type": "markdown",
   "id": "e6d911e4-0110-4d9e-88d6-e3f13eda995f",
   "metadata": {},
   "source": [
    "## Частина третя: Аналіз датасет c Kaggle.com\n",
    "У цій частині домашньої роботи ми ще більше заглибимося в бібліотеку pandas та розглянемо просунутіші функції.\n",
    "\n",
    "Для цієї вправи ми використовуємо дані за Топ-50 рейтингом книг, що найбільше продаються на Amazon за 11 років (з 2009 по 2019). Датасет знаходиться у відкритому доступі на Kaggle.com. Завантажте файл csv за посиланням і перемістіть його в ту саму директорію, де знаходиться ваш робочий ноутбук (для зручності). Після цього переходьте до завдання\n",
    "\n",
    "Для виконання цієї частини домашнього завдання потрібно буде не тільки написати код, а й відповісти на супутні запитання. Там, де ви побачите виділений жирним шрифтом напис відповідь: потрібно буде вставити питання у файл і відповідь на нього.\n",
    "\n",
    "Наприклад:\n",
    "\n",
    "Яка бібліотека використовується для роботи з датафреймами у python? Відповідь: pandas"
   ]
  },
  {
   "cell_type": "code",
   "execution_count": 1,
   "id": "54873850-830f-4b1f-862b-9f060cda49d7",
   "metadata": {},
   "outputs": [],
   "source": [
    "import pandas as pd\n",
    "import matplotlib.pyplot as plt\n",
    "import seaborn as sns\n",
    "\n",
    "%matplotlib inline"
   ]
  },
  {
   "cell_type": "markdown",
   "id": "1c10f333-cc94-4058-83c9-881e60266a28",
   "metadata": {},
   "source": [
    "Необхідно виконати:"
   ]
  },
  {
   "cell_type": "markdown",
   "id": "b9c5c0b3-ac72-4e47-a5ee-c6e7f3546816",
   "metadata": {},
   "source": [
    "Прочитайте csv файл (використовуйте функцію read_csv)"
   ]
  },
  {
   "cell_type": "code",
   "execution_count": 2,
   "id": "0e514e0f-b74f-44d0-8bfd-d1cf8b262d66",
   "metadata": {},
   "outputs": [],
   "source": [
    "data = pd.read_csv(\"bestsellers with categories.csv\")"
   ]
  },
  {
   "cell_type": "markdown",
   "id": "64d4148e-ba2e-4e5a-a7e2-a94973776038",
   "metadata": {},
   "source": [
    "Виведіть перші п'ять рядків (використовується функція head)"
   ]
  },
  {
   "cell_type": "code",
   "execution_count": 3,
   "id": "919a08c3-c1e1-4eb3-b573-7fd71bfbb8d5",
   "metadata": {},
   "outputs": [
    {
     "data": {
      "text/html": [
       "<div>\n",
       "<style scoped>\n",
       "    .dataframe tbody tr th:only-of-type {\n",
       "        vertical-align: middle;\n",
       "    }\n",
       "\n",
       "    .dataframe tbody tr th {\n",
       "        vertical-align: top;\n",
       "    }\n",
       "\n",
       "    .dataframe thead th {\n",
       "        text-align: right;\n",
       "    }\n",
       "</style>\n",
       "<table border=\"1\" class=\"dataframe\">\n",
       "  <thead>\n",
       "    <tr style=\"text-align: right;\">\n",
       "      <th></th>\n",
       "      <th>Name</th>\n",
       "      <th>Author</th>\n",
       "      <th>User Rating</th>\n",
       "      <th>Reviews</th>\n",
       "      <th>Price</th>\n",
       "      <th>Year</th>\n",
       "      <th>Genre</th>\n",
       "    </tr>\n",
       "  </thead>\n",
       "  <tbody>\n",
       "    <tr>\n",
       "      <th>0</th>\n",
       "      <td>10-Day Green Smoothie Cleanse</td>\n",
       "      <td>JJ Smith</td>\n",
       "      <td>4.7</td>\n",
       "      <td>17350</td>\n",
       "      <td>8</td>\n",
       "      <td>2016</td>\n",
       "      <td>Non Fiction</td>\n",
       "    </tr>\n",
       "    <tr>\n",
       "      <th>1</th>\n",
       "      <td>11/22/63: A Novel</td>\n",
       "      <td>Stephen King</td>\n",
       "      <td>4.6</td>\n",
       "      <td>2052</td>\n",
       "      <td>22</td>\n",
       "      <td>2011</td>\n",
       "      <td>Fiction</td>\n",
       "    </tr>\n",
       "    <tr>\n",
       "      <th>2</th>\n",
       "      <td>12 Rules for Life: An Antidote to Chaos</td>\n",
       "      <td>Jordan B. Peterson</td>\n",
       "      <td>4.7</td>\n",
       "      <td>18979</td>\n",
       "      <td>15</td>\n",
       "      <td>2018</td>\n",
       "      <td>Non Fiction</td>\n",
       "    </tr>\n",
       "    <tr>\n",
       "      <th>3</th>\n",
       "      <td>1984 (Signet Classics)</td>\n",
       "      <td>George Orwell</td>\n",
       "      <td>4.7</td>\n",
       "      <td>21424</td>\n",
       "      <td>6</td>\n",
       "      <td>2017</td>\n",
       "      <td>Fiction</td>\n",
       "    </tr>\n",
       "    <tr>\n",
       "      <th>4</th>\n",
       "      <td>5,000 Awesome Facts (About Everything!) (Natio...</td>\n",
       "      <td>National Geographic Kids</td>\n",
       "      <td>4.8</td>\n",
       "      <td>7665</td>\n",
       "      <td>12</td>\n",
       "      <td>2019</td>\n",
       "      <td>Non Fiction</td>\n",
       "    </tr>\n",
       "  </tbody>\n",
       "</table>\n",
       "</div>"
      ],
      "text/plain": [
       "                                                Name  \\\n",
       "0                      10-Day Green Smoothie Cleanse   \n",
       "1                                  11/22/63: A Novel   \n",
       "2            12 Rules for Life: An Antidote to Chaos   \n",
       "3                             1984 (Signet Classics)   \n",
       "4  5,000 Awesome Facts (About Everything!) (Natio...   \n",
       "\n",
       "                     Author  User Rating  Reviews  Price  Year        Genre  \n",
       "0                  JJ Smith          4.7    17350      8  2016  Non Fiction  \n",
       "1              Stephen King          4.6     2052     22  2011      Fiction  \n",
       "2        Jordan B. Peterson          4.7    18979     15  2018  Non Fiction  \n",
       "3             George Orwell          4.7    21424      6  2017      Fiction  \n",
       "4  National Geographic Kids          4.8     7665     12  2019  Non Fiction  "
      ]
     },
     "execution_count": 3,
     "metadata": {},
     "output_type": "execute_result"
    }
   ],
   "source": [
    "data.head()"
   ]
  },
  {
   "cell_type": "markdown",
   "id": "e6fc6b7c-3499-41cc-b4ad-1f272c1ce80f",
   "metadata": {},
   "source": [
    "Виведіть розміри датасету (використовуйте атрибут shape)"
   ]
  },
  {
   "cell_type": "code",
   "execution_count": 4,
   "id": "3ce9994f-75b7-4b15-934b-3c9644a05b5a",
   "metadata": {},
   "outputs": [
    {
     "data": {
      "text/plain": [
       "(550, 7)"
      ]
     },
     "execution_count": 4,
     "metadata": {},
     "output_type": "execute_result"
    }
   ],
   "source": [
    "data.shape"
   ]
  },
  {
   "cell_type": "markdown",
   "id": "a98189c7-1a95-469f-8748-715851a6d583",
   "metadata": {},
   "source": [
    "Про скільки книг зберігає дані датасет? Відповідь: 550"
   ]
  },
  {
   "cell_type": "markdown",
   "id": "443a924d-299d-465a-896a-dc7c6c003f1c",
   "metadata": {},
   "source": [
    "Для кожної з книг доступні 7 змінних (колонок). Давайте розглянемо їх детальніше:\n",
    "\n",
    "Name - назва книги\n",
    "\n",
    "Author - автор\n",
    "\n",
    "User Rating - рейтинг (за 5-бальною шкалою)\n",
    "\n",
    "Reviews - кількість відгуків\n",
    "\n",
    "Price - ціна (у доларах станом на 2020 рік)\n",
    "\n",
    "Year - рік, коли книга потрапила до рейтингу Топ-50\n",
    "\n",
    "Genre - жанр\n",
    "\n",
    "Для спрощення подальшої роботи давайте трохи підправимо назви змінних. Як бачите, тут усі назви починаються з великої літери, а одна - навіть містить пробіл. Це дуже небажано і може бути досить незручним. Давайте змінимо регістр на малий, а пробіл замінимо на нижнє підкреслення (snake_style). А заразом і вивчимо корисний атрибут датафрейму: columns (можна просто присвоїти список нових імен цьому атрибуту)"
   ]
  },
  {
   "cell_type": "code",
   "execution_count": 5,
   "id": "98dfda27-8018-40b1-a64c-efc49b5f5b5a",
   "metadata": {},
   "outputs": [],
   "source": [
    "data.columns = ['name', 'author', 'user_rating', 'reviews', 'price', 'year', 'genre']"
   ]
  },
  {
   "cell_type": "markdown",
   "id": "3dc99cb0-1dfe-4cf5-8c4a-299e7f9b5fc7",
   "metadata": {},
   "source": [
    "## Первинне дослідження даних"
   ]
  },
  {
   "cell_type": "markdown",
   "id": "fe31c39a-4a7e-48ab-823e-c6dc0519541b",
   "metadata": {},
   "source": [
    "Перевірте, чи у всіх рядків вистачає даних: виведіть кількість пропусків (na) у кожному зі стовпців (використовуйте функції isna та sum)"
   ]
  },
  {
   "cell_type": "code",
   "execution_count": 6,
   "id": "3f5a7bb3-f5e5-4578-a7c7-9bdee8762c94",
   "metadata": {},
   "outputs": [
    {
     "data": {
      "text/plain": [
       "name           0\n",
       "author         0\n",
       "user_rating    0\n",
       "reviews        0\n",
       "price          0\n",
       "year           0\n",
       "genre          0\n",
       "dtype: int64"
      ]
     },
     "execution_count": 6,
     "metadata": {},
     "output_type": "execute_result"
    }
   ],
   "source": [
    "data.isna().sum()"
   ]
  },
  {
   "cell_type": "markdown",
   "id": "7141a5e0-4fd2-4f55-b45a-4192316ebbd9",
   "metadata": {},
   "source": [
    "Чи є в якихось змінних пропуски? (Так / ні). Відповідь: Ні"
   ]
  },
  {
   "cell_type": "markdown",
   "id": "9cc94cb6-8988-452d-aa3e-8bd9011a1dfe",
   "metadata": {},
   "source": [
    "Перевірте, які є унікальні значення в колонці genre (використовуйте функцію unique)"
   ]
  },
  {
   "cell_type": "code",
   "execution_count": 7,
   "id": "cd5726b0-9c78-4d43-808d-f8e8120b8e4e",
   "metadata": {},
   "outputs": [
    {
     "data": {
      "text/plain": [
       "array(['Non Fiction', 'Fiction'], dtype=object)"
      ]
     },
     "execution_count": 7,
     "metadata": {},
     "output_type": "execute_result"
    }
   ],
   "source": [
    "pd.unique(data[\"genre\"])"
   ]
  },
  {
   "cell_type": "markdown",
   "id": "8dba1246-fe5f-4475-a898-f52ac8d835b7",
   "metadata": {},
   "source": [
    "Які є унікальні жанри? Відповідь: Fiction та Non Fiction"
   ]
  },
  {
   "cell_type": "markdown",
   "id": "d323992d-a64a-4d1a-8390-cf6f33c4a83a",
   "metadata": {},
   "source": [
    "Тепер подивіться на розподіл цін: побудуйте діаграму (використовуйте kind='hist')"
   ]
  },
  {
   "cell_type": "code",
   "execution_count": 8,
   "id": "a57c54f5-9d8e-48dd-a2c7-d3285fa7ce5e",
   "metadata": {},
   "outputs": [
    {
     "data": {
      "text/plain": [
       "<Axes: ylabel='Frequency'>"
      ]
     },
     "execution_count": 8,
     "metadata": {},
     "output_type": "execute_result"
    },
    {
     "data": {
      "image/png": "[encoded data removed]",
      "text/plain": [
       "<Figure size 640x480 with 1 Axes>"
      ]
     },
     "metadata": {},
     "output_type": "display_data"
    }
   ],
   "source": [
    "data[\"price\"].plot(kind='hist')"
   ]
  },
  {
   "cell_type": "markdown",
   "id": "bad7f1ec-1c79-46d2-b992-5ed4041151ac",
   "metadata": {},
   "source": [
    "Визначте, яка ціна у нас максимальна, мінімальна, середня, медіанна (використовуйте функції max, min, mean, median)"
   ]
  },
  {
   "cell_type": "code",
   "execution_count": 9,
   "id": "160d9cfd-7c07-45de-b33a-e32f707f0f96",
   "metadata": {},
   "outputs": [
    {
     "name": "stdout",
     "output_type": "stream",
     "text": [
      "Максимальна ціна? Відповідь: 105\n",
      "Мінімальна ціна? Відповідь: 0\n",
      "Середня ціна? Відповідь: 13.1\n",
      "Медіанна ціна? Відповідь: 11.0\n"
     ]
    }
   ],
   "source": [
    "print(\"Максимальна ціна? Відповідь:\", data[\"price\"].max())\n",
    "print(\"Мінімальна ціна? Відповідь:\", data[\"price\"].min())\n",
    "print(\"Середня ціна? Відповідь:\", data[\"price\"].mean())\n",
    "print(\"Медіанна ціна? Відповідь:\", data[\"price\"].median())"
   ]
  },
  {
   "cell_type": "markdown",
   "id": "4c26f408-f408-49d8-8ca1-4695c4a705a3",
   "metadata": {},
   "source": [
    "## Пошук та сортування даних"
   ]
  },
  {
   "cell_type": "code",
   "execution_count": 10,
   "id": "1c68bbdf-86fe-49d1-8fcf-08b979bf4e27",
   "metadata": {},
   "outputs": [
    {
     "name": "stdout",
     "output_type": "stream",
     "text": [
      "Який рейтинг у датасеті найвищий? Відповідь: 4.9\n"
     ]
    }
   ],
   "source": [
    "print(\"Який рейтинг у датасеті найвищий? Відповідь:\", data[\"user_rating\"].max())"
   ]
  },
  {
   "cell_type": "code",
   "execution_count": 11,
   "id": "2af3ccfe-61b5-4ab2-ac48-6ea1737f6098",
   "metadata": {},
   "outputs": [
    {
     "name": "stdout",
     "output_type": "stream",
     "text": [
      "Скільки книг мають такий рейтинг? Відповідь: 52\n"
     ]
    }
   ],
   "source": [
    "print(\"Скільки книг мають такий рейтинг? Відповідь:\", data[data[\"user_rating\"] == data[\"user_rating\"].max()][\"name\"].count())"
   ]
  },
  {
   "cell_type": "code",
   "execution_count": 12,
   "id": "40666eea-3440-4e22-a5bc-5143ecbed905",
   "metadata": {},
   "outputs": [
    {
     "name": "stdout",
     "output_type": "stream",
     "text": [
      "Яка книга має найбільше відгуків? Відповідь: Where the Crawdads Sing\n"
     ]
    }
   ],
   "source": [
    "print(\"Яка книга має найбільше відгуків? Відповідь:\", data.loc[data[\"reviews\"].idxmax()][\"name\"])"
   ]
  },
  {
   "cell_type": "code",
   "execution_count": 13,
   "id": "6b88fc1d-86f3-4bc3-a76e-d06e48aa7fa1",
   "metadata": {},
   "outputs": [
    {
     "name": "stdout",
     "output_type": "stream",
     "text": [
      "З тих книг, що потрапили до Топ-50 у 2015 році, яка книга найдорожча (можна використати проміжний датафрейм)? Відповідь: Publication Manual of the American Psychological Association, 6th Edition\n"
     ]
    }
   ],
   "source": [
    "print(\"З тих книг, що потрапили до Топ-50 у 2015 році, яка книга найдорожча (можна використати проміжний датафрейм)? Відповідь:\", data.loc[data[\"price\"][data[\"year\"] == 2015].idxmax()][\"name\"])"
   ]
  },
  {
   "cell_type": "code",
   "execution_count": 14,
   "id": "6fc8fc45-2425-4c0f-87a9-39b4d1b8cfb3",
   "metadata": {},
   "outputs": [
    {
     "name": "stdout",
     "output_type": "stream",
     "text": [
      "Скільки книг жанру Fiction потрапили до Топ-50 у 2010 році (використовуйте &)? Відповідь: 20\n"
     ]
    }
   ],
   "source": [
    "print(\"Скільки книг жанру Fiction потрапили до Топ-50 у 2010 році (використовуйте &)? Відповідь:\", data[(data[\"genre\"] == \"Fiction\") & (data[\"year\"] == 2010)][\"name\"].count())"
   ]
  },
  {
   "cell_type": "code",
   "execution_count": 15,
   "id": "cb4250c5-fdce-45c7-9023-568aad9b99ec",
   "metadata": {},
   "outputs": [
    {
     "name": "stdout",
     "output_type": "stream",
     "text": [
      "Скільки книг з рейтингом 4.9 потрапило до рейтингу у 2010 та 2011 роках (використовуйте | або функцію isin)? Відповідь: 1\n",
      "Скільки книг з рейтингом 4.9 потрапило до рейтингу у 2010 та 2011 роках (використовуйте | або функцію isin)? Відповідь: 1\n"
     ]
    }
   ],
   "source": [
    "print(\"Скільки книг з рейтингом 4.9 потрапило до рейтингу у 2010 та 2011 роках (використовуйте | або функцію isin)? Відповідь:\", data[(data[\"user_rating\"] == 4.9) & ((data[\"year\"] == 2010) | (data[\"year\"] == 2011))][\"name\"].count())\n",
    "print(\"Скільки книг з рейтингом 4.9 потрапило до рейтингу у 2010 та 2011 роках (використовуйте | або функцію isin)? Відповідь:\", data[data[\"user_rating\"] == 4.9].isin({\"year\": [2010, 2011]})[\"year\"].sum())"
   ]
  },
  {
   "cell_type": "markdown",
   "id": "631cf9ba-4c09-43eb-b7a9-1ac46658e8d7",
   "metadata": {},
   "source": [
    "І насамкінець, давайте відсортуємо за зростанням ціни всі книги, які потрапили до рейтингу в 2015 році і коштують дешевше за 8 доларів (використовуйте функцію sort_values)."
   ]
  },
  {
   "cell_type": "code",
   "execution_count": 16,
   "id": "a36eaed2-8e47-4c75-bc40-5a64677b5666",
   "metadata": {},
   "outputs": [
    {
     "data": {
      "text/html": [
       "<div>\n",
       "<style scoped>\n",
       "    .dataframe tbody tr th:only-of-type {\n",
       "        vertical-align: middle;\n",
       "    }\n",
       "\n",
       "    .dataframe tbody tr th {\n",
       "        vertical-align: top;\n",
       "    }\n",
       "\n",
       "    .dataframe thead th {\n",
       "        text-align: right;\n",
       "    }\n",
       "</style>\n",
       "<table border=\"1\" class=\"dataframe\">\n",
       "  <thead>\n",
       "    <tr style=\"text-align: right;\">\n",
       "      <th></th>\n",
       "      <th>name</th>\n",
       "      <th>author</th>\n",
       "      <th>user_rating</th>\n",
       "      <th>reviews</th>\n",
       "      <th>price</th>\n",
       "      <th>year</th>\n",
       "      <th>genre</th>\n",
       "    </tr>\n",
       "  </thead>\n",
       "  <tbody>\n",
       "    <tr>\n",
       "      <th>277</th>\n",
       "      <td>Publication Manual of the American Psychologic...</td>\n",
       "      <td>American Psychological Association</td>\n",
       "      <td>4.5</td>\n",
       "      <td>8580</td>\n",
       "      <td>46</td>\n",
       "      <td>2015</td>\n",
       "      <td>Non Fiction</td>\n",
       "    </tr>\n",
       "    <tr>\n",
       "      <th>501</th>\n",
       "      <td>Thug Kitchen: The Official Cookbook: Eat Like ...</td>\n",
       "      <td>Thug Kitchen</td>\n",
       "      <td>4.6</td>\n",
       "      <td>11128</td>\n",
       "      <td>23</td>\n",
       "      <td>2015</td>\n",
       "      <td>Non Fiction</td>\n",
       "    </tr>\n",
       "    <tr>\n",
       "      <th>132</th>\n",
       "      <td>Go Set a Watchman: A Novel</td>\n",
       "      <td>Harper Lee</td>\n",
       "      <td>3.6</td>\n",
       "      <td>14982</td>\n",
       "      <td>19</td>\n",
       "      <td>2015</td>\n",
       "      <td>Fiction</td>\n",
       "    </tr>\n",
       "    <tr>\n",
       "      <th>382</th>\n",
       "      <td>The Girl on the Train</td>\n",
       "      <td>Paula Hawkins</td>\n",
       "      <td>4.1</td>\n",
       "      <td>79446</td>\n",
       "      <td>18</td>\n",
       "      <td>2015</td>\n",
       "      <td>Fiction</td>\n",
       "    </tr>\n",
       "    <tr>\n",
       "      <th>174</th>\n",
       "      <td>Humans of New York : Stories</td>\n",
       "      <td>Brandon Stanton</td>\n",
       "      <td>4.9</td>\n",
       "      <td>2812</td>\n",
       "      <td>17</td>\n",
       "      <td>2015</td>\n",
       "      <td>Non Fiction</td>\n",
       "    </tr>\n",
       "    <tr>\n",
       "      <th>310</th>\n",
       "      <td>StrengthsFinder 2.0</td>\n",
       "      <td>Gallup</td>\n",
       "      <td>4.0</td>\n",
       "      <td>5069</td>\n",
       "      <td>17</td>\n",
       "      <td>2015</td>\n",
       "      <td>Non Fiction</td>\n",
       "    </tr>\n",
       "    <tr>\n",
       "      <th>483</th>\n",
       "      <td>The Whole30: The 30-Day Guide to Total Health ...</td>\n",
       "      <td>Melissa Hartwig Urban</td>\n",
       "      <td>4.6</td>\n",
       "      <td>7508</td>\n",
       "      <td>16</td>\n",
       "      <td>2015</td>\n",
       "      <td>Non Fiction</td>\n",
       "    </tr>\n",
       "    <tr>\n",
       "      <th>335</th>\n",
       "      <td>The 7 Habits of Highly Effective People: Power...</td>\n",
       "      <td>Stephen R. Covey</td>\n",
       "      <td>4.7</td>\n",
       "      <td>4725</td>\n",
       "      <td>16</td>\n",
       "      <td>2015</td>\n",
       "      <td>Non Fiction</td>\n",
       "    </tr>\n",
       "    <tr>\n",
       "      <th>492</th>\n",
       "      <td>The Wright Brothers</td>\n",
       "      <td>David McCullough</td>\n",
       "      <td>4.7</td>\n",
       "      <td>6169</td>\n",
       "      <td>16</td>\n",
       "      <td>2015</td>\n",
       "      <td>Non Fiction</td>\n",
       "    </tr>\n",
       "    <tr>\n",
       "      <th>34</th>\n",
       "      <td>Being Mortal: Medicine and What Matters in the...</td>\n",
       "      <td>Atul Gawande</td>\n",
       "      <td>4.8</td>\n",
       "      <td>11113</td>\n",
       "      <td>15</td>\n",
       "      <td>2015</td>\n",
       "      <td>Non Fiction</td>\n",
       "    </tr>\n",
       "    <tr>\n",
       "      <th>447</th>\n",
       "      <td>The Pioneer Woman Cooks: Dinnertime - Comfort ...</td>\n",
       "      <td>Ree Drummond</td>\n",
       "      <td>4.8</td>\n",
       "      <td>3428</td>\n",
       "      <td>14</td>\n",
       "      <td>2015</td>\n",
       "      <td>Non Fiction</td>\n",
       "    </tr>\n",
       "    <tr>\n",
       "      <th>149</th>\n",
       "      <td>Grey: Fifty Shades of Grey as Told by Christia...</td>\n",
       "      <td>E L James</td>\n",
       "      <td>4.4</td>\n",
       "      <td>25624</td>\n",
       "      <td>14</td>\n",
       "      <td>2015</td>\n",
       "      <td>Fiction</td>\n",
       "    </tr>\n",
       "    <tr>\n",
       "      <th>528</th>\n",
       "      <td>What Pet Should I Get? (Classic Seuss)</td>\n",
       "      <td>Dr. Seuss</td>\n",
       "      <td>4.7</td>\n",
       "      <td>1873</td>\n",
       "      <td>14</td>\n",
       "      <td>2015</td>\n",
       "      <td>Fiction</td>\n",
       "    </tr>\n",
       "    <tr>\n",
       "      <th>21</th>\n",
       "      <td>All the Light We Cannot See</td>\n",
       "      <td>Anthony Doerr</td>\n",
       "      <td>4.6</td>\n",
       "      <td>36348</td>\n",
       "      <td>14</td>\n",
       "      <td>2015</td>\n",
       "      <td>Fiction</td>\n",
       "    </tr>\n",
       "    <tr>\n",
       "      <th>35</th>\n",
       "      <td>Between the World and Me</td>\n",
       "      <td>Ta-Nehisi Coates</td>\n",
       "      <td>4.7</td>\n",
       "      <td>10070</td>\n",
       "      <td>13</td>\n",
       "      <td>2015</td>\n",
       "      <td>Non Fiction</td>\n",
       "    </tr>\n",
       "    <tr>\n",
       "      <th>352</th>\n",
       "      <td>The Boys in the Boat: Nine Americans and Their...</td>\n",
       "      <td>Daniel James Brown</td>\n",
       "      <td>4.8</td>\n",
       "      <td>23358</td>\n",
       "      <td>12</td>\n",
       "      <td>2015</td>\n",
       "      <td>Non Fiction</td>\n",
       "    </tr>\n",
       "    <tr>\n",
       "      <th>437</th>\n",
       "      <td>The Nightingale: A Novel</td>\n",
       "      <td>Kristin Hannah</td>\n",
       "      <td>4.8</td>\n",
       "      <td>49288</td>\n",
       "      <td>11</td>\n",
       "      <td>2015</td>\n",
       "      <td>Fiction</td>\n",
       "    </tr>\n",
       "    <tr>\n",
       "      <th>29</th>\n",
       "      <td>Balance (Angie's Extreme Stress Menders)</td>\n",
       "      <td>Angie Grace</td>\n",
       "      <td>4.6</td>\n",
       "      <td>1909</td>\n",
       "      <td>11</td>\n",
       "      <td>2015</td>\n",
       "      <td>Non Fiction</td>\n",
       "    </tr>\n",
       "    <tr>\n",
       "      <th>167</th>\n",
       "      <td>How to Win Friends &amp; Influence People</td>\n",
       "      <td>Dale Carnegie</td>\n",
       "      <td>4.7</td>\n",
       "      <td>25001</td>\n",
       "      <td>11</td>\n",
       "      <td>2015</td>\n",
       "      <td>Non Fiction</td>\n",
       "    </tr>\n",
       "    <tr>\n",
       "      <th>423</th>\n",
       "      <td>The Life-Changing Magic of Tidying Up: The Jap...</td>\n",
       "      <td>Marie Kondō</td>\n",
       "      <td>4.5</td>\n",
       "      <td>22641</td>\n",
       "      <td>11</td>\n",
       "      <td>2015</td>\n",
       "      <td>Non Fiction</td>\n",
       "    </tr>\n",
       "    <tr>\n",
       "      <th>234</th>\n",
       "      <td>Mindset: The New Psychology of Success</td>\n",
       "      <td>Carol S. Dweck</td>\n",
       "      <td>4.6</td>\n",
       "      <td>5542</td>\n",
       "      <td>10</td>\n",
       "      <td>2015</td>\n",
       "      <td>Non Fiction</td>\n",
       "    </tr>\n",
       "    <tr>\n",
       "      <th>295</th>\n",
       "      <td>Secret Garden: An Inky Treasure Hunt and Color...</td>\n",
       "      <td>Johanna Basford</td>\n",
       "      <td>4.7</td>\n",
       "      <td>9366</td>\n",
       "      <td>9</td>\n",
       "      <td>2015</td>\n",
       "      <td>Non Fiction</td>\n",
       "    </tr>\n",
       "    <tr>\n",
       "      <th>362</th>\n",
       "      <td>The Day the Crayons Quit</td>\n",
       "      <td>Drew Daywalt</td>\n",
       "      <td>4.8</td>\n",
       "      <td>8922</td>\n",
       "      <td>9</td>\n",
       "      <td>2015</td>\n",
       "      <td>Fiction</td>\n",
       "    </tr>\n",
       "    <tr>\n",
       "      <th>542</th>\n",
       "      <td>Wonder</td>\n",
       "      <td>R. J. Palacio</td>\n",
       "      <td>4.8</td>\n",
       "      <td>21625</td>\n",
       "      <td>9</td>\n",
       "      <td>2015</td>\n",
       "      <td>Fiction</td>\n",
       "    </tr>\n",
       "    <tr>\n",
       "      <th>158</th>\n",
       "      <td>Harry Potter Coloring Book</td>\n",
       "      <td>Scholastic</td>\n",
       "      <td>4.7</td>\n",
       "      <td>3564</td>\n",
       "      <td>9</td>\n",
       "      <td>2015</td>\n",
       "      <td>Non Fiction</td>\n",
       "    </tr>\n",
       "    <tr>\n",
       "      <th>433</th>\n",
       "      <td>The Martian</td>\n",
       "      <td>Andy Weir</td>\n",
       "      <td>4.7</td>\n",
       "      <td>39459</td>\n",
       "      <td>9</td>\n",
       "      <td>2015</td>\n",
       "      <td>Fiction</td>\n",
       "    </tr>\n",
       "    <tr>\n",
       "      <th>99</th>\n",
       "      <td>Enchanted Forest: An Inky Quest and Coloring b...</td>\n",
       "      <td>Johanna Basford</td>\n",
       "      <td>4.7</td>\n",
       "      <td>5413</td>\n",
       "      <td>9</td>\n",
       "      <td>2015</td>\n",
       "      <td>Non Fiction</td>\n",
       "    </tr>\n",
       "    <tr>\n",
       "      <th>23</th>\n",
       "      <td>American Sniper: The Autobiography of the Most...</td>\n",
       "      <td>Chris Kyle</td>\n",
       "      <td>4.6</td>\n",
       "      <td>15921</td>\n",
       "      <td>9</td>\n",
       "      <td>2015</td>\n",
       "      <td>Non Fiction</td>\n",
       "    </tr>\n",
       "    <tr>\n",
       "      <th>191</th>\n",
       "      <td>Jesus Calling: Enjoying Peace in His Presence ...</td>\n",
       "      <td>Sarah Young</td>\n",
       "      <td>4.9</td>\n",
       "      <td>19576</td>\n",
       "      <td>8</td>\n",
       "      <td>2015</td>\n",
       "      <td>Non Fiction</td>\n",
       "    </tr>\n",
       "    <tr>\n",
       "      <th>248</th>\n",
       "      <td>Oh, the Places You'll Go!</td>\n",
       "      <td>Dr. Seuss</td>\n",
       "      <td>4.9</td>\n",
       "      <td>21834</td>\n",
       "      <td>8</td>\n",
       "      <td>2015</td>\n",
       "      <td>Fiction</td>\n",
       "    </tr>\n",
       "    <tr>\n",
       "      <th>325</th>\n",
       "      <td>The 5 Love Languages: The Secret to Love that ...</td>\n",
       "      <td>Gary Chapman</td>\n",
       "      <td>4.8</td>\n",
       "      <td>25554</td>\n",
       "      <td>8</td>\n",
       "      <td>2015</td>\n",
       "      <td>Non Fiction</td>\n",
       "    </tr>\n",
       "    <tr>\n",
       "      <th>18</th>\n",
       "      <td>Adult Coloring Books: A Coloring Book for Adul...</td>\n",
       "      <td>Coloring Books for Adults</td>\n",
       "      <td>4.5</td>\n",
       "      <td>2426</td>\n",
       "      <td>8</td>\n",
       "      <td>2015</td>\n",
       "      <td>Non Fiction</td>\n",
       "    </tr>\n",
       "    <tr>\n",
       "      <th>350</th>\n",
       "      <td>The Book with No Pictures</td>\n",
       "      <td>B. J. Novak</td>\n",
       "      <td>4.8</td>\n",
       "      <td>8081</td>\n",
       "      <td>8</td>\n",
       "      <td>2015</td>\n",
       "      <td>Fiction</td>\n",
       "    </tr>\n",
       "    <tr>\n",
       "      <th>253</th>\n",
       "      <td>Old School (Diary of a Wimpy Kid #10)</td>\n",
       "      <td>Jeff Kinney</td>\n",
       "      <td>4.8</td>\n",
       "      <td>6169</td>\n",
       "      <td>7</td>\n",
       "      <td>2015</td>\n",
       "      <td>Fiction</td>\n",
       "    </tr>\n",
       "    <tr>\n",
       "      <th>376</th>\n",
       "      <td>The Four Agreements: A Practical Guide to Pers...</td>\n",
       "      <td>Don Miguel Ruiz</td>\n",
       "      <td>4.7</td>\n",
       "      <td>23308</td>\n",
       "      <td>6</td>\n",
       "      <td>2015</td>\n",
       "      <td>Non Fiction</td>\n",
       "    </tr>\n",
       "    <tr>\n",
       "      <th>16</th>\n",
       "      <td>Adult Coloring Book: Stress Relieving Animal D...</td>\n",
       "      <td>Blue Star Coloring</td>\n",
       "      <td>4.6</td>\n",
       "      <td>2925</td>\n",
       "      <td>6</td>\n",
       "      <td>2015</td>\n",
       "      <td>Non Fiction</td>\n",
       "    </tr>\n",
       "    <tr>\n",
       "      <th>17</th>\n",
       "      <td>Adult Coloring Book: Stress Relieving Patterns</td>\n",
       "      <td>Blue Star Coloring</td>\n",
       "      <td>4.4</td>\n",
       "      <td>2951</td>\n",
       "      <td>6</td>\n",
       "      <td>2015</td>\n",
       "      <td>Non Fiction</td>\n",
       "    </tr>\n",
       "    <tr>\n",
       "      <th>201</th>\n",
       "      <td>Killing Reagan: The Violent Assault That Chang...</td>\n",
       "      <td>Bill O'Reilly</td>\n",
       "      <td>4.6</td>\n",
       "      <td>5235</td>\n",
       "      <td>5</td>\n",
       "      <td>2015</td>\n",
       "      <td>Non Fiction</td>\n",
       "    </tr>\n",
       "    <tr>\n",
       "      <th>89</th>\n",
       "      <td>Dover Creative Haven Art Nouveau Animal Design...</td>\n",
       "      <td>Marty Noble</td>\n",
       "      <td>4.6</td>\n",
       "      <td>2134</td>\n",
       "      <td>5</td>\n",
       "      <td>2015</td>\n",
       "      <td>Non Fiction</td>\n",
       "    </tr>\n",
       "    <tr>\n",
       "      <th>478</th>\n",
       "      <td>The Very Hungry Caterpillar</td>\n",
       "      <td>Eric Carle</td>\n",
       "      <td>4.9</td>\n",
       "      <td>19546</td>\n",
       "      <td>5</td>\n",
       "      <td>2015</td>\n",
       "      <td>Fiction</td>\n",
       "    </tr>\n",
       "    <tr>\n",
       "      <th>63</th>\n",
       "      <td>Dear Zoo: A Lift-the-Flap Book</td>\n",
       "      <td>Rod Campbell</td>\n",
       "      <td>4.8</td>\n",
       "      <td>10922</td>\n",
       "      <td>5</td>\n",
       "      <td>2015</td>\n",
       "      <td>Fiction</td>\n",
       "    </tr>\n",
       "    <tr>\n",
       "      <th>55</th>\n",
       "      <td>Creative Haven Owls Coloring Book (Adult Color...</td>\n",
       "      <td>Marjorie Sarnat</td>\n",
       "      <td>4.8</td>\n",
       "      <td>3871</td>\n",
       "      <td>5</td>\n",
       "      <td>2015</td>\n",
       "      <td>Non Fiction</td>\n",
       "    </tr>\n",
       "    <tr>\n",
       "      <th>28</th>\n",
       "      <td>Baby Touch and Feel: Animals</td>\n",
       "      <td>DK</td>\n",
       "      <td>4.6</td>\n",
       "      <td>5360</td>\n",
       "      <td>5</td>\n",
       "      <td>2015</td>\n",
       "      <td>Non Fiction</td>\n",
       "    </tr>\n",
       "    <tr>\n",
       "      <th>224</th>\n",
       "      <td>Love You Forever</td>\n",
       "      <td>Robert Munsch</td>\n",
       "      <td>4.8</td>\n",
       "      <td>18613</td>\n",
       "      <td>5</td>\n",
       "      <td>2015</td>\n",
       "      <td>Fiction</td>\n",
       "    </tr>\n",
       "    <tr>\n",
       "      <th>210</th>\n",
       "      <td>Laugh-Out-Loud Jokes for Kids</td>\n",
       "      <td>Rob Elliott</td>\n",
       "      <td>4.6</td>\n",
       "      <td>6990</td>\n",
       "      <td>4</td>\n",
       "      <td>2015</td>\n",
       "      <td>Non Fiction</td>\n",
       "    </tr>\n",
       "    <tr>\n",
       "      <th>206</th>\n",
       "      <td>Knock-Knock Jokes for Kids</td>\n",
       "      <td>Rob Elliott</td>\n",
       "      <td>4.5</td>\n",
       "      <td>3673</td>\n",
       "      <td>4</td>\n",
       "      <td>2015</td>\n",
       "      <td>Non Fiction</td>\n",
       "    </tr>\n",
       "    <tr>\n",
       "      <th>123</th>\n",
       "      <td>Giraffes Can't Dance</td>\n",
       "      <td>Giles Andreae</td>\n",
       "      <td>4.8</td>\n",
       "      <td>14038</td>\n",
       "      <td>4</td>\n",
       "      <td>2015</td>\n",
       "      <td>Fiction</td>\n",
       "    </tr>\n",
       "    <tr>\n",
       "      <th>111</th>\n",
       "      <td>First 100 Words</td>\n",
       "      <td>Roger Priddy</td>\n",
       "      <td>4.7</td>\n",
       "      <td>17323</td>\n",
       "      <td>4</td>\n",
       "      <td>2015</td>\n",
       "      <td>Non Fiction</td>\n",
       "    </tr>\n",
       "    <tr>\n",
       "      <th>54</th>\n",
       "      <td>Creative Haven Creative Cats Coloring Book (Ad...</td>\n",
       "      <td>Marjorie Sarnat</td>\n",
       "      <td>4.8</td>\n",
       "      <td>4022</td>\n",
       "      <td>4</td>\n",
       "      <td>2015</td>\n",
       "      <td>Non Fiction</td>\n",
       "    </tr>\n",
       "    <tr>\n",
       "      <th>507</th>\n",
       "      <td>To Kill a Mockingbird</td>\n",
       "      <td>Harper Lee</td>\n",
       "      <td>4.8</td>\n",
       "      <td>26234</td>\n",
       "      <td>0</td>\n",
       "      <td>2015</td>\n",
       "      <td>Fiction</td>\n",
       "    </tr>\n",
       "  </tbody>\n",
       "</table>\n",
       "</div>"
      ],
      "text/plain": [
       "                                                  name  \\\n",
       "277  Publication Manual of the American Psychologic...   \n",
       "501  Thug Kitchen: The Official Cookbook: Eat Like ...   \n",
       "132                         Go Set a Watchman: A Novel   \n",
       "382                              The Girl on the Train   \n",
       "174                       Humans of New York : Stories   \n",
       "310                                StrengthsFinder 2.0   \n",
       "483  The Whole30: The 30-Day Guide to Total Health ...   \n",
       "335  The 7 Habits of Highly Effective People: Power...   \n",
       "492                                The Wright Brothers   \n",
       "34   Being Mortal: Medicine and What Matters in the...   \n",
       "447  The Pioneer Woman Cooks: Dinnertime - Comfort ...   \n",
       "149  Grey: Fifty Shades of Grey as Told by Christia...   \n",
       "528             What Pet Should I Get? (Classic Seuss)   \n",
       "21                         All the Light We Cannot See   \n",
       "35                            Between the World and Me   \n",
       "352  The Boys in the Boat: Nine Americans and Their...   \n",
       "437                           The Nightingale: A Novel   \n",
       "29            Balance (Angie's Extreme Stress Menders)   \n",
       "167              How to Win Friends & Influence People   \n",
       "423  The Life-Changing Magic of Tidying Up: The Jap...   \n",
       "234             Mindset: The New Psychology of Success   \n",
       "295  Secret Garden: An Inky Treasure Hunt and Color...   \n",
       "362                           The Day the Crayons Quit   \n",
       "542                                             Wonder   \n",
       "158                         Harry Potter Coloring Book   \n",
       "433                                        The Martian   \n",
       "99   Enchanted Forest: An Inky Quest and Coloring b...   \n",
       "23   American Sniper: The Autobiography of the Most...   \n",
       "191  Jesus Calling: Enjoying Peace in His Presence ...   \n",
       "248                          Oh, the Places You'll Go!   \n",
       "325  The 5 Love Languages: The Secret to Love that ...   \n",
       "18   Adult Coloring Books: A Coloring Book for Adul...   \n",
       "350                          The Book with No Pictures   \n",
       "253              Old School (Diary of a Wimpy Kid #10)   \n",
       "376  The Four Agreements: A Practical Guide to Pers...   \n",
       "16   Adult Coloring Book: Stress Relieving Animal D...   \n",
       "17      Adult Coloring Book: Stress Relieving Patterns   \n",
       "201  Killing Reagan: The Violent Assault That Chang...   \n",
       "89   Dover Creative Haven Art Nouveau Animal Design...   \n",
       "478                        The Very Hungry Caterpillar   \n",
       "63                      Dear Zoo: A Lift-the-Flap Book   \n",
       "55   Creative Haven Owls Coloring Book (Adult Color...   \n",
       "28                        Baby Touch and Feel: Animals   \n",
       "224                                   Love You Forever   \n",
       "210                      Laugh-Out-Loud Jokes for Kids   \n",
       "206                         Knock-Knock Jokes for Kids   \n",
       "123                               Giraffes Can't Dance   \n",
       "111                                    First 100 Words   \n",
       "54   Creative Haven Creative Cats Coloring Book (Ad...   \n",
       "507                              To Kill a Mockingbird   \n",
       "\n",
       "                                 author  user_rating  reviews  price  year  \\\n",
       "277  American Psychological Association          4.5     8580     46  2015   \n",
       "501                        Thug Kitchen          4.6    11128     23  2015   \n",
       "132                          Harper Lee          3.6    14982     19  2015   \n",
       "382                       Paula Hawkins          4.1    79446     18  2015   \n",
       "174                     Brandon Stanton          4.9     2812     17  2015   \n",
       "310                              Gallup          4.0     5069     17  2015   \n",
       "483               Melissa Hartwig Urban          4.6     7508     16  2015   \n",
       "335                    Stephen R. Covey          4.7     4725     16  2015   \n",
       "492                    David McCullough          4.7     6169     16  2015   \n",
       "34                         Atul Gawande          4.8    11113     15  2015   \n",
       "447                        Ree Drummond          4.8     3428     14  2015   \n",
       "149                           E L James          4.4    25624     14  2015   \n",
       "528                           Dr. Seuss          4.7     1873     14  2015   \n",
       "21                        Anthony Doerr          4.6    36348     14  2015   \n",
       "35                     Ta-Nehisi Coates          4.7    10070     13  2015   \n",
       "352                  Daniel James Brown          4.8    23358     12  2015   \n",
       "437                      Kristin Hannah          4.8    49288     11  2015   \n",
       "29                          Angie Grace          4.6     1909     11  2015   \n",
       "167                       Dale Carnegie          4.7    25001     11  2015   \n",
       "423                         Marie Kondō          4.5    22641     11  2015   \n",
       "234                      Carol S. Dweck          4.6     5542     10  2015   \n",
       "295                     Johanna Basford          4.7     9366      9  2015   \n",
       "362                        Drew Daywalt          4.8     8922      9  2015   \n",
       "542                       R. J. Palacio          4.8    21625      9  2015   \n",
       "158                          Scholastic          4.7     3564      9  2015   \n",
       "433                           Andy Weir          4.7    39459      9  2015   \n",
       "99                      Johanna Basford          4.7     5413      9  2015   \n",
       "23                           Chris Kyle          4.6    15921      9  2015   \n",
       "191                         Sarah Young          4.9    19576      8  2015   \n",
       "248                           Dr. Seuss          4.9    21834      8  2015   \n",
       "325                        Gary Chapman          4.8    25554      8  2015   \n",
       "18            Coloring Books for Adults          4.5     2426      8  2015   \n",
       "350                         B. J. Novak          4.8     8081      8  2015   \n",
       "253                         Jeff Kinney          4.8     6169      7  2015   \n",
       "376                     Don Miguel Ruiz          4.7    23308      6  2015   \n",
       "16                   Blue Star Coloring          4.6     2925      6  2015   \n",
       "17                   Blue Star Coloring          4.4     2951      6  2015   \n",
       "201                       Bill O'Reilly          4.6     5235      5  2015   \n",
       "89                          Marty Noble          4.6     2134      5  2015   \n",
       "478                          Eric Carle          4.9    19546      5  2015   \n",
       "63                         Rod Campbell          4.8    10922      5  2015   \n",
       "55                      Marjorie Sarnat          4.8     3871      5  2015   \n",
       "28                                   DK          4.6     5360      5  2015   \n",
       "224                       Robert Munsch          4.8    18613      5  2015   \n",
       "210                         Rob Elliott          4.6     6990      4  2015   \n",
       "206                         Rob Elliott          4.5     3673      4  2015   \n",
       "123                       Giles Andreae          4.8    14038      4  2015   \n",
       "111                        Roger Priddy          4.7    17323      4  2015   \n",
       "54                      Marjorie Sarnat          4.8     4022      4  2015   \n",
       "507                          Harper Lee          4.8    26234      0  2015   \n",
       "\n",
       "           genre  \n",
       "277  Non Fiction  \n",
       "501  Non Fiction  \n",
       "132      Fiction  \n",
       "382      Fiction  \n",
       "174  Non Fiction  \n",
       "310  Non Fiction  \n",
       "483  Non Fiction  \n",
       "335  Non Fiction  \n",
       "492  Non Fiction  \n",
       "34   Non Fiction  \n",
       "447  Non Fiction  \n",
       "149      Fiction  \n",
       "528      Fiction  \n",
       "21       Fiction  \n",
       "35   Non Fiction  \n",
       "352  Non Fiction  \n",
       "437      Fiction  \n",
       "29   Non Fiction  \n",
       "167  Non Fiction  \n",
       "423  Non Fiction  \n",
       "234  Non Fiction  \n",
       "295  Non Fiction  \n",
       "362      Fiction  \n",
       "542      Fiction  \n",
       "158  Non Fiction  \n",
       "433      Fiction  \n",
       "99   Non Fiction  \n",
       "23   Non Fiction  \n",
       "191  Non Fiction  \n",
       "248      Fiction  \n",
       "325  Non Fiction  \n",
       "18   Non Fiction  \n",
       "350      Fiction  \n",
       "253      Fiction  \n",
       "376  Non Fiction  \n",
       "16   Non Fiction  \n",
       "17   Non Fiction  \n",
       "201  Non Fiction  \n",
       "89   Non Fiction  \n",
       "478      Fiction  \n",
       "63       Fiction  \n",
       "55   Non Fiction  \n",
       "28   Non Fiction  \n",
       "224      Fiction  \n",
       "210  Non Fiction  \n",
       "206  Non Fiction  \n",
       "123      Fiction  \n",
       "111  Non Fiction  \n",
       "54   Non Fiction  \n",
       "507      Fiction  "
      ]
     },
     "execution_count": 16,
     "metadata": {},
     "output_type": "execute_result"
    }
   ],
   "source": [
    "tmp = data[data[\"year\"] == 2015].sort_values(by=[\"price\"], ascending=False)\n",
    "tmp"
   ]
  },
  {
   "cell_type": "code",
   "execution_count": 17,
   "id": "da44baa4-79c7-45da-94a4-cd8a30ed20e2",
   "metadata": {},
   "outputs": [
    {
     "name": "stdout",
     "output_type": "stream",
     "text": [
      "Яка книга остання у відсортованому списку? Відповідь: To Kill a Mockingbird\n"
     ]
    }
   ],
   "source": [
    "print(\"Яка книга остання у відсортованому списку? Відповідь:\", tmp.tail(1)[\"name\"].values[0])"
   ]
  },
  {
   "cell_type": "markdown",
   "id": "94947de7-b02a-4763-8d5c-ddfe72387f6a",
   "metadata": {},
   "source": [
    "## Агрегування даних та з'єднання таблиць\n",
    "Остання секція цього домашнього завдання включає просунутіші функції. Але не хвилюйтеся, pandas робить усі операції простими та зрозумілими."
   ]
  },
  {
   "cell_type": "markdown",
   "id": "4c3500cf-af37-453c-b120-a3d73b1823f5",
   "metadata": {},
   "source": [
    "Для початку давайте подивимося на максимальну та мінімальну ціни для кожного з жанрів (використовуйте функції groupby та agg, для підрахунку мінімальних та максимальних значень використовуйте max та min). Не беріть усі стовпці, виберіть тільки потрібні вам"
   ]
  },
  {
   "cell_type": "code",
   "execution_count": 18,
   "id": "ff3b97c8-ccaf-4938-b5e7-06d0c7ab73c6",
   "metadata": {},
   "outputs": [
    {
     "data": {
      "text/html": [
       "<div>\n",
       "<style scoped>\n",
       "    .dataframe tbody tr th:only-of-type {\n",
       "        vertical-align: middle;\n",
       "    }\n",
       "\n",
       "    .dataframe tbody tr th {\n",
       "        vertical-align: top;\n",
       "    }\n",
       "\n",
       "    .dataframe thead th {\n",
       "        text-align: right;\n",
       "    }\n",
       "</style>\n",
       "<table border=\"1\" class=\"dataframe\">\n",
       "  <thead>\n",
       "    <tr style=\"text-align: right;\">\n",
       "      <th></th>\n",
       "      <th>min</th>\n",
       "      <th>max</th>\n",
       "    </tr>\n",
       "    <tr>\n",
       "      <th>genre</th>\n",
       "      <th></th>\n",
       "      <th></th>\n",
       "    </tr>\n",
       "  </thead>\n",
       "  <tbody>\n",
       "    <tr>\n",
       "      <th>Fiction</th>\n",
       "      <td>0</td>\n",
       "      <td>82</td>\n",
       "    </tr>\n",
       "    <tr>\n",
       "      <th>Non Fiction</th>\n",
       "      <td>0</td>\n",
       "      <td>105</td>\n",
       "    </tr>\n",
       "  </tbody>\n",
       "</table>\n",
       "</div>"
      ],
      "text/plain": [
       "             min  max\n",
       "genre                \n",
       "Fiction        0   82\n",
       "Non Fiction    0  105"
      ]
     },
     "execution_count": 18,
     "metadata": {},
     "output_type": "execute_result"
    }
   ],
   "source": [
    "tmp = data.groupby([\"genre\"]).agg(min = ('price', 'min'), max = ('price', 'max'))\n",
    "tmp"
   ]
  },
  {
   "cell_type": "code",
   "execution_count": 19,
   "id": "5c2cce9b-cb35-454e-b41c-b1349d35d553",
   "metadata": {},
   "outputs": [
    {
     "name": "stdout",
     "output_type": "stream",
     "text": [
      "Максимальна ціна для жанру Fiction: Відповідь: 82\n"
     ]
    }
   ],
   "source": [
    "print(\"Максимальна ціна для жанру Fiction: Відповідь:\", tmp.loc[\"Fiction\"][\"max\"])"
   ]
  },
  {
   "cell_type": "code",
   "execution_count": 20,
   "id": "1de85900-aa23-494b-86e9-e510938ae8d0",
   "metadata": {},
   "outputs": [
    {
     "name": "stdout",
     "output_type": "stream",
     "text": [
      "Мінімальна ціна для жанру Fiction: Відповідь: 0\n"
     ]
    }
   ],
   "source": [
    "print(\"Мінімальна ціна для жанру Fiction: Відповідь:\", tmp.loc[\"Fiction\"][\"min\"])"
   ]
  },
  {
   "cell_type": "code",
   "execution_count": 21,
   "id": "69950e31-6a6e-4207-b0d2-c2fbcaf0613e",
   "metadata": {},
   "outputs": [
    {
     "name": "stdout",
     "output_type": "stream",
     "text": [
      "Максимальна ціна для жанру Non Fiction: Відповідь: 105\n"
     ]
    }
   ],
   "source": [
    "print(\"Максимальна ціна для жанру Non Fiction: Відповідь:\", tmp.loc[\"Non Fiction\"][\"max\"])"
   ]
  },
  {
   "cell_type": "code",
   "execution_count": 22,
   "id": "4ca00370-dd70-4b1d-94ba-dcda21bd7e76",
   "metadata": {},
   "outputs": [
    {
     "name": "stdout",
     "output_type": "stream",
     "text": [
      "Мінімальна ціна для жанру Non Fiction: Відповідь: 0\n"
     ]
    }
   ],
   "source": [
    "print(\"Мінімальна ціна для жанру Non Fiction: Відповідь:\", tmp.loc[\"Non Fiction\"][\"min\"])"
   ]
  },
  {
   "cell_type": "markdown",
   "id": "033d67c0-81d8-46ce-af80-beae0ef4f3c4",
   "metadata": {},
   "source": [
    "Тепер створіть новий датафрейм, який вміщатиме кількість книг для кожного з авторів (використовуйте функції groupby та agg, для підрахунку кількості використовуйте count). Не беріть усі стовпці, виберете тільки потрібні"
   ]
  },
  {
   "cell_type": "code",
   "execution_count": 23,
   "id": "37b488de-3f8d-4e4c-869d-cd73ba822170",
   "metadata": {},
   "outputs": [
    {
     "data": {
      "text/html": [
       "<div>\n",
       "<style scoped>\n",
       "    .dataframe tbody tr th:only-of-type {\n",
       "        vertical-align: middle;\n",
       "    }\n",
       "\n",
       "    .dataframe tbody tr th {\n",
       "        vertical-align: top;\n",
       "    }\n",
       "\n",
       "    .dataframe thead th {\n",
       "        text-align: right;\n",
       "    }\n",
       "</style>\n",
       "<table border=\"1\" class=\"dataframe\">\n",
       "  <thead>\n",
       "    <tr style=\"text-align: right;\">\n",
       "      <th></th>\n",
       "      <th>count</th>\n",
       "    </tr>\n",
       "    <tr>\n",
       "      <th>author</th>\n",
       "      <th></th>\n",
       "    </tr>\n",
       "  </thead>\n",
       "  <tbody>\n",
       "    <tr>\n",
       "      <th>Abraham Verghese</th>\n",
       "      <td>2</td>\n",
       "    </tr>\n",
       "    <tr>\n",
       "      <th>Adam Gasiewski</th>\n",
       "      <td>1</td>\n",
       "    </tr>\n",
       "    <tr>\n",
       "      <th>Adam Mansbach</th>\n",
       "      <td>1</td>\n",
       "    </tr>\n",
       "    <tr>\n",
       "      <th>Adir Levy</th>\n",
       "      <td>1</td>\n",
       "    </tr>\n",
       "    <tr>\n",
       "      <th>Admiral William H. McRaven</th>\n",
       "      <td>1</td>\n",
       "    </tr>\n",
       "    <tr>\n",
       "      <th>...</th>\n",
       "      <td>...</td>\n",
       "    </tr>\n",
       "    <tr>\n",
       "      <th>Walter Isaacson</th>\n",
       "      <td>3</td>\n",
       "    </tr>\n",
       "    <tr>\n",
       "      <th>William Davis</th>\n",
       "      <td>2</td>\n",
       "    </tr>\n",
       "    <tr>\n",
       "      <th>William P. Young</th>\n",
       "      <td>2</td>\n",
       "    </tr>\n",
       "    <tr>\n",
       "      <th>Wizards RPG Team</th>\n",
       "      <td>3</td>\n",
       "    </tr>\n",
       "    <tr>\n",
       "      <th>Zhi Gang Sha</th>\n",
       "      <td>2</td>\n",
       "    </tr>\n",
       "  </tbody>\n",
       "</table>\n",
       "<p>248 rows × 1 columns</p>\n",
       "</div>"
      ],
      "text/plain": [
       "                            count\n",
       "author                           \n",
       "Abraham Verghese                2\n",
       "Adam Gasiewski                  1\n",
       "Adam Mansbach                   1\n",
       "Adir Levy                       1\n",
       "Admiral William H. McRaven      1\n",
       "...                           ...\n",
       "Walter Isaacson                 3\n",
       "William Davis                   2\n",
       "William P. Young                2\n",
       "Wizards RPG Team                3\n",
       "Zhi Gang Sha                    2\n",
       "\n",
       "[248 rows x 1 columns]"
      ]
     },
     "execution_count": 23,
     "metadata": {},
     "output_type": "execute_result"
    }
   ],
   "source": [
    "tmp = data.groupby([\"author\"]).agg(count = ('name', 'count'))\n",
    "tmp"
   ]
  },
  {
   "cell_type": "code",
   "execution_count": 24,
   "id": "3915729a-36ca-4d0f-a684-7b4df6a53888",
   "metadata": {},
   "outputs": [
    {
     "name": "stdout",
     "output_type": "stream",
     "text": [
      "Якої розмірності вийшла таблиця? Відповідь: (248, 1)\n"
     ]
    }
   ],
   "source": [
    "print(\"Якої розмірності вийшла таблиця? Відповідь:\", tmp.shape)"
   ]
  },
  {
   "cell_type": "code",
   "execution_count": 25,
   "id": "4d94f14e-990f-41fe-8572-4114bf0b3dec",
   "metadata": {},
   "outputs": [
    {
     "name": "stdout",
     "output_type": "stream",
     "text": [
      "Який автор має найбільше книг? Відповідь: Jeff Kinney\n"
     ]
    }
   ],
   "source": [
    "print(\"Який автор має найбільше книг? Відповідь:\", tmp.loc[tmp[\"count\"].idxmax()].name)"
   ]
  },
  {
   "cell_type": "code",
   "execution_count": 26,
   "id": "5c78b876-7cd4-4f4e-a197-8cd2499681ba",
   "metadata": {},
   "outputs": [
    {
     "name": "stdout",
     "output_type": "stream",
     "text": [
      "Скільки книг цього автора? Відповідь: 12\n"
     ]
    }
   ],
   "source": [
    "print(\"Скільки книг цього автора? Відповідь:\", tmp.loc[tmp[\"count\"].idxmax()][\"count\"])"
   ]
  },
  {
   "cell_type": "markdown",
   "id": "649a24b4-40f4-420d-baf5-25c084d22f50",
   "metadata": {},
   "source": [
    "Тепер створіть другий датафрейм, який буде вміщати середній рейтинг для кожного автора (використовуйте функції groupby та agg, для підрахунку середнього значення використовуйте mean). Не беріть усі стовпці, виберете тільки потрібні"
   ]
  },
  {
   "cell_type": "code",
   "execution_count": 27,
   "id": "c85787ef-6df9-4c29-9e97-a02ceaf4a19a",
   "metadata": {},
   "outputs": [
    {
     "data": {
      "text/html": [
       "<div>\n",
       "<style scoped>\n",
       "    .dataframe tbody tr th:only-of-type {\n",
       "        vertical-align: middle;\n",
       "    }\n",
       "\n",
       "    .dataframe tbody tr th {\n",
       "        vertical-align: top;\n",
       "    }\n",
       "\n",
       "    .dataframe thead th {\n",
       "        text-align: right;\n",
       "    }\n",
       "</style>\n",
       "<table border=\"1\" class=\"dataframe\">\n",
       "  <thead>\n",
       "    <tr style=\"text-align: right;\">\n",
       "      <th></th>\n",
       "      <th>user_rating_mean</th>\n",
       "    </tr>\n",
       "    <tr>\n",
       "      <th>author</th>\n",
       "      <th></th>\n",
       "    </tr>\n",
       "  </thead>\n",
       "  <tbody>\n",
       "    <tr>\n",
       "      <th>Abraham Verghese</th>\n",
       "      <td>4.600000</td>\n",
       "    </tr>\n",
       "    <tr>\n",
       "      <th>Adam Gasiewski</th>\n",
       "      <td>4.400000</td>\n",
       "    </tr>\n",
       "    <tr>\n",
       "      <th>Adam Mansbach</th>\n",
       "      <td>4.800000</td>\n",
       "    </tr>\n",
       "    <tr>\n",
       "      <th>Adir Levy</th>\n",
       "      <td>4.800000</td>\n",
       "    </tr>\n",
       "    <tr>\n",
       "      <th>Admiral William H. McRaven</th>\n",
       "      <td>4.700000</td>\n",
       "    </tr>\n",
       "    <tr>\n",
       "      <th>...</th>\n",
       "      <td>...</td>\n",
       "    </tr>\n",
       "    <tr>\n",
       "      <th>Walter Isaacson</th>\n",
       "      <td>4.566667</td>\n",
       "    </tr>\n",
       "    <tr>\n",
       "      <th>William Davis</th>\n",
       "      <td>4.400000</td>\n",
       "    </tr>\n",
       "    <tr>\n",
       "      <th>William P. Young</th>\n",
       "      <td>4.600000</td>\n",
       "    </tr>\n",
       "    <tr>\n",
       "      <th>Wizards RPG Team</th>\n",
       "      <td>4.800000</td>\n",
       "    </tr>\n",
       "    <tr>\n",
       "      <th>Zhi Gang Sha</th>\n",
       "      <td>4.600000</td>\n",
       "    </tr>\n",
       "  </tbody>\n",
       "</table>\n",
       "<p>248 rows × 1 columns</p>\n",
       "</div>"
      ],
      "text/plain": [
       "                            user_rating_mean\n",
       "author                                      \n",
       "Abraham Verghese                    4.600000\n",
       "Adam Gasiewski                      4.400000\n",
       "Adam Mansbach                       4.800000\n",
       "Adir Levy                           4.800000\n",
       "Admiral William H. McRaven          4.700000\n",
       "...                                      ...\n",
       "Walter Isaacson                     4.566667\n",
       "William Davis                       4.400000\n",
       "William P. Young                    4.600000\n",
       "Wizards RPG Team                    4.800000\n",
       "Zhi Gang Sha                        4.600000\n",
       "\n",
       "[248 rows x 1 columns]"
      ]
     },
     "execution_count": 27,
     "metadata": {},
     "output_type": "execute_result"
    }
   ],
   "source": [
    "tmp_0 = data.groupby([\"author\"]).agg(user_rating_mean = ('user_rating', 'mean'))\n",
    "tmp_0"
   ]
  },
  {
   "cell_type": "code",
   "execution_count": 28,
   "id": "e0123593-f3aa-4445-b53e-39d8f9bc7c06",
   "metadata": {},
   "outputs": [
    {
     "name": "stdout",
     "output_type": "stream",
     "text": [
      "У якого автора середній рейтинг мінімальний? Відповідь: Donna Tartt\n"
     ]
    }
   ],
   "source": [
    "print(\"У якого автора середній рейтинг мінімальний? Відповідь:\", tmp_0.loc[tmp_0[\"user_rating_mean\"].idxmin()].name)"
   ]
  },
  {
   "cell_type": "code",
   "execution_count": 29,
   "id": "4d21bcb3-7d25-4838-b770-79a1a9c62c87",
   "metadata": {},
   "outputs": [
    {
     "name": "stdout",
     "output_type": "stream",
     "text": [
      "Який у цього автора середній рейтинг? Відповідь: 3.9\n"
     ]
    }
   ],
   "source": [
    "print(\"Який у цього автора середній рейтинг? Відповідь:\", tmp_0.loc[tmp_0[\"user_rating_mean\"].idxmin()][\"user_rating_mean\"])"
   ]
  },
  {
   "cell_type": "markdown",
   "id": "ed30aadd-7611-4212-9adc-a52ca918ac01",
   "metadata": {},
   "source": [
    "З'єднайте останні два датафрейми так, щоб для кожного автора було видно кількість книг та середній рейтинг (Використовуйте функцію concat з параметром axis=1). Збережіть результат у змінну"
   ]
  },
  {
   "cell_type": "code",
   "execution_count": 30,
   "id": "0a36536c-713e-4bc7-9615-4845dd0572ed",
   "metadata": {},
   "outputs": [
    {
     "data": {
      "text/html": [
       "<div>\n",
       "<style scoped>\n",
       "    .dataframe tbody tr th:only-of-type {\n",
       "        vertical-align: middle;\n",
       "    }\n",
       "\n",
       "    .dataframe tbody tr th {\n",
       "        vertical-align: top;\n",
       "    }\n",
       "\n",
       "    .dataframe thead th {\n",
       "        text-align: right;\n",
       "    }\n",
       "</style>\n",
       "<table border=\"1\" class=\"dataframe\">\n",
       "  <thead>\n",
       "    <tr style=\"text-align: right;\">\n",
       "      <th></th>\n",
       "      <th>count</th>\n",
       "      <th>user_rating_mean</th>\n",
       "    </tr>\n",
       "    <tr>\n",
       "      <th>author</th>\n",
       "      <th></th>\n",
       "      <th></th>\n",
       "    </tr>\n",
       "  </thead>\n",
       "  <tbody>\n",
       "    <tr>\n",
       "      <th>Abraham Verghese</th>\n",
       "      <td>2</td>\n",
       "      <td>4.600000</td>\n",
       "    </tr>\n",
       "    <tr>\n",
       "      <th>Adam Gasiewski</th>\n",
       "      <td>1</td>\n",
       "      <td>4.400000</td>\n",
       "    </tr>\n",
       "    <tr>\n",
       "      <th>Adam Mansbach</th>\n",
       "      <td>1</td>\n",
       "      <td>4.800000</td>\n",
       "    </tr>\n",
       "    <tr>\n",
       "      <th>Adir Levy</th>\n",
       "      <td>1</td>\n",
       "      <td>4.800000</td>\n",
       "    </tr>\n",
       "    <tr>\n",
       "      <th>Admiral William H. McRaven</th>\n",
       "      <td>1</td>\n",
       "      <td>4.700000</td>\n",
       "    </tr>\n",
       "    <tr>\n",
       "      <th>...</th>\n",
       "      <td>...</td>\n",
       "      <td>...</td>\n",
       "    </tr>\n",
       "    <tr>\n",
       "      <th>Walter Isaacson</th>\n",
       "      <td>3</td>\n",
       "      <td>4.566667</td>\n",
       "    </tr>\n",
       "    <tr>\n",
       "      <th>William Davis</th>\n",
       "      <td>2</td>\n",
       "      <td>4.400000</td>\n",
       "    </tr>\n",
       "    <tr>\n",
       "      <th>William P. Young</th>\n",
       "      <td>2</td>\n",
       "      <td>4.600000</td>\n",
       "    </tr>\n",
       "    <tr>\n",
       "      <th>Wizards RPG Team</th>\n",
       "      <td>3</td>\n",
       "      <td>4.800000</td>\n",
       "    </tr>\n",
       "    <tr>\n",
       "      <th>Zhi Gang Sha</th>\n",
       "      <td>2</td>\n",
       "      <td>4.600000</td>\n",
       "    </tr>\n",
       "  </tbody>\n",
       "</table>\n",
       "<p>248 rows × 2 columns</p>\n",
       "</div>"
      ],
      "text/plain": [
       "                            count  user_rating_mean\n",
       "author                                             \n",
       "Abraham Verghese                2          4.600000\n",
       "Adam Gasiewski                  1          4.400000\n",
       "Adam Mansbach                   1          4.800000\n",
       "Adir Levy                       1          4.800000\n",
       "Admiral William H. McRaven      1          4.700000\n",
       "...                           ...               ...\n",
       "Walter Isaacson                 3          4.566667\n",
       "William Davis                   2          4.400000\n",
       "William P. Young                2          4.600000\n",
       "Wizards RPG Team                3          4.800000\n",
       "Zhi Gang Sha                    2          4.600000\n",
       "\n",
       "[248 rows x 2 columns]"
      ]
     },
     "execution_count": 30,
     "metadata": {},
     "output_type": "execute_result"
    }
   ],
   "source": [
    "end_data = pd.concat([tmp, tmp_0], axis=1)\n",
    "end_data"
   ]
  },
  {
   "cell_type": "markdown",
   "id": "b2cc6dea-d199-47f0-bc94-86484279405c",
   "metadata": {},
   "source": [
    "Відсортуйте датафрейм за зростаючою кількістю книг та зростаючим рейтингом (використовуйте функцію sort_values)"
   ]
  },
  {
   "cell_type": "code",
   "execution_count": 31,
   "id": "d9934123-814e-400b-95e1-442dd5cbfe94",
   "metadata": {},
   "outputs": [
    {
     "data": {
      "text/html": [
       "<div>\n",
       "<style scoped>\n",
       "    .dataframe tbody tr th:only-of-type {\n",
       "        vertical-align: middle;\n",
       "    }\n",
       "\n",
       "    .dataframe tbody tr th {\n",
       "        vertical-align: top;\n",
       "    }\n",
       "\n",
       "    .dataframe thead th {\n",
       "        text-align: right;\n",
       "    }\n",
       "</style>\n",
       "<table border=\"1\" class=\"dataframe\">\n",
       "  <thead>\n",
       "    <tr style=\"text-align: right;\">\n",
       "      <th></th>\n",
       "      <th>count</th>\n",
       "      <th>user_rating_mean</th>\n",
       "    </tr>\n",
       "    <tr>\n",
       "      <th>author</th>\n",
       "      <th></th>\n",
       "      <th></th>\n",
       "    </tr>\n",
       "  </thead>\n",
       "  <tbody>\n",
       "    <tr>\n",
       "      <th>Muriel Barbery</th>\n",
       "      <td>1</td>\n",
       "      <td>4.000000</td>\n",
       "    </tr>\n",
       "    <tr>\n",
       "      <th>Chris Cleave</th>\n",
       "      <td>1</td>\n",
       "      <td>4.100000</td>\n",
       "    </tr>\n",
       "    <tr>\n",
       "      <th>Ian K. Smith M.D.</th>\n",
       "      <td>1</td>\n",
       "      <td>4.100000</td>\n",
       "    </tr>\n",
       "    <tr>\n",
       "      <th>Pierre Dukan</th>\n",
       "      <td>1</td>\n",
       "      <td>4.100000</td>\n",
       "    </tr>\n",
       "    <tr>\n",
       "      <th>Elizabeth Strout</th>\n",
       "      <td>1</td>\n",
       "      <td>4.200000</td>\n",
       "    </tr>\n",
       "    <tr>\n",
       "      <th>...</th>\n",
       "      <td>...</td>\n",
       "      <td>...</td>\n",
       "    </tr>\n",
       "    <tr>\n",
       "      <th>American Psychological Association</th>\n",
       "      <td>10</td>\n",
       "      <td>4.500000</td>\n",
       "    </tr>\n",
       "    <tr>\n",
       "      <th>Suzanne Collins</th>\n",
       "      <td>11</td>\n",
       "      <td>4.663636</td>\n",
       "    </tr>\n",
       "    <tr>\n",
       "      <th>Gary Chapman</th>\n",
       "      <td>11</td>\n",
       "      <td>4.736364</td>\n",
       "    </tr>\n",
       "    <tr>\n",
       "      <th>Rick Riordan</th>\n",
       "      <td>11</td>\n",
       "      <td>4.772727</td>\n",
       "    </tr>\n",
       "    <tr>\n",
       "      <th>Jeff Kinney</th>\n",
       "      <td>12</td>\n",
       "      <td>4.800000</td>\n",
       "    </tr>\n",
       "  </tbody>\n",
       "</table>\n",
       "<p>248 rows × 2 columns</p>\n",
       "</div>"
      ],
      "text/plain": [
       "                                    count  user_rating_mean\n",
       "author                                                     \n",
       "Muriel Barbery                          1          4.000000\n",
       "Chris Cleave                            1          4.100000\n",
       "Ian K. Smith M.D.                       1          4.100000\n",
       "Pierre Dukan                            1          4.100000\n",
       "Elizabeth Strout                        1          4.200000\n",
       "...                                   ...               ...\n",
       "American Psychological Association     10          4.500000\n",
       "Suzanne Collins                        11          4.663636\n",
       "Gary Chapman                           11          4.736364\n",
       "Rick Riordan                           11          4.772727\n",
       "Jeff Kinney                            12          4.800000\n",
       "\n",
       "[248 rows x 2 columns]"
      ]
     },
     "execution_count": 31,
     "metadata": {},
     "output_type": "execute_result"
    }
   ],
   "source": [
    "tmp = end_data.sort_values(by=[\"count\", \"user_rating_mean\"])\n",
    "tmp"
   ]
  },
  {
   "cell_type": "code",
   "execution_count": 32,
   "id": "b3af115c-a0ac-4e19-aa72-da16aebfd671",
   "metadata": {},
   "outputs": [
    {
     "name": "stdout",
     "output_type": "stream",
     "text": [
      "Який автор перший у списку? Відповідь: Muriel Barbery\n"
     ]
    }
   ],
   "source": [
    "print(\"Який автор перший у списку? Відповідь:\", tmp.head(1).index.values[0])"
   ]
  },
  {
   "cell_type": "code",
   "execution_count": 33,
   "id": "3fddf5fa-91c4-430d-a478-d102cebdc1cd",
   "metadata": {},
   "outputs": [
    {
     "data": {
      "image/png": "[encoded data removed]",
      "text/plain": [
       "<Figure size 640x480 with 1 Axes>"
      ]
     },
     "metadata": {},
     "output_type": "display_data"
    }
   ],
   "source": [
    "tmp = data.groupby([\"year\"]).agg(avg = ('price', 'mean'))\n",
    "plt.xlabel('Рік', fontsize='small', color='midnightblue')\n",
    "plt.ylabel('Ціна, $', fontsize='small', color='midnightblue')\n",
    "plt.title('Середня ціна книг в залежності від року', fontsize=15)\n",
    "plt.bar(tmp.index.values, tmp[\"avg\"].values, color=[\"b\", \"r\", \"y\", \"g\", \"m\"])\n",
    "plt.show()"
   ]
  },
  {
   "cell_type": "code",
   "execution_count": 34,
   "id": "6882ac8b-075c-4b57-9af6-adfd8c1fcf97",
   "metadata": {},
   "outputs": [
    {
     "data": {
      "image/png": "[encoded data removed]",
      "text/plain": [
       "<Figure size 640x480 with 1 Axes>"
      ]
     },
     "metadata": {},
     "output_type": "display_data"
    }
   ],
   "source": [
    "sct_plot = sns.scatterplot(x='user_rating', y='reviews', hue=\"genre\", data=data, color=\"r\").set(title=\"Зв'язок між рейтингом книги та кількістю оглядів\", xlabel='Рейтинг', ylabel='Кількість оглядів')\n",
    "plt.legend(title=\"Жанр\")\n",
    "plt.show()"
   ]
  },
  {
   "cell_type": "code",
   "execution_count": 35,
   "id": "454c8a1e-46dd-4be6-81f7-79611cc69849",
   "metadata": {},
   "outputs": [
    {
     "data": {
      "image/png": "[encoded data removed]",
      "text/plain": [
       "<Figure size 1800x800 with 1 Axes>"
      ]
     },
     "metadata": {},
     "output_type": "display_data"
    }
   ],
   "source": [
    "width = 18\n",
    "height = 8\n",
    "sns.set(rc = {'figure.figsize':(width, height)})\n",
    "strp_plot = sns.stripplot(x='price', y='reviews', data=data).set(title=\"Зв'язок між ціною книги та кількістю оглядів\", xlabel='Ціна, $', ylabel='Кількість оглядів')"
   ]
  }
 ],
 "metadata": {
  "kernelspec": {
   "display_name": "Python 3 (ipykernel)",
   "language": "python",
   "name": "python3"
  },
  "language_info": {
   "codemirror_mode": {
    "name": "ipython",
    "version": 3
   },
   "file_extension": ".py",
   "mimetype": "text/x-python",
   "name": "python",
   "nbconvert_exporter": "python",
   "pygments_lexer": "ipython3",
   "version": "3.11.5"
  }
 },
 "nbformat": 4,
 "nbformat_minor": 5
}
