{
 "cells": [
  {
   "cell_type": "markdown",
   "id": "43b4612e-da73-43f1-b073-e2288446d922",
   "metadata": {},
   "source": [
    "# Домашнє завдання\n",
    "\n",
    "Не турбуйтеся, якщо у вас не буде все одразу виходити. Робота будь-якого дата саєнтіста тісно пов'язана з пошуком та дослідженнями, тому дуже важливо навчитися шукати потрібну інформацію та адаптувати її під свої потреби. Також, з будь-якими питаннями ви можете звертатися до ментора."
   ]
  },
  {
   "cell_type": "markdown",
   "id": "fe3fdd52-efbf-49a7-b854-57ab43f7a33a",
   "metadata": {},
   "source": [
    "## Частина друга: Аналіз файлів\r\n",
    "Проведіть аналіз файлу 2017_jun_final.csv. Файл містить результати опитування розробників у червні 2017 року."
   ]
  },
  {
   "cell_type": "code",
   "execution_count": 1,
   "id": "bd2cfa64-acf2-4a3a-86e1-ba6b51f2219c",
   "metadata": {},
   "outputs": [],
   "source": [
    "import pandas as pd\n",
    "import matplotlib.pyplot as plt\n",
    "import seaborn as sns\n",
    "\n",
    "%matplotlib inline"
   ]
  },
  {
   "cell_type": "markdown",
   "id": "b2057269-e777-4d0c-8cd4-e3789d9e0023",
   "metadata": {},
   "source": [
    "Необхідно виконати:"
   ]
  },
  {
   "cell_type": "markdown",
   "id": "18417023-5ab5-4744-b657-00d34032dda9",
   "metadata": {},
   "source": [
    "Прочитайте файл 2017_jun_final.csv за допомогою методу read_csv"
   ]
  },
  {
   "cell_type": "code",
   "execution_count": 2,
   "id": "cbfbc13f-bc6f-4999-acbf-f5ed06b46f2d",
   "metadata": {},
   "outputs": [],
   "source": [
    "data = pd.read_csv(\"2017_jun_final.csv\")"
   ]
  },
  {
   "cell_type": "markdown",
   "id": "4c77b5b4-fe48-40a0-9e9f-1ee7a14cedd5",
   "metadata": {},
   "source": [
    "Прочитайте отриману таблицю, використовуючи метод head"
   ]
  },
  {
   "cell_type": "code",
   "execution_count": 3,
   "id": "6f4fd576-9c87-4029-8b3e-c8312b485753",
   "metadata": {},
   "outputs": [
    {
     "data": {
      "text/html": [
       "<div>\n",
       "<style scoped>\n",
       "    .dataframe tbody tr th:only-of-type {\n",
       "        vertical-align: middle;\n",
       "    }\n",
       "\n",
       "    .dataframe tbody tr th {\n",
       "        vertical-align: top;\n",
       "    }\n",
       "\n",
       "    .dataframe thead th {\n",
       "        text-align: right;\n",
       "    }\n",
       "</style>\n",
       "<table border=\"1\" class=\"dataframe\">\n",
       "  <thead>\n",
       "    <tr style=\"text-align: right;\">\n",
       "      <th></th>\n",
       "      <th>N</th>\n",
       "      <th>Должность</th>\n",
       "      <th>Язык.программирования</th>\n",
       "      <th>Специализация</th>\n",
       "      <th>Общий.опыт.работы</th>\n",
       "      <th>Опыт.работы.на.текущем.месте</th>\n",
       "      <th>Зарплата.в.месяц</th>\n",
       "      <th>Изменение.зарплаты.за.12.месяцев</th>\n",
       "      <th>Город</th>\n",
       "      <th>Размер.компании</th>\n",
       "      <th>...</th>\n",
       "      <th>Еще.студент</th>\n",
       "      <th>Уровень.английского</th>\n",
       "      <th>Предметная.область</th>\n",
       "      <th>Дата.заполнения</th>\n",
       "      <th>User.Agent</th>\n",
       "      <th>exp</th>\n",
       "      <th>current_job_exp</th>\n",
       "      <th>salary</th>\n",
       "      <th>Валюта</th>\n",
       "      <th>cls</th>\n",
       "    </tr>\n",
       "  </thead>\n",
       "  <tbody>\n",
       "    <tr>\n",
       "      <th>0</th>\n",
       "      <td>1</td>\n",
       "      <td>Junior QA engineer</td>\n",
       "      <td>NaN</td>\n",
       "      <td>Manual QA</td>\n",
       "      <td>0.5</td>\n",
       "      <td>0.5</td>\n",
       "      <td>400</td>\n",
       "      <td>0</td>\n",
       "      <td>Харьков</td>\n",
       "      <td>до 10 человек</td>\n",
       "      <td>...</td>\n",
       "      <td>True</td>\n",
       "      <td>ниже среднего</td>\n",
       "      <td>iOS,eCommerce</td>\n",
       "      <td>12/06/2017 12:38:08</td>\n",
       "      <td>Mozilla/5.0 (Windows NT 10.0; Win64; x64) Appl...</td>\n",
       "      <td>0.5</td>\n",
       "      <td>0.5</td>\n",
       "      <td>400</td>\n",
       "      <td>NaN</td>\n",
       "      <td>QA</td>\n",
       "    </tr>\n",
       "    <tr>\n",
       "      <th>1</th>\n",
       "      <td>2</td>\n",
       "      <td>Junior QA engineer</td>\n",
       "      <td>NaN</td>\n",
       "      <td>Manual QA</td>\n",
       "      <td>меньше 3 месяцев</td>\n",
       "      <td>меньше 3 месяцев</td>\n",
       "      <td>430</td>\n",
       "      <td>130</td>\n",
       "      <td>Харьков</td>\n",
       "      <td>свыше 1000 человек</td>\n",
       "      <td>...</td>\n",
       "      <td>True</td>\n",
       "      <td>выше среднего</td>\n",
       "      <td>Веб-разработка</td>\n",
       "      <td>12/06/2017 12:42:51</td>\n",
       "      <td>Mozilla/5.0 (iPad; CPU OS 10_2_1 like Mac OS X...</td>\n",
       "      <td>0.0</td>\n",
       "      <td>0.0</td>\n",
       "      <td>430</td>\n",
       "      <td>NaN</td>\n",
       "      <td>QA</td>\n",
       "    </tr>\n",
       "    <tr>\n",
       "      <th>2</th>\n",
       "      <td>3</td>\n",
       "      <td>Software Engineer</td>\n",
       "      <td>C#/.NET</td>\n",
       "      <td>NaN</td>\n",
       "      <td>4</td>\n",
       "      <td>1</td>\n",
       "      <td>2500</td>\n",
       "      <td>800</td>\n",
       "      <td>Киев</td>\n",
       "      <td>до 1000 человек</td>\n",
       "      <td>...</td>\n",
       "      <td>False</td>\n",
       "      <td>средний</td>\n",
       "      <td>Веб-разработка,Корпоративные системы</td>\n",
       "      <td>12/06/2017 13:02:47</td>\n",
       "      <td>Mozilla/5.0 (Windows NT 10.0; Win64; x64) Appl...</td>\n",
       "      <td>4.0</td>\n",
       "      <td>1.0</td>\n",
       "      <td>2500</td>\n",
       "      <td>NaN</td>\n",
       "      <td>DEV</td>\n",
       "    </tr>\n",
       "    <tr>\n",
       "      <th>3</th>\n",
       "      <td>4</td>\n",
       "      <td>Software Engineer</td>\n",
       "      <td>JavaScript</td>\n",
       "      <td>NaN</td>\n",
       "      <td>5</td>\n",
       "      <td>4</td>\n",
       "      <td>2000</td>\n",
       "      <td>400</td>\n",
       "      <td>Одесса</td>\n",
       "      <td>до 200 человек</td>\n",
       "      <td>...</td>\n",
       "      <td>False</td>\n",
       "      <td>ниже среднего</td>\n",
       "      <td>Desktop Applications,Веб-разработка</td>\n",
       "      <td>12/06/2017 13:03:01</td>\n",
       "      <td>Mozilla/5.0 (Windows NT 6.1; Win64; x64) Apple...</td>\n",
       "      <td>5.0</td>\n",
       "      <td>4.0</td>\n",
       "      <td>2000</td>\n",
       "      <td>NaN</td>\n",
       "      <td>DEV</td>\n",
       "    </tr>\n",
       "    <tr>\n",
       "      <th>4</th>\n",
       "      <td>5</td>\n",
       "      <td>Senior Software Engineer</td>\n",
       "      <td>JavaScript</td>\n",
       "      <td>NaN</td>\n",
       "      <td>10 и более лет</td>\n",
       "      <td>0.5</td>\n",
       "      <td>4500</td>\n",
       "      <td>500</td>\n",
       "      <td>Другой</td>\n",
       "      <td>до 10 человек</td>\n",
       "      <td>...</td>\n",
       "      <td>False</td>\n",
       "      <td>средний</td>\n",
       "      <td>Desktop Applications,Веб-разработка</td>\n",
       "      <td>12/06/2017 13:03:47</td>\n",
       "      <td>Mozilla/5.0 (iPhone; CPU iPhone OS 10_3_2 like...</td>\n",
       "      <td>10.0</td>\n",
       "      <td>0.5</td>\n",
       "      <td>4500</td>\n",
       "      <td>NaN</td>\n",
       "      <td>DEV</td>\n",
       "    </tr>\n",
       "  </tbody>\n",
       "</table>\n",
       "<p>5 rows × 25 columns</p>\n",
       "</div>"
      ],
      "text/plain": [
       "   N                 Должность Язык.программирования Специализация  \\\n",
       "0  1        Junior QA engineer                   NaN     Manual QA   \n",
       "1  2        Junior QA engineer                   NaN     Manual QA   \n",
       "2  3         Software Engineer               C#/.NET           NaN   \n",
       "3  4         Software Engineer            JavaScript           NaN   \n",
       "4  5  Senior Software Engineer            JavaScript           NaN   \n",
       "\n",
       "  Общий.опыт.работы Опыт.работы.на.текущем.месте  Зарплата.в.месяц  \\\n",
       "0               0.5                          0.5               400   \n",
       "1  меньше 3 месяцев             меньше 3 месяцев               430   \n",
       "2                 4                            1              2500   \n",
       "3                 5                            4              2000   \n",
       "4    10 и более лет                          0.5              4500   \n",
       "\n",
       "   Изменение.зарплаты.за.12.месяцев    Город     Размер.компании  ...  \\\n",
       "0                                 0  Харьков       до 10 человек  ...   \n",
       "1                               130  Харьков  свыше 1000 человек  ...   \n",
       "2                               800     Киев     до 1000 человек  ...   \n",
       "3                               400   Одесса      до 200 человек  ...   \n",
       "4                               500   Другой       до 10 человек  ...   \n",
       "\n",
       "  Еще.студент Уровень.английского                    Предметная.область  \\\n",
       "0        True       ниже среднего                         iOS,eCommerce   \n",
       "1        True       выше среднего                        Веб-разработка   \n",
       "2       False             средний  Веб-разработка,Корпоративные системы   \n",
       "3       False       ниже среднего   Desktop Applications,Веб-разработка   \n",
       "4       False             средний   Desktop Applications,Веб-разработка   \n",
       "\n",
       "       Дата.заполнения                                         User.Agent  \\\n",
       "0  12/06/2017 12:38:08  Mozilla/5.0 (Windows NT 10.0; Win64; x64) Appl...   \n",
       "1  12/06/2017 12:42:51  Mozilla/5.0 (iPad; CPU OS 10_2_1 like Mac OS X...   \n",
       "2  12/06/2017 13:02:47  Mozilla/5.0 (Windows NT 10.0; Win64; x64) Appl...   \n",
       "3  12/06/2017 13:03:01  Mozilla/5.0 (Windows NT 6.1; Win64; x64) Apple...   \n",
       "4  12/06/2017 13:03:47  Mozilla/5.0 (iPhone; CPU iPhone OS 10_3_2 like...   \n",
       "\n",
       "    exp current_job_exp salary Валюта  cls  \n",
       "0   0.5             0.5    400    NaN   QA  \n",
       "1   0.0             0.0    430    NaN   QA  \n",
       "2   4.0             1.0   2500    NaN  DEV  \n",
       "3   5.0             4.0   2000    NaN  DEV  \n",
       "4  10.0             0.5   4500    NaN  DEV  \n",
       "\n",
       "[5 rows x 25 columns]"
      ]
     },
     "execution_count": 3,
     "metadata": {},
     "output_type": "execute_result"
    }
   ],
   "source": [
    "data.head()"
   ]
  },
  {
   "cell_type": "markdown",
   "id": "9de525f5-52ac-4b38-a3cb-aefd216288d1",
   "metadata": {},
   "source": [
    "Визначте розмір таблиці за допомогою методу shape"
   ]
  },
  {
   "cell_type": "code",
   "execution_count": 4,
   "id": "3e2318ca-029b-4eba-8d39-9baf7c831cb2",
   "metadata": {},
   "outputs": [
    {
     "data": {
      "text/plain": [
       "(8704, 25)"
      ]
     },
     "execution_count": 4,
     "metadata": {},
     "output_type": "execute_result"
    }
   ],
   "source": [
    "data.shape"
   ]
  },
  {
   "cell_type": "markdown",
   "id": "6f1f144d-d2f3-4bc4-a30c-5b204246ad9f",
   "metadata": {},
   "source": [
    "Визначте типи всіх стовпців за допомогою dataframe.dtypes"
   ]
  },
  {
   "cell_type": "code",
   "execution_count": 5,
   "id": "74d4c427-ebb9-4c17-825c-db1c2414e94f",
   "metadata": {},
   "outputs": [
    {
     "data": {
      "text/plain": [
       "N                                     int64\n",
       "Должность                            object\n",
       "Язык.программирования                object\n",
       "Специализация                        object\n",
       "Общий.опыт.работы                    object\n",
       "Опыт.работы.на.текущем.месте         object\n",
       "Зарплата.в.месяц                      int64\n",
       "Изменение.зарплаты.за.12.месяцев      int64\n",
       "Город                                object\n",
       "Размер.компании                      object\n",
       "Тип.компании                         object\n",
       "Пол                                  object\n",
       "Возраст                               int64\n",
       "Образование                          object\n",
       "Университет                          object\n",
       "Еще.студент                            bool\n",
       "Уровень.английского                  object\n",
       "Предметная.область                   object\n",
       "Дата.заполнения                      object\n",
       "User.Agent                           object\n",
       "exp                                 float64\n",
       "current_job_exp                     float64\n",
       "salary                                int64\n",
       "Валюта                               object\n",
       "cls                                  object\n",
       "dtype: object"
      ]
     },
     "execution_count": 5,
     "metadata": {},
     "output_type": "execute_result"
    }
   ],
   "source": [
    "data.dtypes"
   ]
  },
  {
   "cell_type": "markdown",
   "id": "2acbf097-9829-432d-ae14-b31015b8f3eb",
   "metadata": {},
   "source": [
    "Порахуйте, яка частка пропусків міститься в кожній колонці (використовуйте методи isnull та sum)"
   ]
  },
  {
   "cell_type": "code",
   "execution_count": 6,
   "id": "4f8a73fb-0ceb-4aef-adf6-b05699959317",
   "metadata": {},
   "outputs": [
    {
     "data": {
      "text/plain": [
       "N                                   0.000000\n",
       "Должность                           0.000000\n",
       "Язык.программирования               0.442325\n",
       "Специализация                       0.829389\n",
       "Общий.опыт.работы                   0.000000\n",
       "Опыт.работы.на.текущем.месте        0.000000\n",
       "Зарплата.в.месяц                    0.000000\n",
       "Изменение.зарплаты.за.12.месяцев    0.000000\n",
       "Город                               0.000000\n",
       "Размер.компании                     0.000000\n",
       "Тип.компании                        0.000000\n",
       "Пол                                 0.000000\n",
       "Возраст                             0.000000\n",
       "Образование                         0.000000\n",
       "Университет                         0.041131\n",
       "Еще.студент                         0.000000\n",
       "Уровень.английского                 0.000000\n",
       "Предметная.область                  0.025620\n",
       "Дата.заполнения                     0.000000\n",
       "User.Agent                          0.000000\n",
       "exp                                 0.000000\n",
       "current_job_exp                     0.000000\n",
       "salary                              0.000000\n",
       "Валюта                              0.998851\n",
       "cls                                 0.180836\n",
       "dtype: float64"
      ]
     },
     "execution_count": 6,
     "metadata": {},
     "output_type": "execute_result"
    }
   ],
   "source": [
    "data.isnull().sum()/len(data)"
   ]
  },
  {
   "cell_type": "markdown",
   "id": "3363b3c2-4206-47bd-9dcd-aef9090820c4",
   "metadata": {},
   "source": [
    "Видаліть усі стовпці з пропусками, крім стовпця \"Мова програмування\""
   ]
  },
  {
   "cell_type": "code",
   "execution_count": 7,
   "id": "f4b4a386-712f-4210-b80d-e30145ce821b",
   "metadata": {},
   "outputs": [
    {
     "data": {
      "text/html": [
       "<div>\n",
       "<style scoped>\n",
       "    .dataframe tbody tr th:only-of-type {\n",
       "        vertical-align: middle;\n",
       "    }\n",
       "\n",
       "    .dataframe tbody tr th {\n",
       "        vertical-align: top;\n",
       "    }\n",
       "\n",
       "    .dataframe thead th {\n",
       "        text-align: right;\n",
       "    }\n",
       "</style>\n",
       "<table border=\"1\" class=\"dataframe\">\n",
       "  <thead>\n",
       "    <tr style=\"text-align: right;\">\n",
       "      <th></th>\n",
       "      <th>N</th>\n",
       "      <th>Должность</th>\n",
       "      <th>Язык.программирования</th>\n",
       "      <th>Общий.опыт.работы</th>\n",
       "      <th>Опыт.работы.на.текущем.месте</th>\n",
       "      <th>Зарплата.в.месяц</th>\n",
       "      <th>Изменение.зарплаты.за.12.месяцев</th>\n",
       "      <th>Город</th>\n",
       "      <th>Размер.компании</th>\n",
       "      <th>Тип.компании</th>\n",
       "      <th>Пол</th>\n",
       "      <th>Возраст</th>\n",
       "      <th>Образование</th>\n",
       "      <th>Еще.студент</th>\n",
       "      <th>Уровень.английского</th>\n",
       "      <th>Дата.заполнения</th>\n",
       "      <th>User.Agent</th>\n",
       "      <th>exp</th>\n",
       "      <th>current_job_exp</th>\n",
       "      <th>salary</th>\n",
       "    </tr>\n",
       "  </thead>\n",
       "  <tbody>\n",
       "    <tr>\n",
       "      <th>0</th>\n",
       "      <td>1</td>\n",
       "      <td>Junior QA engineer</td>\n",
       "      <td>NaN</td>\n",
       "      <td>0.5</td>\n",
       "      <td>0.5</td>\n",
       "      <td>400</td>\n",
       "      <td>0</td>\n",
       "      <td>Харьков</td>\n",
       "      <td>до 10 человек</td>\n",
       "      <td>Аутсорсинговая</td>\n",
       "      <td>женский</td>\n",
       "      <td>20</td>\n",
       "      <td>Незаконченное высшее</td>\n",
       "      <td>True</td>\n",
       "      <td>ниже среднего</td>\n",
       "      <td>12/06/2017 12:38:08</td>\n",
       "      <td>Mozilla/5.0 (Windows NT 10.0; Win64; x64) Appl...</td>\n",
       "      <td>0.5</td>\n",
       "      <td>0.5</td>\n",
       "      <td>400</td>\n",
       "    </tr>\n",
       "    <tr>\n",
       "      <th>1</th>\n",
       "      <td>2</td>\n",
       "      <td>Junior QA engineer</td>\n",
       "      <td>NaN</td>\n",
       "      <td>меньше 3 месяцев</td>\n",
       "      <td>меньше 3 месяцев</td>\n",
       "      <td>430</td>\n",
       "      <td>130</td>\n",
       "      <td>Харьков</td>\n",
       "      <td>свыше 1000 человек</td>\n",
       "      <td>Аутсорсинговая</td>\n",
       "      <td>женский</td>\n",
       "      <td>21</td>\n",
       "      <td>Незаконченное высшее</td>\n",
       "      <td>True</td>\n",
       "      <td>выше среднего</td>\n",
       "      <td>12/06/2017 12:42:51</td>\n",
       "      <td>Mozilla/5.0 (iPad; CPU OS 10_2_1 like Mac OS X...</td>\n",
       "      <td>0.0</td>\n",
       "      <td>0.0</td>\n",
       "      <td>430</td>\n",
       "    </tr>\n",
       "    <tr>\n",
       "      <th>2</th>\n",
       "      <td>3</td>\n",
       "      <td>Software Engineer</td>\n",
       "      <td>C#/.NET</td>\n",
       "      <td>4</td>\n",
       "      <td>1</td>\n",
       "      <td>2500</td>\n",
       "      <td>800</td>\n",
       "      <td>Киев</td>\n",
       "      <td>до 1000 человек</td>\n",
       "      <td>Аутсорсинговая</td>\n",
       "      <td>мужской</td>\n",
       "      <td>26</td>\n",
       "      <td>Высшее</td>\n",
       "      <td>False</td>\n",
       "      <td>средний</td>\n",
       "      <td>12/06/2017 13:02:47</td>\n",
       "      <td>Mozilla/5.0 (Windows NT 10.0; Win64; x64) Appl...</td>\n",
       "      <td>4.0</td>\n",
       "      <td>1.0</td>\n",
       "      <td>2500</td>\n",
       "    </tr>\n",
       "    <tr>\n",
       "      <th>3</th>\n",
       "      <td>4</td>\n",
       "      <td>Software Engineer</td>\n",
       "      <td>JavaScript</td>\n",
       "      <td>5</td>\n",
       "      <td>4</td>\n",
       "      <td>2000</td>\n",
       "      <td>400</td>\n",
       "      <td>Одесса</td>\n",
       "      <td>до 200 человек</td>\n",
       "      <td>Продуктовая</td>\n",
       "      <td>мужской</td>\n",
       "      <td>30</td>\n",
       "      <td>Среднее</td>\n",
       "      <td>False</td>\n",
       "      <td>ниже среднего</td>\n",
       "      <td>12/06/2017 13:03:01</td>\n",
       "      <td>Mozilla/5.0 (Windows NT 6.1; Win64; x64) Apple...</td>\n",
       "      <td>5.0</td>\n",
       "      <td>4.0</td>\n",
       "      <td>2000</td>\n",
       "    </tr>\n",
       "    <tr>\n",
       "      <th>4</th>\n",
       "      <td>5</td>\n",
       "      <td>Senior Software Engineer</td>\n",
       "      <td>JavaScript</td>\n",
       "      <td>10 и более лет</td>\n",
       "      <td>0.5</td>\n",
       "      <td>4500</td>\n",
       "      <td>500</td>\n",
       "      <td>Другой</td>\n",
       "      <td>до 10 человек</td>\n",
       "      <td>Продуктовая</td>\n",
       "      <td>мужской</td>\n",
       "      <td>30</td>\n",
       "      <td>Техникум / Колледж</td>\n",
       "      <td>False</td>\n",
       "      <td>средний</td>\n",
       "      <td>12/06/2017 13:03:47</td>\n",
       "      <td>Mozilla/5.0 (iPhone; CPU iPhone OS 10_3_2 like...</td>\n",
       "      <td>10.0</td>\n",
       "      <td>0.5</td>\n",
       "      <td>4500</td>\n",
       "    </tr>\n",
       "    <tr>\n",
       "      <th>...</th>\n",
       "      <td>...</td>\n",
       "      <td>...</td>\n",
       "      <td>...</td>\n",
       "      <td>...</td>\n",
       "      <td>...</td>\n",
       "      <td>...</td>\n",
       "      <td>...</td>\n",
       "      <td>...</td>\n",
       "      <td>...</td>\n",
       "      <td>...</td>\n",
       "      <td>...</td>\n",
       "      <td>...</td>\n",
       "      <td>...</td>\n",
       "      <td>...</td>\n",
       "      <td>...</td>\n",
       "      <td>...</td>\n",
       "      <td>...</td>\n",
       "      <td>...</td>\n",
       "      <td>...</td>\n",
       "      <td>...</td>\n",
       "    </tr>\n",
       "    <tr>\n",
       "      <th>8699</th>\n",
       "      <td>8700</td>\n",
       "      <td>QA engineer</td>\n",
       "      <td>NaN</td>\n",
       "      <td>1</td>\n",
       "      <td>меньше 3 месяцев</td>\n",
       "      <td>700</td>\n",
       "      <td>700</td>\n",
       "      <td>Одесса</td>\n",
       "      <td>до 50 человек</td>\n",
       "      <td>Аутсорсинговая</td>\n",
       "      <td>мужской</td>\n",
       "      <td>23</td>\n",
       "      <td>Высшее</td>\n",
       "      <td>False</td>\n",
       "      <td>средний</td>\n",
       "      <td>12/07/2017 15:45:24</td>\n",
       "      <td>Mozilla/5.0 (X11; Ubuntu; Linux x86_64; rv:54....</td>\n",
       "      <td>1.0</td>\n",
       "      <td>0.0</td>\n",
       "      <td>700</td>\n",
       "    </tr>\n",
       "    <tr>\n",
       "      <th>8700</th>\n",
       "      <td>8701</td>\n",
       "      <td>Marketing</td>\n",
       "      <td>NaN</td>\n",
       "      <td>0.5</td>\n",
       "      <td>0.5</td>\n",
       "      <td>400</td>\n",
       "      <td>120</td>\n",
       "      <td>Киев</td>\n",
       "      <td>до 50 человек</td>\n",
       "      <td>Продуктовая</td>\n",
       "      <td>женский</td>\n",
       "      <td>22</td>\n",
       "      <td>Высшее</td>\n",
       "      <td>False</td>\n",
       "      <td>ниже среднего</td>\n",
       "      <td>12/07/2017 17:00:06</td>\n",
       "      <td>Mozilla/5.0 (Windows NT 10.0; Win64; x64) Appl...</td>\n",
       "      <td>0.5</td>\n",
       "      <td>0.5</td>\n",
       "      <td>400</td>\n",
       "    </tr>\n",
       "    <tr>\n",
       "      <th>8701</th>\n",
       "      <td>8702</td>\n",
       "      <td>Junior Software Engineer</td>\n",
       "      <td>Ruby/Rails</td>\n",
       "      <td>1</td>\n",
       "      <td>0.5</td>\n",
       "      <td>800</td>\n",
       "      <td>500</td>\n",
       "      <td>Львов</td>\n",
       "      <td>до 10 человек</td>\n",
       "      <td>Аутстаффинговая</td>\n",
       "      <td>мужской</td>\n",
       "      <td>30</td>\n",
       "      <td>Незаконченное высшее</td>\n",
       "      <td>False</td>\n",
       "      <td>выше среднего</td>\n",
       "      <td>12/07/2017 17:32:26</td>\n",
       "      <td>Mozilla/5.0 (X11; Linux x86_64) AppleWebKit/53...</td>\n",
       "      <td>1.0</td>\n",
       "      <td>0.5</td>\n",
       "      <td>800</td>\n",
       "    </tr>\n",
       "    <tr>\n",
       "      <th>8702</th>\n",
       "      <td>8703</td>\n",
       "      <td>Team lead</td>\n",
       "      <td>NaN</td>\n",
       "      <td>6</td>\n",
       "      <td>4</td>\n",
       "      <td>2600</td>\n",
       "      <td>0</td>\n",
       "      <td>Днепр</td>\n",
       "      <td>свыше 1000 человек</td>\n",
       "      <td>Аутсорсинговая</td>\n",
       "      <td>мужской</td>\n",
       "      <td>34</td>\n",
       "      <td>Высшее</td>\n",
       "      <td>False</td>\n",
       "      <td>продвинутый</td>\n",
       "      <td>12/07/2017 18:14:59</td>\n",
       "      <td>Mozilla/5.0 (Windows NT 6.1) AppleWebKit/537.3...</td>\n",
       "      <td>6.0</td>\n",
       "      <td>4.0</td>\n",
       "      <td>2600</td>\n",
       "    </tr>\n",
       "    <tr>\n",
       "      <th>8703</th>\n",
       "      <td>8704</td>\n",
       "      <td>Senior Software Engineer</td>\n",
       "      <td>Java</td>\n",
       "      <td>7</td>\n",
       "      <td>2</td>\n",
       "      <td>5000</td>\n",
       "      <td>800</td>\n",
       "      <td>Одесса</td>\n",
       "      <td>до 1000 человек</td>\n",
       "      <td>Продуктовая</td>\n",
       "      <td>мужской</td>\n",
       "      <td>28</td>\n",
       "      <td>Высшее</td>\n",
       "      <td>False</td>\n",
       "      <td>выше среднего</td>\n",
       "      <td>12/07/2017 21:28:57</td>\n",
       "      <td>Mozilla/5.0 (iPad; CPU OS 10_3_2 like Mac OS X...</td>\n",
       "      <td>7.0</td>\n",
       "      <td>2.0</td>\n",
       "      <td>5000</td>\n",
       "    </tr>\n",
       "  </tbody>\n",
       "</table>\n",
       "<p>8704 rows × 20 columns</p>\n",
       "</div>"
      ],
      "text/plain": [
       "         N                 Должность Язык.программирования Общий.опыт.работы  \\\n",
       "0        1        Junior QA engineer                   NaN               0.5   \n",
       "1        2        Junior QA engineer                   NaN  меньше 3 месяцев   \n",
       "2        3         Software Engineer               C#/.NET                 4   \n",
       "3        4         Software Engineer            JavaScript                 5   \n",
       "4        5  Senior Software Engineer            JavaScript    10 и более лет   \n",
       "...    ...                       ...                   ...               ...   \n",
       "8699  8700               QA engineer                   NaN                 1   \n",
       "8700  8701                 Marketing                   NaN               0.5   \n",
       "8701  8702  Junior Software Engineer            Ruby/Rails                 1   \n",
       "8702  8703                 Team lead                   NaN                 6   \n",
       "8703  8704  Senior Software Engineer                  Java                 7   \n",
       "\n",
       "     Опыт.работы.на.текущем.месте  Зарплата.в.месяц  \\\n",
       "0                             0.5               400   \n",
       "1                меньше 3 месяцев               430   \n",
       "2                               1              2500   \n",
       "3                               4              2000   \n",
       "4                             0.5              4500   \n",
       "...                           ...               ...   \n",
       "8699             меньше 3 месяцев               700   \n",
       "8700                          0.5               400   \n",
       "8701                          0.5               800   \n",
       "8702                            4              2600   \n",
       "8703                            2              5000   \n",
       "\n",
       "      Изменение.зарплаты.за.12.месяцев    Город     Размер.компании  \\\n",
       "0                                    0  Харьков       до 10 человек   \n",
       "1                                  130  Харьков  свыше 1000 человек   \n",
       "2                                  800     Киев     до 1000 человек   \n",
       "3                                  400   Одесса      до 200 человек   \n",
       "4                                  500   Другой       до 10 человек   \n",
       "...                                ...      ...                 ...   \n",
       "8699                               700   Одесса       до 50 человек   \n",
       "8700                               120     Киев       до 50 человек   \n",
       "8701                               500    Львов       до 10 человек   \n",
       "8702                                 0    Днепр  свыше 1000 человек   \n",
       "8703                               800   Одесса     до 1000 человек   \n",
       "\n",
       "         Тип.компании      Пол  Возраст           Образование  Еще.студент  \\\n",
       "0      Аутсорсинговая  женский       20  Незаконченное высшее         True   \n",
       "1      Аутсорсинговая  женский       21  Незаконченное высшее         True   \n",
       "2      Аутсорсинговая  мужской       26                Высшее        False   \n",
       "3         Продуктовая  мужской       30               Среднее        False   \n",
       "4         Продуктовая  мужской       30    Техникум / Колледж        False   \n",
       "...               ...      ...      ...                   ...          ...   \n",
       "8699   Аутсорсинговая  мужской       23                Высшее        False   \n",
       "8700      Продуктовая  женский       22                Высшее        False   \n",
       "8701  Аутстаффинговая  мужской       30  Незаконченное высшее        False   \n",
       "8702   Аутсорсинговая  мужской       34                Высшее        False   \n",
       "8703      Продуктовая  мужской       28                Высшее        False   \n",
       "\n",
       "     Уровень.английского      Дата.заполнения  \\\n",
       "0          ниже среднего  12/06/2017 12:38:08   \n",
       "1          выше среднего  12/06/2017 12:42:51   \n",
       "2                средний  12/06/2017 13:02:47   \n",
       "3          ниже среднего  12/06/2017 13:03:01   \n",
       "4                средний  12/06/2017 13:03:47   \n",
       "...                  ...                  ...   \n",
       "8699             средний  12/07/2017 15:45:24   \n",
       "8700       ниже среднего  12/07/2017 17:00:06   \n",
       "8701       выше среднего  12/07/2017 17:32:26   \n",
       "8702         продвинутый  12/07/2017 18:14:59   \n",
       "8703       выше среднего  12/07/2017 21:28:57   \n",
       "\n",
       "                                             User.Agent   exp  \\\n",
       "0     Mozilla/5.0 (Windows NT 10.0; Win64; x64) Appl...   0.5   \n",
       "1     Mozilla/5.0 (iPad; CPU OS 10_2_1 like Mac OS X...   0.0   \n",
       "2     Mozilla/5.0 (Windows NT 10.0; Win64; x64) Appl...   4.0   \n",
       "3     Mozilla/5.0 (Windows NT 6.1; Win64; x64) Apple...   5.0   \n",
       "4     Mozilla/5.0 (iPhone; CPU iPhone OS 10_3_2 like...  10.0   \n",
       "...                                                 ...   ...   \n",
       "8699  Mozilla/5.0 (X11; Ubuntu; Linux x86_64; rv:54....   1.0   \n",
       "8700  Mozilla/5.0 (Windows NT 10.0; Win64; x64) Appl...   0.5   \n",
       "8701  Mozilla/5.0 (X11; Linux x86_64) AppleWebKit/53...   1.0   \n",
       "8702  Mozilla/5.0 (Windows NT 6.1) AppleWebKit/537.3...   6.0   \n",
       "8703  Mozilla/5.0 (iPad; CPU OS 10_3_2 like Mac OS X...   7.0   \n",
       "\n",
       "      current_job_exp  salary  \n",
       "0                 0.5     400  \n",
       "1                 0.0     430  \n",
       "2                 1.0    2500  \n",
       "3                 4.0    2000  \n",
       "4                 0.5    4500  \n",
       "...               ...     ...  \n",
       "8699              0.0     700  \n",
       "8700              0.5     400  \n",
       "8701              0.5     800  \n",
       "8702              4.0    2600  \n",
       "8703              2.0    5000  \n",
       "\n",
       "[8704 rows x 20 columns]"
      ]
     },
     "execution_count": 7,
     "metadata": {},
     "output_type": "execute_result"
    }
   ],
   "source": [
    "tmp = data[\"Язык.программирования\"]\n",
    "data.dropna(axis=1, inplace=True)\n",
    "data.insert(2, \"Язык.программирования\", tmp.values)\n",
    "data"
   ]
  },
  {
   "cell_type": "markdown",
   "id": "53443f52-e576-4e60-9c2b-94a3f59a0ce8",
   "metadata": {},
   "source": [
    "Знову порахуйте, яка частка пропусків міститься в кожній колонці і переконайтеся, що залишився тільки стовпець \"Мова.програмування\""
   ]
  },
  {
   "cell_type": "code",
   "execution_count": 8,
   "id": "eae0c06b-b6f3-41cb-96e0-e41edd2a1ce3",
   "metadata": {},
   "outputs": [
    {
     "data": {
      "text/plain": [
       "N                                   0.000000\n",
       "Должность                           0.000000\n",
       "Язык.программирования               0.442325\n",
       "Общий.опыт.работы                   0.000000\n",
       "Опыт.работы.на.текущем.месте        0.000000\n",
       "Зарплата.в.месяц                    0.000000\n",
       "Изменение.зарплаты.за.12.месяцев    0.000000\n",
       "Город                               0.000000\n",
       "Размер.компании                     0.000000\n",
       "Тип.компании                        0.000000\n",
       "Пол                                 0.000000\n",
       "Возраст                             0.000000\n",
       "Образование                         0.000000\n",
       "Еще.студент                         0.000000\n",
       "Уровень.английского                 0.000000\n",
       "Дата.заполнения                     0.000000\n",
       "User.Agent                          0.000000\n",
       "exp                                 0.000000\n",
       "current_job_exp                     0.000000\n",
       "salary                              0.000000\n",
       "dtype: float64"
      ]
     },
     "execution_count": 8,
     "metadata": {},
     "output_type": "execute_result"
    }
   ],
   "source": [
    "data.isnull().sum()/len(data)"
   ]
  },
  {
   "cell_type": "markdown",
   "id": "ff4c4649-867d-452f-9c13-8c978e463b18",
   "metadata": {},
   "source": [
    "Видаліть усі рядки у вихідній таблиці за допомогою методу dropna"
   ]
  },
  {
   "cell_type": "code",
   "execution_count": 9,
   "id": "b6e54e12-31a6-47d0-ac5b-d2d92c3b4c29",
   "metadata": {},
   "outputs": [],
   "source": [
    "data.dropna(inplace=True)"
   ]
  },
  {
   "cell_type": "markdown",
   "id": "55ad718c-0ea6-4b32-a4eb-9277d4ef29c5",
   "metadata": {},
   "source": [
    "Визначте новий розмір таблиці за допомогою методу shape"
   ]
  },
  {
   "cell_type": "code",
   "execution_count": 10,
   "id": "d789dab8-bc7e-4b1e-9721-4ddf9d07eb36",
   "metadata": {},
   "outputs": [
    {
     "data": {
      "text/plain": [
       "(4854, 20)"
      ]
     },
     "execution_count": 10,
     "metadata": {},
     "output_type": "execute_result"
    }
   ],
   "source": [
    "data.shape"
   ]
  },
  {
   "cell_type": "markdown",
   "id": "4c7ee27f-8be0-4ff9-b999-7c71d14fe749",
   "metadata": {},
   "source": [
    "Створіть нову таблицю python_data, в якій будуть тільки рядки зі спеціалістами, які вказали мову програмування Python"
   ]
  },
  {
   "cell_type": "code",
   "execution_count": 11,
   "id": "c581ae8f-ca7f-453d-97f4-6c70c2f50e92",
   "metadata": {},
   "outputs": [],
   "source": [
    "python_data = data[data[\"Язык.программирования\"] == \"Python\"]"
   ]
  },
  {
   "cell_type": "code",
   "execution_count": 12,
   "id": "f637eba2-0945-488c-a366-f9a062f150f6",
   "metadata": {},
   "outputs": [
    {
     "data": {
      "text/plain": [
       "(207, 20)"
      ]
     },
     "execution_count": 12,
     "metadata": {},
     "output_type": "execute_result"
    }
   ],
   "source": [
    "python_data.shape"
   ]
  },
  {
   "cell_type": "markdown",
   "id": "5e896ba0-96e8-4c34-b8d1-49cd2f4e045c",
   "metadata": {},
   "source": [
    "Використовуючи метод groupby, виконайте групування за стовпчиком \"Посада\""
   ]
  },
  {
   "cell_type": "code",
   "execution_count": 13,
   "id": "db41075b-dc70-4f79-9ec7-c021227c4b73",
   "metadata": {},
   "outputs": [],
   "source": [
    "tmp = python_data.groupby([\"Должность\"])"
   ]
  },
  {
   "cell_type": "markdown",
   "id": "b94ed08e-5789-4854-bda8-3cb6fbddd967",
   "metadata": {},
   "source": [
    "Створіть новий DataFrame, де для згрупованих даних за стовпчиком \"Посада\", виконайте агрегацію даних за допомогою методу agg і знайдіть мінімальне та максимальне значення у стовпчику \"Зарплата.в.місяць\""
   ]
  },
  {
   "cell_type": "code",
   "execution_count": 14,
   "id": "1973b33d-5397-4f17-9e1d-12679cafc3bb",
   "metadata": {},
   "outputs": [
    {
     "data": {
      "text/html": [
       "<div>\n",
       "<style scoped>\n",
       "    .dataframe tbody tr th:only-of-type {\n",
       "        vertical-align: middle;\n",
       "    }\n",
       "\n",
       "    .dataframe tbody tr th {\n",
       "        vertical-align: top;\n",
       "    }\n",
       "\n",
       "    .dataframe thead th {\n",
       "        text-align: right;\n",
       "    }\n",
       "</style>\n",
       "<table border=\"1\" class=\"dataframe\">\n",
       "  <thead>\n",
       "    <tr style=\"text-align: right;\">\n",
       "      <th></th>\n",
       "      <th>min</th>\n",
       "      <th>max</th>\n",
       "    </tr>\n",
       "    <tr>\n",
       "      <th>Должность</th>\n",
       "      <th></th>\n",
       "      <th></th>\n",
       "    </tr>\n",
       "  </thead>\n",
       "  <tbody>\n",
       "    <tr>\n",
       "      <th>Junior Software Engineer</th>\n",
       "      <td>100</td>\n",
       "      <td>1250</td>\n",
       "    </tr>\n",
       "    <tr>\n",
       "      <th>Senior Software Engineer</th>\n",
       "      <td>1300</td>\n",
       "      <td>9200</td>\n",
       "    </tr>\n",
       "    <tr>\n",
       "      <th>Software Engineer</th>\n",
       "      <td>500</td>\n",
       "      <td>5400</td>\n",
       "    </tr>\n",
       "    <tr>\n",
       "      <th>System Architect</th>\n",
       "      <td>3000</td>\n",
       "      <td>5000</td>\n",
       "    </tr>\n",
       "    <tr>\n",
       "      <th>Technical Lead</th>\n",
       "      <td>1425</td>\n",
       "      <td>6200</td>\n",
       "    </tr>\n",
       "  </tbody>\n",
       "</table>\n",
       "</div>"
      ],
      "text/plain": [
       "                           min   max\n",
       "Должность                           \n",
       "Junior Software Engineer   100  1250\n",
       "Senior Software Engineer  1300  9200\n",
       "Software Engineer          500  5400\n",
       "System Architect          3000  5000\n",
       "Technical Lead            1425  6200"
      ]
     },
     "execution_count": 14,
     "metadata": {},
     "output_type": "execute_result"
    }
   ],
   "source": [
    "salary_per_month = tmp.agg(min = ('Зарплата.в.месяц', 'min'), max = ('Зарплата.в.месяц', 'max'))\n",
    "salary_per_month"
   ]
  },
  {
   "cell_type": "markdown",
   "id": "21a661ed-ea9b-47a9-9378-a323ecf91468",
   "metadata": {},
   "source": [
    "Створіть функцію fill_avg_salary, яка повертатиме середнє значення заробітної плати на місяць. Використовуйте її для методу apply та створіть новий стовпчик \"avg\""
   ]
  },
  {
   "cell_type": "code",
   "execution_count": 15,
   "id": "5ea389d9-5032-4f62-ac9a-befd35523ac3",
   "metadata": {},
   "outputs": [
    {
     "data": {
      "text/html": [
       "<div>\n",
       "<style scoped>\n",
       "    .dataframe tbody tr th:only-of-type {\n",
       "        vertical-align: middle;\n",
       "    }\n",
       "\n",
       "    .dataframe tbody tr th {\n",
       "        vertical-align: top;\n",
       "    }\n",
       "\n",
       "    .dataframe thead th {\n",
       "        text-align: right;\n",
       "    }\n",
       "</style>\n",
       "<table border=\"1\" class=\"dataframe\">\n",
       "  <thead>\n",
       "    <tr style=\"text-align: right;\">\n",
       "      <th></th>\n",
       "      <th>min</th>\n",
       "      <th>max</th>\n",
       "      <th>avg</th>\n",
       "    </tr>\n",
       "    <tr>\n",
       "      <th>Должность</th>\n",
       "      <th></th>\n",
       "      <th></th>\n",
       "      <th></th>\n",
       "    </tr>\n",
       "  </thead>\n",
       "  <tbody>\n",
       "    <tr>\n",
       "      <th>Junior Software Engineer</th>\n",
       "      <td>100</td>\n",
       "      <td>1250</td>\n",
       "      <td>560.841270</td>\n",
       "    </tr>\n",
       "    <tr>\n",
       "      <th>Senior Software Engineer</th>\n",
       "      <td>1300</td>\n",
       "      <td>9200</td>\n",
       "      <td>3387.096774</td>\n",
       "    </tr>\n",
       "    <tr>\n",
       "      <th>Software Engineer</th>\n",
       "      <td>500</td>\n",
       "      <td>5400</td>\n",
       "      <td>1799.070000</td>\n",
       "    </tr>\n",
       "    <tr>\n",
       "      <th>System Architect</th>\n",
       "      <td>3000</td>\n",
       "      <td>5000</td>\n",
       "      <td>4000.000000</td>\n",
       "    </tr>\n",
       "    <tr>\n",
       "      <th>Technical Lead</th>\n",
       "      <td>1425</td>\n",
       "      <td>6200</td>\n",
       "      <td>3165.909091</td>\n",
       "    </tr>\n",
       "  </tbody>\n",
       "</table>\n",
       "</div>"
      ],
      "text/plain": [
       "                           min   max          avg\n",
       "Должность                                        \n",
       "Junior Software Engineer   100  1250   560.841270\n",
       "Senior Software Engineer  1300  9200  3387.096774\n",
       "Software Engineer          500  5400  1799.070000\n",
       "System Architect          3000  5000  4000.000000\n",
       "Technical Lead            1425  6200  3165.909091"
      ]
     },
     "execution_count": 15,
     "metadata": {},
     "output_type": "execute_result"
    }
   ],
   "source": [
    "salary_per_month_mean = tmp.agg(avg = ('Зарплата.в.месяц', 'mean'))\n",
    "\n",
    "def fill_avg_salary(row):\n",
    "    return salary_per_month_mean.loc[row.name][\"avg\"]\n",
    "\n",
    "salary_per_month[\"avg\"] = salary_per_month.apply(fill_avg_salary, axis=1)\n",
    "salary_per_month"
   ]
  },
  {
   "cell_type": "markdown",
   "id": "0972ab3c-d77c-42be-a2c8-577ac2e3fe8b",
   "metadata": {},
   "source": [
    "Створіть описову статистику за допомогою методу describe для нового стовпчика."
   ]
  },
  {
   "cell_type": "code",
   "execution_count": 16,
   "id": "bf972e0b-a6c4-47c0-94fc-a5771a0480f8",
   "metadata": {},
   "outputs": [
    {
     "data": {
      "text/plain": [
       "count       5.000000\n",
       "mean     2582.583427\n",
       "std      1387.255829\n",
       "min       560.841270\n",
       "25%      1799.070000\n",
       "50%      3165.909091\n",
       "75%      3387.096774\n",
       "max      4000.000000\n",
       "Name: avg, dtype: float64"
      ]
     },
     "execution_count": 16,
     "metadata": {},
     "output_type": "execute_result"
    }
   ],
   "source": [
    "salary_per_month['avg'].describe()"
   ]
  },
  {
   "cell_type": "markdown",
   "id": "9e303c4b-3193-42c1-8ced-2347a27a683b",
   "metadata": {},
   "source": [
    "Збережіть отриману таблицю в CSV файл"
   ]
  },
  {
   "cell_type": "code",
   "execution_count": 17,
   "id": "e6c21baf-c93b-45c4-bc66-e1dd44d8cbb7",
   "metadata": {},
   "outputs": [],
   "source": [
    "salary_per_month.to_csv(\"salary_per_month.csv\")"
   ]
  },
  {
   "cell_type": "code",
   "execution_count": 18,
   "id": "19dcb822-f30a-4f76-8dce-aa48e35cc9e7",
   "metadata": {},
   "outputs": [
    {
     "data": {
      "image/png": "[encoded data removed]",
      "text/plain": [
       "<Figure size 640x480 with 1 Axes>"
      ]
     },
     "metadata": {},
     "output_type": "display_data"
    }
   ],
   "source": [
    "plt.xlabel('Позиція', fontsize='small', color='midnightblue')\n",
    "plt.ylabel('$', fontsize='medium', color='midnightblue', rotation=\"horizontal\")\n",
    "plt.xticks(rotation=20)\n",
    "plt.title('Середня зарплатня Python-розробників у 2017 році в Україні', fontsize=15)\n",
    "plt.bar(salary_per_month.index, salary_per_month[\"avg\"], color=[\"b\", \"r\", \"y\", \"g\", \"m\"],)\n",
    "plt.show()"
   ]
  },
  {
   "cell_type": "code",
   "execution_count": 19,
   "id": "6b7f9024-5f74-46ce-a7fb-3b984133e0dd",
   "metadata": {},
   "outputs": [
    {
     "data": {
      "image/png": "[encoded data removed]",
      "text/plain": [
       "<Figure size 640x480 with 1 Axes>"
      ]
     },
     "metadata": {},
     "output_type": "display_data"
    }
   ],
   "source": [
    "sct_plot = sns.scatterplot(x='exp', y='salary', hue='Должность', data=python_data).set(title=\"Зарплатня Python-розробників в залежності від досвіду та позиції\", xlabel='Досвід роботи, рр.', ylabel='Зарплатня, $')\n",
    "plt.legend(title=\"Позиція\")\n",
    "plt.show()"
   ]
  },
  {
   "cell_type": "code",
   "execution_count": 20,
   "id": "7f7a4e9c-00ea-40fc-9ea9-6ec81448239d",
   "metadata": {},
   "outputs": [
    {
     "data": {
      "image/png": "[encoded data removed]",
      "text/plain": [
       "<Figure size 1800x800 with 1 Axes>"
      ]
     },
     "metadata": {},
     "output_type": "display_data"
    }
   ],
   "source": [
    "width = 18\n",
    "height = 8\n",
    "sns.set(rc = {'figure.figsize':(width, height)})\n",
    "swrm_plot = sns.swarmplot(x='Должность', y='salary', hue='Должность', data=python_data).set(title=\"Розподіл Python-розробників в залежності від позиції та зарплатні\", xlabel='Позиція', ylabel='Зарплатня, $')"
   ]
  }
 ],
 "metadata": {
  "kernelspec": {
   "display_name": "Python 3 (ipykernel)",
   "language": "python",
   "name": "python3"
  },
  "language_info": {
   "codemirror_mode": {
    "name": "ipython",
    "version": 3
   },
   "file_extension": ".py",
   "mimetype": "text/x-python",
   "name": "python",
   "nbconvert_exporter": "python",
   "pygments_lexer": "ipython3",
   "version": "3.11.4"
  }
 },
 "nbformat": 4,
 "nbformat_minor": 5
}
