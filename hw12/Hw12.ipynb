{
 "cells": [
  {
   "cell_type": "markdown",
   "id": "5ea5c1f5-5fd9-4af1-9ad0-bacd1e2972e6",
   "metadata": {},
   "source": [
    "# Домашнє завдання\n",
    "\n",
    "\n",
    "\n",
    "Зробіть summary нижчевказаного тексту використовуючи бібліотеки для NLP: nltk та SpaCy"
   ]
  },
  {
   "cell_type": "markdown",
   "id": "da1d674c-ad8d-40fd-b055-adc42fe78a74",
   "metadata": {},
   "source": [
    "Перш за все, ми повинні імпортувати необхідні бібліотеки. Для SpaCy це можна зробити за допомогою команди: import spacy. Зауважте, що для NLTK можливо потрібно завантажити додаткові дані, наприклад, список стоп-слів або токенізатори"
   ]
  },
  {
   "cell_type": "code",
   "execution_count": 1,
   "id": "fe67353a-2fe1-489c-980a-5640d25fcb27",
   "metadata": {
    "tags": []
   },
   "outputs": [],
   "source": [
    "import spacy\n",
    "import nltk\n",
    "from nltk.corpus import stopwords\n",
    "from nltk.tokenize import word_tokenize, sent_tokenize\n",
    "from string import punctuation\n",
    "from heapq import nlargest"
   ]
  },
  {
   "cell_type": "markdown",
   "id": "6fb1262f-9b2e-46b5-b7f5-9826269104a6",
   "metadata": {},
   "source": [
    "Перш ніж почати роботу з SpaCy, необхідно завантажити потрібну мовну модель. Наприклад, для англійської мови ми можемо завантажити модель \"en_core_web_sm\""
   ]
  },
  {
   "cell_type": "code",
   "execution_count": 2,
   "id": "439d42c8-a25b-4872-8ec4-210bb52e1bb6",
   "metadata": {},
   "outputs": [],
   "source": [
    "nlp = spacy.load('en_core_web_sm')"
   ]
  },
  {
   "cell_type": "code",
   "execution_count": 3,
   "id": "ccf6ad05-466d-4a65-8fab-58132df9e0a9",
   "metadata": {},
   "outputs": [],
   "source": [
    "# Текст для обробки\n",
    "text = \"The Orbiter Discovery, OV-103, is considered eligible for listing in the National Register of Historic Places (NRHP) in the context of the U.S. Space Shuttle Program (1969-2011) under Criterion A in the areas of Space Exploration and Transportation and under Criterion C in the area of Engineering. Because it has achieved significance within the past fifty years, Criteria Consideration G applies. Under Criterion A, Discovery is significant as the oldest of the three extant orbiter vehicles constructed for the Space Shuttle Program (SSP), the longest running American space program to date; she was the third of five orbiters built by NASA. Unlike the Mercury, Gemini, and Apollo programs, the SSP’s emphasis was on cost effectiveness and reusability, and eventually the construction of a space station. Including her maiden voyage (launched August 30, 1984), Discovery flew to space thirty-nine times, more than any of the other four orbiters; she was also the first orbiter to fly twenty missions. She had the honor of being chosen as the Return to Flight vehicle after both the Challenger and Columbia accidents. Discovery was the first shuttle to fly with the redesigned SRBs, a result of the Challenger accident, and the first shuttle to fly with the Phase II and Block I SSME. Discovery also carried the Hubble Space Telescope to orbit and performed two of the five servicing missions to the observatory. She flew the first and last dedicated Department of Defense (DoD) missions, as well as the first unclassified defense-related mission. In addition, Discovery was vital to the construction of the International Space Station (ISS); she flew thirteen of the thirty-seven total missions flown to the station by a U.S. Space Shuttle. She was the first orbiter to dock to the ISS, and the first to perform an exchange of a resident crew. Under Criterion C, Discovery is significant as a feat of engineering. According to Wayne Hale, a flight director from Johnson Space Center, the Space Shuttle orbiter represents a “huge technological leap from expendable rockets and capsules to a reusable, winged, hypersonic, cargo-carrying spacecraft.” Although her base structure followed a conventional aircraft design, she used advanced materials that both minimized her weight for cargo-carrying purposes and featured low thermal expansion ratios, which provided a stable base for her Thermal Protection System (TPS) materials. The Space Shuttle orbiter also featured the first reusable TPS; all previous spaceflight vehicles had a single-use, ablative heat shield. Other notable engineering achievements of the orbiter included the first reusable orbital propulsion system, and the first two-fault-tolerant Integrated Avionics System. As Hale stated, the Space Shuttle remains “the largest, fastest, winged hypersonic aircraft in history,” having regularly flown at twenty-five times the speed of sound.\""
   ]
  },
  {
   "cell_type": "markdown",
   "id": "315937c2-327f-4994-bc61-6b8cfd109f3c",
   "metadata": {},
   "source": [
    "Перш ніж почати створювати text summary, текст потрібно підготувати. Це включає в себе видалення непотрібних символів, токенізацію (розбиття тексту на окремі слова або речення), видалення стоп-слів (слова, які не несуть суттєвої інформації) і, за необхідності, інші обробки тексту, такі як стемінг або лематизація"
   ]
  },
  {
   "cell_type": "code",
   "execution_count": 4,
   "id": "b1eb49cf-a186-4764-ac02-6fd67d2d41d6",
   "metadata": {
    "tags": []
   },
   "outputs": [
    {
     "name": "stdout",
     "output_type": "stream",
     "text": [
      "['The', 'Orbiter', 'Discovery', ',', 'OV-103', ',', 'is', 'considered', 'eligible', 'for', 'listing', 'in', 'the', 'National', 'Register', 'of', 'Historic', 'Places', '(', 'NRHP', ')', 'in', 'the', 'context', 'of', 'the', 'U.S.', 'Space', 'Shuttle', 'Program', '(', '1969', '-', '2011', ')', 'under', 'Criterion', 'A', 'in', 'the', 'areas', 'of', 'Space', 'Exploration', 'and', 'Transportation', 'and', 'under', 'Criterion', 'C', 'in', 'the', 'area', 'of', 'Engineering', '.', 'Because', 'it', 'has', 'achieved', 'significance', 'within', 'the', 'past', 'fifty', 'years', ',', 'Criteria', 'Consideration', 'G', 'applies', '.', 'Under', 'Criterion', 'A', ',', 'Discovery', 'is', 'significant', 'as', 'the', 'oldest', 'of', 'the', 'three', 'extant', 'orbiter', 'vehicles', 'constructed', 'for', 'the', 'Space', 'Shuttle', 'Program', '(', 'SSP', ')', ',', 'the', 'longest', 'running', 'American', 'space', 'program', 'to', 'date', ';', 'she', 'was', 'the', 'third', 'of', 'five', 'orbiters', 'built', 'by', 'NASA', '.', 'Unlike', 'the', 'Mercury', ',', 'Gemini', ',', 'and', 'Apollo', 'programs', ',', 'the', 'SSP', '’s', 'emphasis', 'was', 'on', 'cost', 'effectiveness', 'and', 'reusability', ',', 'and', 'eventually', 'the', 'construction', 'of', 'a', 'space', 'station', '.', 'Including', 'her', 'maiden', 'voyage', '(', 'launched', 'August', '30', ',', '1984', ')', ',', 'Discovery', 'flew', 'to', 'space', 'thirty', '-', 'nine', 'times', ',', 'more', 'than', 'any', 'of', 'the', 'other', 'four', 'orbiters', ';', 'she', 'was', 'also', 'the', 'first', 'orbiter', 'to', 'fly', 'twenty', 'missions', '.', 'She', 'had', 'the', 'honor', 'of', 'being', 'chosen', 'as', 'the', 'Return', 'to', 'Flight', 'vehicle', 'after', 'both', 'the', 'Challenger', 'and', 'Columbia', 'accidents', '.', 'Discovery', 'was', 'the', 'first', 'shuttle', 'to', 'fly', 'with', 'the', 'redesigned', 'SRBs', ',', 'a', 'result', 'of', 'the', 'Challenger', 'accident', ',', 'and', 'the', 'first', 'shuttle', 'to', 'fly', 'with', 'the', 'Phase', 'II', 'and', 'Block', 'I', 'SSME', '.', 'Discovery', 'also', 'carried', 'the', 'Hubble', 'Space', 'Telescope', 'to', 'orbit', 'and', 'performed', 'two', 'of', 'the', 'five', 'servicing', 'missions', 'to', 'the', 'observatory', '.', 'She', 'flew', 'the', 'first', 'and', 'last', 'dedicated', 'Department', 'of', 'Defense', '(', 'DoD', ')', 'missions', ',', 'as', 'well', 'as', 'the', 'first', 'unclassified', 'defense', '-', 'related', 'mission', '.', 'In', 'addition', ',', 'Discovery', 'was', 'vital', 'to', 'the', 'construction', 'of', 'the', 'International', 'Space', 'Station', '(', 'ISS', ')', ';', 'she', 'flew', 'thirteen', 'of', 'the', 'thirty', '-', 'seven', 'total', 'missions', 'flown', 'to', 'the', 'station', 'by', 'a', 'U.S.', 'Space', 'Shuttle', '.', 'She', 'was', 'the', 'first', 'orbiter', 'to', 'dock', 'to', 'the', 'ISS', ',', 'and', 'the', 'first', 'to', 'perform', 'an', 'exchange', 'of', 'a', 'resident', 'crew', '.', 'Under', 'Criterion', 'C', ',', 'Discovery', 'is', 'significant', 'as', 'a', 'feat', 'of', 'engineering', '.', 'According', 'to', 'Wayne', 'Hale', ',', 'a', 'flight', 'director', 'from', 'Johnson', 'Space', 'Center', ',', 'the', 'Space', 'Shuttle', 'orbiter', 'represents', 'a', '“', 'huge', 'technological', 'leap', 'from', 'expendable', 'rockets', 'and', 'capsules', 'to', 'a', 'reusable', ',', 'winged', ',', 'hypersonic', ',', 'cargo', '-', 'carrying', 'spacecraft', '.', '”', 'Although', 'her', 'base', 'structure', 'followed', 'a', 'conventional', 'aircraft', 'design', ',', 'she', 'used', 'advanced', 'materials', 'that', 'both', 'minimized', 'her', 'weight', 'for', 'cargo', '-', 'carrying', 'purposes', 'and', 'featured', 'low', 'thermal', 'expansion', 'ratios', ',', 'which', 'provided', 'a', 'stable', 'base', 'for', 'her', 'Thermal', 'Protection', 'System', '(', 'TPS', ')', 'materials', '.', 'The', 'Space', 'Shuttle', 'orbiter', 'also', 'featured', 'the', 'first', 'reusable', 'TPS', ';', 'all', 'previous', 'spaceflight', 'vehicles', 'had', 'a', 'single', '-', 'use', ',', 'ablative', 'heat', 'shield', '.', 'Other', 'notable', 'engineering', 'achievements', 'of', 'the', 'orbiter', 'included', 'the', 'first', 'reusable', 'orbital', 'propulsion', 'system', ',', 'and', 'the', 'first', 'two', '-', 'fault', '-', 'tolerant', 'Integrated', 'Avionics', 'System', '.', 'As', 'Hale', 'stated', ',', 'the', 'Space', 'Shuttle', 'remains', '“', 'the', 'largest', ',', 'fastest', ',', 'winged', 'hypersonic', 'aircraft', 'in', 'history', ',', '”', 'having', 'regularly', 'flown', 'at', 'twenty', '-', 'five', 'times', 'the', 'speed', 'of', 'sound', '.']\n"
     ]
    }
   ],
   "source": [
    "# Токенізація\n",
    "doc = nlp(text)\n",
    "tokens = [token.text for token in doc]\n",
    "print(tokens)"
   ]
  },
  {
   "cell_type": "markdown",
   "id": "5b66ec74-cc44-4ae8-bf59-3f7f6ef9fe12",
   "metadata": {},
   "source": [
    "NLTK також надає розширені функції для обробки тексту. За допомогою методів NLTK, таких як word_tokenize, sent_tokenize або stopwords, ми можемо отримати токенізовані слова та речення, а також список стоп-слів"
   ]
  },
  {
   "cell_type": "code",
   "execution_count": 5,
   "id": "b870546f-5c06-45af-9342-e02160b9e89b",
   "metadata": {
    "tags": []
   },
   "outputs": [],
   "source": [
    "tokens = word_tokenize(text)\n",
    "sentence_tokens = sent_tokenize(text)\n",
    "stop_words = set(stopwords.words('english'))"
   ]
  },
  {
   "cell_type": "markdown",
   "id": "893119af-e137-4c3b-a000-d3b42c382fe3",
   "metadata": {},
   "source": [
    "І також не забуваємо про знаки пунктуації"
   ]
  },
  {
   "cell_type": "code",
   "execution_count": 6,
   "id": "38b7aac1-26e9-4347-9c2d-1859123fee8b",
   "metadata": {
    "tags": []
   },
   "outputs": [],
   "source": [
    "punctuation = list(punctuation)\n",
    "punctuation = punctuation + ['\\n']"
   ]
  },
  {
   "cell_type": "markdown",
   "id": "784e8abe-d23f-40b8-b122-ef696618a365",
   "metadata": {},
   "source": [
    "Також можна порахувати частоту появи тих чи інших слів у тексті(але варто пам'ятати, що це треба робити, вже виключивши усі знаки пунктуації)"
   ]
  },
  {
   "cell_type": "code",
   "execution_count": 7,
   "id": "64b0d03b-bf2f-421b-9e0b-1adac8a18f72",
   "metadata": {
    "tags": []
   },
   "outputs": [],
   "source": [
    "word_frequencies = {}\n",
    "for word in doc:\n",
    "  if word.text.lower() not in stop_words:\n",
    "    if word.text.lower() not in punctuation:\n",
    "      if word.text not in word_frequencies.keys():\n",
    "        word_frequencies[word.text] = 1\n",
    "      else:\n",
    "        word_frequencies[word.text] += 1"
   ]
  },
  {
   "cell_type": "markdown",
   "id": "874006a1-f091-45ad-96c0-b154fe1ae596",
   "metadata": {},
   "source": [
    "Коли ми вже маємо підготовлений текст та використали SpaCy або NLTK для отримання необхідної інформації, ми можемо створити текстове резюме. Це можна зробити, наприклад, шляхом виділення найважливіших речень з тексту, враховуючи їх вагу або частоту вживання певних слів.\n",
    "\n",
    "Отже, відсортуємо речення по вазі, яка представляє з себе суму рейтингів слів у реченнях, де рейтинг слова - кількість випадків його появи у всьому тексті загалом:"
   ]
  },
  {
   "cell_type": "code",
   "execution_count": 8,
   "id": "74628718-1e63-49ae-9a94-20a9910dcfb9",
   "metadata": {
    "tags": []
   },
   "outputs": [],
   "source": [
    "sentence_scores = {}\n",
    "for sentence in sentence_tokens:\n",
    "    word_tokens = word_tokenize(sentence)\n",
    "    sentence_scores[sentence] = 0\n",
    "    for word in word_tokens:\n",
    "        sentence_scores[sentence] += word_frequencies.get(word, 0)"
   ]
  },
  {
   "cell_type": "markdown",
   "id": "da662f86-f80c-4987-9ee8-41d966b55bf6",
   "metadata": {},
   "source": [
    "Бібліотека heapq є частиною стандартної бібліотеки Python і надає функціонал для роботи зі структурами даних під назвою heap. Один з імпортованих об’єктів у цій бібліотеці - nlargest - є функцією, яка дозволяє знаходити найбільші елементи з ітерабельного об’єкту.\n",
    "\n",
    "Функція `nlargest(n, iterable, key=None)` приймає три аргументи: n - це кількість найбільших елементів, які ви хочете отримати iterable - це ітерабельний об’єкт, з якого ви хочете вибрати найбільші елементи key (необов’язковий) - це функція, яка визначає, за яким ключем відбувається порівняння елементів (наприклад, key=str.lower).\n",
    "\n",
    "Функція nlargest повертає список з n найбільших елементів з iterable. Ці елементи будуть впорядковані у порядку спадання. Якщо n більше довжини iterable, то функція поверне весь iterable у відсортованому порядку.\n",
    "\n",
    "Отже, імпортований from heapq import nlargest дозволяє використовувати функцію `nlargest` для знаходження найбільших елементів з довільного ітерабельного об’єкту.\n",
    "\n",
    "У нашому випадку виділимо три речення з найбільшою вагою та відсортуємо їх у порядку появи у тексті. Це й буде шуканим summary нашого тексту:"
   ]
  },
  {
   "cell_type": "code",
   "execution_count": 9,
   "id": "d1b715ac-6b48-44e8-87c3-5ff4e851f195",
   "metadata": {
    "tags": []
   },
   "outputs": [
    {
     "data": {
      "text/plain": [
       "'The Orbiter Discovery, OV-103, is considered eligible for listing in the National Register of Historic Places (NRHP) in the context of the U.S. Space Shuttle Program (1969-2011) under Criterion A in the areas of Space Exploration and Transportation and under Criterion C in the area of Engineering. Under Criterion A, Discovery is significant as the oldest of the three extant orbiter vehicles constructed for the Space Shuttle Program (SSP), the longest running American space program to date; she was the third of five orbiters built by NASA. According to Wayne Hale, a flight director from Johnson Space Center, the Space Shuttle orbiter represents a “huge technological leap from expendable rockets and capsules to a reusable, winged, hypersonic, cargo-carrying spacecraft.” Although her base structure followed a conventional aircraft design, she used advanced materials that both minimized her weight for cargo-carrying purposes and featured low thermal expansion ratios, which provided a stable base for her Thermal Protection System (TPS) materials.'"
      ]
     },
     "execution_count": 9,
     "metadata": {},
     "output_type": "execute_result"
    }
   ],
   "source": [
    "select_length = 3#int(len(sentence_tokens))\n",
    "tmp = nlargest(select_length, sentence_scores, key = sentence_scores.get)\n",
    "summary = []\n",
    "for sentence in sentence_tokens:\n",
    "    if sentence in tmp:\n",
    "        summary.append(sentence)\n",
    "        tmp.remove(sentence)\n",
    "        if not tmp:\n",
    "            break\n",
    "summary = \" \".join(summary)\n",
    "summary"
   ]
  },
  {
   "cell_type": "markdown",
   "id": "0d601bcb-b739-4743-958b-98778d63f0e0",
   "metadata": {},
   "source": [
    "### Висновок\n",
    "У цьому завданні нам успішно вдалося виділити summary заданого тексту, використовуючи бібліотеки для NLP: nltk та SpaCy."
   ]
  }
 ],
 "metadata": {
  "kernelspec": {
   "display_name": "Python 3 (ipykernel)",
   "language": "python",
   "name": "python3"
  },
  "language_info": {
   "codemirror_mode": {
    "name": "ipython",
    "version": 3
   },
   "file_extension": ".py",
   "mimetype": "text/x-python",
   "name": "python",
   "nbconvert_exporter": "python",
   "pygments_lexer": "ipython3",
   "version": "3.11.5"
  }
 },
 "nbformat": 4,
 "nbformat_minor": 5
}
