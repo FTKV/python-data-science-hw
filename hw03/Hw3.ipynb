{
 "cells": [
  {
   "cell_type": "markdown",
   "id": "8a5bdfdb-d652-404b-9dfd-cb5d01977174",
   "metadata": {},
   "source": [
    "# Домашнє завдання\n",
    "Дане домашнє завдання буде повністю пов'язане з лінійною регресією та її реалізацією. Отож розіб'ємо наше домашнє завдання на декілька частин:"
   ]
  },
  {
   "cell_type": "code",
   "execution_count": 1,
   "id": "571d2034-fb57-4710-88df-7c6b1d8bc6ce",
   "metadata": {},
   "outputs": [],
   "source": [
    "import numpy as np\n",
    "import pandas as pd\n",
    "import matplotlib.pyplot as plt\n",
    "import seaborn as sns\n",
    "\n",
    "%matplotlib inline"
   ]
  },
  {
   "cell_type": "markdown",
   "id": "3fa6b917-7430-4f07-8dd7-20474c461d56",
   "metadata": {},
   "source": [
    "напишіть функцію гіпотези лінійної регресії у векторному вигляді;"
   ]
  },
  {
   "cell_type": "code",
   "execution_count": 2,
   "id": "dc8889a8-40ea-42cb-bc3a-d4509ff0d75c",
   "metadata": {},
   "outputs": [],
   "source": [
    "def lin_reg_func(w, x):\n",
    "    return x.dot(w)"
   ]
  },
  {
   "cell_type": "markdown",
   "id": "7308201c-793c-4d02-bd63-de6ca4017fd8",
   "metadata": {},
   "source": [
    "створіть функцію для обчислення функції втрат у векторному вигляді;"
   ]
  },
  {
   "cell_type": "code",
   "execution_count": 3,
   "id": "18f3bb3c-5163-4470-85be-6bd2f23734ca",
   "metadata": {},
   "outputs": [],
   "source": [
    "def loss_func(h, y):\n",
    "    loss = (h - y) ** 2 / (2 * y.shape[0])\n",
    "    loss = loss.sum() ** (1/2)\n",
    "    return loss.values"
   ]
  },
  {
   "cell_type": "markdown",
   "id": "39fdb26f-3bb8-4062-af99-7ebe9ec49cd5",
   "metadata": {},
   "source": [
    "реалізуйте один крок градієнтного спуску;"
   ]
  },
  {
   "cell_type": "code",
   "execution_count": 4,
   "id": "a091ad9c-f0d3-4977-aa48-e73ddf631634",
   "metadata": {},
   "outputs": [],
   "source": [
    "data = pd.read_csv(\"Housing.csv\")"
   ]
  },
  {
   "cell_type": "code",
   "execution_count": 5,
   "id": "201d5096-96cd-4016-92a4-a0173cd8da6b",
   "metadata": {},
   "outputs": [],
   "source": [
    "m = data.shape[0]\n",
    "x = data[[\"area\", \"bathrooms\", \"bedrooms\"]].astype(float)\n",
    "x.insert(0, \"x_0\", np.ones(m))\n",
    "y = pd.DataFrame(data[\"price\"].values.astype(float))\n",
    "w_prev = pd.DataFrame(np.random.randint(-1e6, 1e6, size=(x.shape[1])), index=x.columns, dtype=float)\n",
    "LEARNING_RATE = 1e-8\n",
    "x_t = x.T\n",
    "J = x_t.dot(x.dot(w_prev) - y) / m\n",
    "w = w_prev - LEARNING_RATE * J"
   ]
  },
  {
   "cell_type": "markdown",
   "id": "942c4fea-87cb-4954-ab5c-7ef906249377",
   "metadata": {},
   "source": [
    "Початкові параметри:"
   ]
  },
  {
   "cell_type": "code",
   "execution_count": 6,
   "id": "009515d3-a55d-41fd-ba85-88ff462b03f4",
   "metadata": {},
   "outputs": [
    {
     "data": {
      "text/html": [
       "<div>\n",
       "<style scoped>\n",
       "    .dataframe tbody tr th:only-of-type {\n",
       "        vertical-align: middle;\n",
       "    }\n",
       "\n",
       "    .dataframe tbody tr th {\n",
       "        vertical-align: top;\n",
       "    }\n",
       "\n",
       "    .dataframe thead th {\n",
       "        text-align: right;\n",
       "    }\n",
       "</style>\n",
       "<table border=\"1\" class=\"dataframe\">\n",
       "  <thead>\n",
       "    <tr style=\"text-align: right;\">\n",
       "      <th></th>\n",
       "      <th>0</th>\n",
       "    </tr>\n",
       "  </thead>\n",
       "  <tbody>\n",
       "    <tr>\n",
       "      <th>x_0</th>\n",
       "      <td>298978.0</td>\n",
       "    </tr>\n",
       "    <tr>\n",
       "      <th>area</th>\n",
       "      <td>88778.0</td>\n",
       "    </tr>\n",
       "    <tr>\n",
       "      <th>bathrooms</th>\n",
       "      <td>-621809.0</td>\n",
       "    </tr>\n",
       "    <tr>\n",
       "      <th>bedrooms</th>\n",
       "      <td>622462.0</td>\n",
       "    </tr>\n",
       "  </tbody>\n",
       "</table>\n",
       "</div>"
      ],
      "text/plain": [
       "                  0\n",
       "x_0        298978.0\n",
       "area        88778.0\n",
       "bathrooms -621809.0\n",
       "bedrooms   622462.0"
      ]
     },
     "execution_count": 6,
     "metadata": {},
     "output_type": "execute_result"
    }
   ],
   "source": [
    "w_prev"
   ]
  },
  {
   "cell_type": "markdown",
   "id": "223a12d8-d13a-463f-ba6d-e08d160ae2f3",
   "metadata": {},
   "source": [
    "Параметри після одного кроку:"
   ]
  },
  {
   "cell_type": "code",
   "execution_count": 7,
   "id": "19c89801-e668-4754-92fd-7f384381f917",
   "metadata": {},
   "outputs": [
    {
     "data": {
      "text/html": [
       "<div>\n",
       "<style scoped>\n",
       "    .dataframe tbody tr th:only-of-type {\n",
       "        vertical-align: middle;\n",
       "    }\n",
       "\n",
       "    .dataframe tbody tr th {\n",
       "        vertical-align: top;\n",
       "    }\n",
       "\n",
       "    .dataframe thead th {\n",
       "        text-align: right;\n",
       "    }\n",
       "</style>\n",
       "<table border=\"1\" class=\"dataframe\">\n",
       "  <thead>\n",
       "    <tr style=\"text-align: right;\">\n",
       "      <th></th>\n",
       "      <th>0</th>\n",
       "    </tr>\n",
       "  </thead>\n",
       "  <tbody>\n",
       "    <tr>\n",
       "      <th>x_0</th>\n",
       "      <td>298973.461671</td>\n",
       "    </tr>\n",
       "    <tr>\n",
       "      <th>area</th>\n",
       "      <td>61251.327767</td>\n",
       "    </tr>\n",
       "    <tr>\n",
       "      <th>bathrooms</th>\n",
       "      <td>-621815.019098</td>\n",
       "    </tr>\n",
       "    <tr>\n",
       "      <th>bedrooms</th>\n",
       "      <td>622448.330216</td>\n",
       "    </tr>\n",
       "  </tbody>\n",
       "</table>\n",
       "</div>"
      ],
      "text/plain": [
       "                       0\n",
       "x_0        298973.461671\n",
       "area        61251.327767\n",
       "bathrooms -621815.019098\n",
       "bedrooms   622448.330216"
      ]
     },
     "execution_count": 7,
     "metadata": {},
     "output_type": "execute_result"
    }
   ],
   "source": [
    "w"
   ]
  },
  {
   "cell_type": "markdown",
   "id": "5613232e-8aa0-4bec-83bb-b8d031ec96dc",
   "metadata": {},
   "source": [
    "знайдіть найкращі параметри $\\vec{w}$ для датасету прогнозуючу ціну на будинок залежно від площі, кількості ванних кімнат та кількості спалень;"
   ]
  },
  {
   "cell_type": "code",
   "execution_count": 8,
   "id": "0df6e289-bb7c-4e86-832c-f13da3ea2142",
   "metadata": {},
   "outputs": [],
   "source": [
    "def grad_descent(w, x, y, num_iter, learning_rate, epsilon = 1e-8):\n",
    "\n",
    "    m = x.shape[0]\n",
    "    x_t = x.T\n",
    "    loss = loss_func(lin_reg_func(w, x), y)\n",
    "    loss_history = [loss]\n",
    "\n",
    "    for i in range(num_iter):\n",
    "      J = x_t.dot(x.dot(w) - y) / m\n",
    "      w = w - learning_rate * J\n",
    "      loss = loss_func(lin_reg_func(w, x), y)\n",
    "      loss_history.append(loss)\n",
    "      if abs(loss - loss_history[-2]) / loss < epsilon:\n",
    "        break\n",
    "\n",
    "    return w, i, loss_history"
   ]
  },
  {
   "cell_type": "markdown",
   "id": "2c4636f4-24bb-48c8-9f43-da90b60a9142",
   "metadata": {},
   "source": [
    "Початкові параметри:"
   ]
  },
  {
   "cell_type": "code",
   "execution_count": 9,
   "id": "31bb38e5-0d93-43f3-8c17-ab48a6b23d87",
   "metadata": {},
   "outputs": [
    {
     "data": {
      "text/html": [
       "<div>\n",
       "<style scoped>\n",
       "    .dataframe tbody tr th:only-of-type {\n",
       "        vertical-align: middle;\n",
       "    }\n",
       "\n",
       "    .dataframe tbody tr th {\n",
       "        vertical-align: top;\n",
       "    }\n",
       "\n",
       "    .dataframe thead th {\n",
       "        text-align: right;\n",
       "    }\n",
       "</style>\n",
       "<table border=\"1\" class=\"dataframe\">\n",
       "  <thead>\n",
       "    <tr style=\"text-align: right;\">\n",
       "      <th></th>\n",
       "      <th>0</th>\n",
       "    </tr>\n",
       "  </thead>\n",
       "  <tbody>\n",
       "    <tr>\n",
       "      <th>x_0</th>\n",
       "      <td>1000.0</td>\n",
       "    </tr>\n",
       "    <tr>\n",
       "      <th>area</th>\n",
       "      <td>1000.0</td>\n",
       "    </tr>\n",
       "    <tr>\n",
       "      <th>bathrooms</th>\n",
       "      <td>1000.0</td>\n",
       "    </tr>\n",
       "    <tr>\n",
       "      <th>bedrooms</th>\n",
       "      <td>1000.0</td>\n",
       "    </tr>\n",
       "  </tbody>\n",
       "</table>\n",
       "</div>"
      ],
      "text/plain": [
       "                0\n",
       "x_0        1000.0\n",
       "area       1000.0\n",
       "bathrooms  1000.0\n",
       "bedrooms   1000.0"
      ]
     },
     "execution_count": 9,
     "metadata": {},
     "output_type": "execute_result"
    }
   ],
   "source": [
    "w = pd.DataFrame(1e3 * np.ones(x.shape[1]), index=x.columns, dtype=float)\n",
    "w"
   ]
  },
  {
   "cell_type": "code",
   "execution_count": 10,
   "id": "194d2428-537f-4322-87ba-8c25594123db",
   "metadata": {},
   "outputs": [],
   "source": [
    "w, i, loss_history = grad_descent(w, x, y, 10000, learning_rate = 1e-9)"
   ]
  },
  {
   "cell_type": "markdown",
   "id": "46041718-abe9-4256-ab8d-277836448a2e",
   "metadata": {},
   "source": [
    "Оптимізовані параметри:"
   ]
  },
  {
   "cell_type": "code",
   "execution_count": 11,
   "id": "2a825922-eb69-4d84-99db-e3584499b10a",
   "metadata": {},
   "outputs": [
    {
     "data": {
      "text/html": [
       "<div>\n",
       "<style scoped>\n",
       "    .dataframe tbody tr th:only-of-type {\n",
       "        vertical-align: middle;\n",
       "    }\n",
       "\n",
       "    .dataframe tbody tr th {\n",
       "        vertical-align: top;\n",
       "    }\n",
       "\n",
       "    .dataframe thead th {\n",
       "        text-align: right;\n",
       "    }\n",
       "</style>\n",
       "<table border=\"1\" class=\"dataframe\">\n",
       "  <thead>\n",
       "    <tr style=\"text-align: right;\">\n",
       "      <th></th>\n",
       "      <th>0</th>\n",
       "    </tr>\n",
       "  </thead>\n",
       "  <tbody>\n",
       "    <tr>\n",
       "      <th>x_0</th>\n",
       "      <td>1000.052476</td>\n",
       "    </tr>\n",
       "    <tr>\n",
       "      <th>area</th>\n",
       "      <td>854.997851</td>\n",
       "    </tr>\n",
       "    <tr>\n",
       "      <th>bathrooms</th>\n",
       "      <td>1000.131438</td>\n",
       "    </tr>\n",
       "    <tr>\n",
       "      <th>bedrooms</th>\n",
       "      <td>1000.217689</td>\n",
       "    </tr>\n",
       "  </tbody>\n",
       "</table>\n",
       "</div>"
      ],
      "text/plain": [
       "                     0\n",
       "x_0        1000.052476\n",
       "area        854.997851\n",
       "bathrooms  1000.131438\n",
       "bedrooms   1000.217689"
      ]
     },
     "execution_count": 11,
     "metadata": {},
     "output_type": "execute_result"
    }
   ],
   "source": [
    "w"
   ]
  },
  {
   "cell_type": "markdown",
   "id": "d4a0125f-a4aa-4f42-9d20-69edabdb8b57",
   "metadata": {},
   "source": [
    "Кількість ітерацій та остаточне значення функції втрат:"
   ]
  },
  {
   "cell_type": "code",
   "execution_count": 12,
   "id": "a5baa623-b657-43da-99e2-0fc38673fed0",
   "metadata": {},
   "outputs": [
    {
     "data": {
      "text/plain": [
       "(212, 1292631.0092073057)"
      ]
     },
     "execution_count": 12,
     "metadata": {},
     "output_type": "execute_result"
    }
   ],
   "source": [
    "i, loss_history[-1][0]"
   ]
  },
  {
   "cell_type": "code",
   "execution_count": 13,
   "id": "aa9c8811-bbd4-446d-9282-50f79724f8c0",
   "metadata": {},
   "outputs": [
    {
     "data": {
      "image/png": "[encoded data removed]",
      "text/plain": [
       "<Figure size 640x480 with 1 Axes>"
      ]
     },
     "metadata": {},
     "output_type": "display_data"
    }
   ],
   "source": [
    "xx = pd.DataFrame(np.arange(-1e3, 2e3, 1e1))\n",
    "ww = pd.DataFrame([w[0] for i in range(xx.shape[0])])\n",
    "ww[\"area\"] = xx.values\n",
    "ww = ww.T\n",
    "ll = loss_func(lin_reg_func(ww, x), y)\n",
    "plt.plot(xx, ll, label='day temperature')\n",
    "plt.xlabel('Coefficient w_1 (at \"area\" feature)', fontsize='small', color='midnightblue')\n",
    "plt.ylabel('Loss value', fontsize='small', color='midnightblue')\n",
    "plt.title('Loss value depending on \"area\" coefficient', fontsize=15)\n",
    "plt.show()"
   ]
  },
  {
   "cell_type": "markdown",
   "id": "e5fc5d45-e960-4439-a40f-7d37609a320d",
   "metadata": {},
   "source": [
    "Як видно з результату роботи алгоритму градієнтного спуску усі коефіцієнти моделі, крім коефіцієнта при змінній, що відповідає площі будинка, майже не змінилися в процесі його роботи, хоча й нам вдалося досягти локального мінімуму функції втрат. Це видно з графіка вище, де по осі X відкладені різні значення коефіцієнта при змінній, що відповідає площі будинка, при зафіксованих інших коефіцієнтах, а по осі Y значення функції втрат (середнє квадратичне по всім семплам) для данного сету коефіцієнтів."
   ]
  },
  {
   "cell_type": "markdown",
   "id": "10a7c26b-f3bb-4ede-89f2-163831225075",
   "metadata": {},
   "source": [
    "знайдіть ці ж параметри за допомогою аналітичного рішення;"
   ]
  },
  {
   "cell_type": "code",
   "execution_count": 14,
   "id": "3a23745d-d8b4-40de-a566-acab6da996a8",
   "metadata": {},
   "outputs": [],
   "source": [
    "x_t = x.T\n",
    "tmp = x_t.dot(x)\n",
    "tmp = pd.DataFrame(np.linalg.inv(tmp.values), tmp.columns, tmp.index)\n",
    "tmp = tmp.dot(x_t)\n",
    "w1 = tmp.dot(y)"
   ]
  },
  {
   "cell_type": "code",
   "execution_count": 15,
   "id": "4dc12826-7f8a-4ec9-bd70-32c18cf6041f",
   "metadata": {},
   "outputs": [],
   "source": [
    "w2 = pd.DataFrame(np.linalg.pinv(x.values), x.columns, x.index).dot(y)"
   ]
  },
  {
   "cell_type": "markdown",
   "id": "fd9c8543-4f3f-4798-b699-10acfbdb64fc",
   "metadata": {},
   "source": [
    "порівняйте отримані результати."
   ]
  },
  {
   "cell_type": "markdown",
   "id": "dcc6584a-2703-498e-b1cf-3f98740504ce",
   "metadata": {},
   "source": [
    "Значення коефіцієнтів, знайдених за допомогою аналітичного рішення двома еквівалентними способами:"
   ]
  },
  {
   "cell_type": "code",
   "execution_count": 16,
   "id": "5c602990-dc47-457f-b448-579127754ccf",
   "metadata": {},
   "outputs": [
    {
     "data": {
      "text/html": [
       "<div>\n",
       "<style scoped>\n",
       "    .dataframe tbody tr th:only-of-type {\n",
       "        vertical-align: middle;\n",
       "    }\n",
       "\n",
       "    .dataframe tbody tr th {\n",
       "        vertical-align: top;\n",
       "    }\n",
       "\n",
       "    .dataframe thead th {\n",
       "        text-align: right;\n",
       "    }\n",
       "</style>\n",
       "<table border=\"1\" class=\"dataframe\">\n",
       "  <thead>\n",
       "    <tr style=\"text-align: right;\">\n",
       "      <th></th>\n",
       "      <th>0</th>\n",
       "    </tr>\n",
       "  </thead>\n",
       "  <tbody>\n",
       "    <tr>\n",
       "      <th>x_0</th>\n",
       "      <td>-1.731716e+05</td>\n",
       "    </tr>\n",
       "    <tr>\n",
       "      <th>area</th>\n",
       "      <td>3.787628e+02</td>\n",
       "    </tr>\n",
       "    <tr>\n",
       "      <th>bathrooms</th>\n",
       "      <td>1.386049e+06</td>\n",
       "    </tr>\n",
       "    <tr>\n",
       "      <th>bedrooms</th>\n",
       "      <td>4.068200e+05</td>\n",
       "    </tr>\n",
       "  </tbody>\n",
       "</table>\n",
       "</div>"
      ],
      "text/plain": [
       "                      0\n",
       "x_0       -1.731716e+05\n",
       "area       3.787628e+02\n",
       "bathrooms  1.386049e+06\n",
       "bedrooms   4.068200e+05"
      ]
     },
     "execution_count": 16,
     "metadata": {},
     "output_type": "execute_result"
    }
   ],
   "source": [
    "w1"
   ]
  },
  {
   "cell_type": "code",
   "execution_count": 17,
   "id": "3ebf23b1-fe84-4046-99bb-7e9de3fe5109",
   "metadata": {},
   "outputs": [
    {
     "data": {
      "text/html": [
       "<div>\n",
       "<style scoped>\n",
       "    .dataframe tbody tr th:only-of-type {\n",
       "        vertical-align: middle;\n",
       "    }\n",
       "\n",
       "    .dataframe tbody tr th {\n",
       "        vertical-align: top;\n",
       "    }\n",
       "\n",
       "    .dataframe thead th {\n",
       "        text-align: right;\n",
       "    }\n",
       "</style>\n",
       "<table border=\"1\" class=\"dataframe\">\n",
       "  <thead>\n",
       "    <tr style=\"text-align: right;\">\n",
       "      <th></th>\n",
       "      <th>0</th>\n",
       "    </tr>\n",
       "  </thead>\n",
       "  <tbody>\n",
       "    <tr>\n",
       "      <th>x_0</th>\n",
       "      <td>-1.731716e+05</td>\n",
       "    </tr>\n",
       "    <tr>\n",
       "      <th>area</th>\n",
       "      <td>3.787628e+02</td>\n",
       "    </tr>\n",
       "    <tr>\n",
       "      <th>bathrooms</th>\n",
       "      <td>1.386049e+06</td>\n",
       "    </tr>\n",
       "    <tr>\n",
       "      <th>bedrooms</th>\n",
       "      <td>4.068200e+05</td>\n",
       "    </tr>\n",
       "  </tbody>\n",
       "</table>\n",
       "</div>"
      ],
      "text/plain": [
       "                      0\n",
       "x_0       -1.731716e+05\n",
       "area       3.787628e+02\n",
       "bathrooms  1.386049e+06\n",
       "bedrooms   4.068200e+05"
      ]
     },
     "execution_count": 17,
     "metadata": {},
     "output_type": "execute_result"
    }
   ],
   "source": [
    "w2"
   ]
  },
  {
   "cell_type": "markdown",
   "id": "ca4a8097-3158-4ee6-bb2c-11ddc12f13cb",
   "metadata": {},
   "source": [
    "Значення функції втрат для сету коефіцієнтів, знайдених за допомогою аналітичного рішення:"
   ]
  },
  {
   "cell_type": "code",
   "execution_count": 18,
   "id": "bedea40c-141c-41a4-a4db-7588e2de4e5a",
   "metadata": {},
   "outputs": [
    {
     "data": {
      "text/plain": [
       "946353.5412247685"
      ]
     },
     "execution_count": 18,
     "metadata": {},
     "output_type": "execute_result"
    }
   ],
   "source": [
    "loss_func(lin_reg_func(w1, x), y)[0]"
   ]
  },
  {
   "cell_type": "markdown",
   "id": "02a73ab3-be01-440a-adae-60c41267043c",
   "metadata": {},
   "source": [
    "Як бачимо, значення похибки в цьому випадку нижче на майже 37%, хоча й залишається достатньо великим. Можна було б очікувати, що аналітичне рішення дозволить знизити похибку майже до нуля, але це могло б сталися, якби матричне рівняння з коефіцієнтами, ознаками та таргетом мало розв'язок. Натомість це не відповідає нашому кейсу (як і ймовірно будь-якому кейсу з реальними даними). Відтак, проблема потребує подальшого дослідження."
   ]
  }
 ],
 "metadata": {
  "kernelspec": {
   "display_name": "Python 3 (ipykernel)",
   "language": "python",
   "name": "python3"
  },
  "language_info": {
   "codemirror_mode": {
    "name": "ipython",
    "version": 3
   },
   "file_extension": ".py",
   "mimetype": "text/x-python",
   "name": "python",
   "nbconvert_exporter": "python",
   "pygments_lexer": "ipython3",
   "version": "3.11.4"
  }
 },
 "nbformat": 4,
 "nbformat_minor": 5
}
